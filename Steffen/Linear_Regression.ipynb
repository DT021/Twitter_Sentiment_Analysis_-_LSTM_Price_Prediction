{
 "cells": [
  {
   "cell_type": "code",
   "execution_count": null,
   "metadata": {},
   "outputs": [],
   "source": [
    "import numpy as np\n",
    "import pandas as pd\n",
    "from pathlib import Path\n",
    "%matplotlib inline\n",
    "import pickle\n",
    "import hvplot.pandas"
   ]
  },
  {
   "cell_type": "code",
   "execution_count": 115,
   "metadata": {},
   "outputs": [],
   "source": [
    "from sklearn.linear_model import LinearRegression\n",
    "from sklearn.metrics import mean_squared_error, r2_score"
   ]
  },
  {
   "cell_type": "code",
   "execution_count": 99,
   "metadata": {},
   "outputs": [
    {
     "data": {
      "text/html": [
       "<div>\n",
       "<style scoped>\n",
       "    .dataframe tbody tr th:only-of-type {\n",
       "        vertical-align: middle;\n",
       "    }\n",
       "\n",
       "    .dataframe tbody tr th {\n",
       "        vertical-align: top;\n",
       "    }\n",
       "\n",
       "    .dataframe thead th {\n",
       "        text-align: right;\n",
       "    }\n",
       "</style>\n",
       "<table border=\"1\" class=\"dataframe\">\n",
       "  <thead>\n",
       "    <tr style=\"text-align: right;\">\n",
       "      <th></th>\n",
       "      <th>MSFT_open</th>\n",
       "      <th>MSFT_high</th>\n",
       "      <th>MSFT_low</th>\n",
       "      <th>MSFT_close</th>\n",
       "      <th>AMD_open</th>\n",
       "      <th>AMD_high</th>\n",
       "      <th>AMD_low</th>\n",
       "      <th>AMD_close</th>\n",
       "      <th>TSLA_open</th>\n",
       "      <th>TSLA_high</th>\n",
       "      <th>...</th>\n",
       "      <th>JNJ_low</th>\n",
       "      <th>JNJ_close</th>\n",
       "      <th>REGN_open</th>\n",
       "      <th>REGN_high</th>\n",
       "      <th>REGN_low</th>\n",
       "      <th>REGN_close</th>\n",
       "      <th>GILD_open</th>\n",
       "      <th>GILD_high</th>\n",
       "      <th>GILD_low</th>\n",
       "      <th>GILD_close</th>\n",
       "    </tr>\n",
       "  </thead>\n",
       "  <tbody>\n",
       "    <tr>\n",
       "      <th>2010-06-29</th>\n",
       "      <td>24.13</td>\n",
       "      <td>24.20</td>\n",
       "      <td>23.110</td>\n",
       "      <td>23.31</td>\n",
       "      <td>7.93</td>\n",
       "      <td>7.93</td>\n",
       "      <td>7.41</td>\n",
       "      <td>7.48</td>\n",
       "      <td>19.00</td>\n",
       "      <td>25.0000</td>\n",
       "      <td>...</td>\n",
       "      <td>58.680</td>\n",
       "      <td>59.24</td>\n",
       "      <td>23.67</td>\n",
       "      <td>23.95</td>\n",
       "      <td>22.86</td>\n",
       "      <td>22.98</td>\n",
       "      <td>35.40</td>\n",
       "      <td>35.61</td>\n",
       "      <td>34.740</td>\n",
       "      <td>34.97</td>\n",
       "    </tr>\n",
       "    <tr>\n",
       "      <th>2010-06-30</th>\n",
       "      <td>23.30</td>\n",
       "      <td>23.68</td>\n",
       "      <td>22.950</td>\n",
       "      <td>23.01</td>\n",
       "      <td>7.58</td>\n",
       "      <td>7.65</td>\n",
       "      <td>7.30</td>\n",
       "      <td>7.32</td>\n",
       "      <td>25.79</td>\n",
       "      <td>30.4192</td>\n",
       "      <td>...</td>\n",
       "      <td>58.940</td>\n",
       "      <td>59.06</td>\n",
       "      <td>23.05</td>\n",
       "      <td>23.47</td>\n",
       "      <td>22.32</td>\n",
       "      <td>22.32</td>\n",
       "      <td>34.83</td>\n",
       "      <td>35.13</td>\n",
       "      <td>34.260</td>\n",
       "      <td>34.28</td>\n",
       "    </tr>\n",
       "    <tr>\n",
       "      <th>2010-07-01</th>\n",
       "      <td>23.09</td>\n",
       "      <td>23.32</td>\n",
       "      <td>22.730</td>\n",
       "      <td>23.16</td>\n",
       "      <td>7.35</td>\n",
       "      <td>7.53</td>\n",
       "      <td>7.10</td>\n",
       "      <td>7.39</td>\n",
       "      <td>25.00</td>\n",
       "      <td>25.9200</td>\n",
       "      <td>...</td>\n",
       "      <td>58.650</td>\n",
       "      <td>59.07</td>\n",
       "      <td>22.31</td>\n",
       "      <td>22.37</td>\n",
       "      <td>20.45</td>\n",
       "      <td>20.79</td>\n",
       "      <td>34.24</td>\n",
       "      <td>34.27</td>\n",
       "      <td>33.300</td>\n",
       "      <td>34.14</td>\n",
       "    </tr>\n",
       "    <tr>\n",
       "      <th>2010-07-02</th>\n",
       "      <td>23.36</td>\n",
       "      <td>23.48</td>\n",
       "      <td>23.050</td>\n",
       "      <td>23.27</td>\n",
       "      <td>7.45</td>\n",
       "      <td>7.48</td>\n",
       "      <td>7.02</td>\n",
       "      <td>7.17</td>\n",
       "      <td>23.00</td>\n",
       "      <td>23.1000</td>\n",
       "      <td>...</td>\n",
       "      <td>58.850</td>\n",
       "      <td>59.08</td>\n",
       "      <td>21.06</td>\n",
       "      <td>21.88</td>\n",
       "      <td>20.75</td>\n",
       "      <td>21.61</td>\n",
       "      <td>34.38</td>\n",
       "      <td>35.16</td>\n",
       "      <td>34.180</td>\n",
       "      <td>34.87</td>\n",
       "    </tr>\n",
       "    <tr>\n",
       "      <th>2010-07-06</th>\n",
       "      <td>23.70</td>\n",
       "      <td>24.09</td>\n",
       "      <td>23.584</td>\n",
       "      <td>23.82</td>\n",
       "      <td>7.40</td>\n",
       "      <td>7.42</td>\n",
       "      <td>6.96</td>\n",
       "      <td>7.04</td>\n",
       "      <td>20.00</td>\n",
       "      <td>20.0000</td>\n",
       "      <td>...</td>\n",
       "      <td>58.669</td>\n",
       "      <td>59.08</td>\n",
       "      <td>22.03</td>\n",
       "      <td>22.03</td>\n",
       "      <td>21.16</td>\n",
       "      <td>21.36</td>\n",
       "      <td>35.11</td>\n",
       "      <td>35.42</td>\n",
       "      <td>34.415</td>\n",
       "      <td>34.77</td>\n",
       "    </tr>\n",
       "  </tbody>\n",
       "</table>\n",
       "<p>5 rows × 24 columns</p>\n",
       "</div>"
      ],
      "text/plain": [
       "            MSFT_open  MSFT_high  MSFT_low  MSFT_close  AMD_open  AMD_high  \\\n",
       "2010-06-29      24.13      24.20    23.110       23.31      7.93      7.93   \n",
       "2010-06-30      23.30      23.68    22.950       23.01      7.58      7.65   \n",
       "2010-07-01      23.09      23.32    22.730       23.16      7.35      7.53   \n",
       "2010-07-02      23.36      23.48    23.050       23.27      7.45      7.48   \n",
       "2010-07-06      23.70      24.09    23.584       23.82      7.40      7.42   \n",
       "\n",
       "            AMD_low  AMD_close  TSLA_open  TSLA_high  ...  JNJ_low  JNJ_close  \\\n",
       "2010-06-29     7.41       7.48      19.00    25.0000  ...   58.680      59.24   \n",
       "2010-06-30     7.30       7.32      25.79    30.4192  ...   58.940      59.06   \n",
       "2010-07-01     7.10       7.39      25.00    25.9200  ...   58.650      59.07   \n",
       "2010-07-02     7.02       7.17      23.00    23.1000  ...   58.850      59.08   \n",
       "2010-07-06     6.96       7.04      20.00    20.0000  ...   58.669      59.08   \n",
       "\n",
       "            REGN_open  REGN_high  REGN_low  REGN_close  GILD_open  GILD_high  \\\n",
       "2010-06-29      23.67      23.95     22.86       22.98      35.40      35.61   \n",
       "2010-06-30      23.05      23.47     22.32       22.32      34.83      35.13   \n",
       "2010-07-01      22.31      22.37     20.45       20.79      34.24      34.27   \n",
       "2010-07-02      21.06      21.88     20.75       21.61      34.38      35.16   \n",
       "2010-07-06      22.03      22.03     21.16       21.36      35.11      35.42   \n",
       "\n",
       "            GILD_low  GILD_close  \n",
       "2010-06-29    34.740       34.97  \n",
       "2010-06-30    34.260       34.28  \n",
       "2010-07-01    33.300       34.14  \n",
       "2010-07-02    34.180       34.87  \n",
       "2010-07-06    34.415       34.77  \n",
       "\n",
       "[5 rows x 24 columns]"
      ]
     },
     "execution_count": 99,
     "metadata": {},
     "output_type": "execute_result"
    }
   ],
   "source": [
    "df = pd.read_csv(\n",
    "    Path('../data/stocks_history.csv'),\n",
    "    index_col='Unnamed: 0',\n",
    "    infer_datetime_format=True,\n",
    "    parse_dates=True\n",
    ")\n",
    "df.head()"
   ]
  },
  {
   "cell_type": "code",
   "execution_count": 100,
   "metadata": {},
   "outputs": [
    {
     "data": {
      "text/html": [
       "<div>\n",
       "<style scoped>\n",
       "    .dataframe tbody tr th:only-of-type {\n",
       "        vertical-align: middle;\n",
       "    }\n",
       "\n",
       "    .dataframe tbody tr th {\n",
       "        vertical-align: top;\n",
       "    }\n",
       "\n",
       "    .dataframe thead th {\n",
       "        text-align: right;\n",
       "    }\n",
       "</style>\n",
       "<table border=\"1\" class=\"dataframe\">\n",
       "  <thead>\n",
       "    <tr style=\"text-align: right;\">\n",
       "      <th></th>\n",
       "      <th>MSFT_close</th>\n",
       "      <th>AMD_close</th>\n",
       "      <th>TSLA_close</th>\n",
       "      <th>JNJ_close</th>\n",
       "      <th>REGN_close</th>\n",
       "      <th>GILD_close</th>\n",
       "    </tr>\n",
       "  </thead>\n",
       "  <tbody>\n",
       "    <tr>\n",
       "      <th>2010-06-29</th>\n",
       "      <td>23.31</td>\n",
       "      <td>7.48</td>\n",
       "      <td>23.89</td>\n",
       "      <td>59.24</td>\n",
       "      <td>22.98</td>\n",
       "      <td>34.97</td>\n",
       "    </tr>\n",
       "    <tr>\n",
       "      <th>2010-06-30</th>\n",
       "      <td>23.01</td>\n",
       "      <td>7.32</td>\n",
       "      <td>23.83</td>\n",
       "      <td>59.06</td>\n",
       "      <td>22.32</td>\n",
       "      <td>34.28</td>\n",
       "    </tr>\n",
       "    <tr>\n",
       "      <th>2010-07-01</th>\n",
       "      <td>23.16</td>\n",
       "      <td>7.39</td>\n",
       "      <td>21.96</td>\n",
       "      <td>59.07</td>\n",
       "      <td>20.79</td>\n",
       "      <td>34.14</td>\n",
       "    </tr>\n",
       "    <tr>\n",
       "      <th>2010-07-02</th>\n",
       "      <td>23.27</td>\n",
       "      <td>7.17</td>\n",
       "      <td>19.20</td>\n",
       "      <td>59.08</td>\n",
       "      <td>21.61</td>\n",
       "      <td>34.87</td>\n",
       "    </tr>\n",
       "    <tr>\n",
       "      <th>2010-07-06</th>\n",
       "      <td>23.82</td>\n",
       "      <td>7.04</td>\n",
       "      <td>16.11</td>\n",
       "      <td>59.08</td>\n",
       "      <td>21.36</td>\n",
       "      <td>34.77</td>\n",
       "    </tr>\n",
       "  </tbody>\n",
       "</table>\n",
       "</div>"
      ],
      "text/plain": [
       "            MSFT_close  AMD_close  TSLA_close  JNJ_close  REGN_close  \\\n",
       "2010-06-29       23.31       7.48       23.89      59.24       22.98   \n",
       "2010-06-30       23.01       7.32       23.83      59.06       22.32   \n",
       "2010-07-01       23.16       7.39       21.96      59.07       20.79   \n",
       "2010-07-02       23.27       7.17       19.20      59.08       21.61   \n",
       "2010-07-06       23.82       7.04       16.11      59.08       21.36   \n",
       "\n",
       "            GILD_close  \n",
       "2010-06-29       34.97  \n",
       "2010-06-30       34.28  \n",
       "2010-07-01       34.14  \n",
       "2010-07-02       34.87  \n",
       "2010-07-06       34.77  "
      ]
     },
     "execution_count": 100,
     "metadata": {},
     "output_type": "execute_result"
    }
   ],
   "source": [
    "# drop all columns except closing prices\n",
    "dropped_columns = [\n",
    "    'MSFT_open',\n",
    "    'MSFT_high',\n",
    "    'MSFT_low',\n",
    "    'TSLA_open',\n",
    "    'TSLA_high',\n",
    "    'TSLA_low',\n",
    "    'JNJ_open',\n",
    "    'JNJ_high',\n",
    "    'JNJ_low',\n",
    "    'REGN_open',\n",
    "    'REGN_high',\n",
    "    'REGN_low',\n",
    "    'GILD_open',\n",
    "    'GILD_high',\n",
    "    'GILD_low',\n",
    "    'AMD_open',\n",
    "    'AMD_high',\n",
    "    'AMD_low',\n",
    "]\n",
    "df.drop(columns=dropped_columns, inplace=True)\n",
    "df.head()"
   ]
  },
  {
   "cell_type": "code",
   "execution_count": 102,
   "metadata": {},
   "outputs": [
    {
     "data": {
      "text/plain": [
       "<matplotlib.axes._subplots.AxesSubplot at 0x7fe16fc19a90>"
      ]
     },
     "execution_count": 102,
     "metadata": {},
     "output_type": "execute_result"
    },
    {
     "data": {
      "image/png": "[encoded data removed]",
      "text/plain": [
       "<Figure size 432x288 with 1 Axes>"
      ]
     },
     "metadata": {
      "needs_background": "light"
     },
     "output_type": "display_data"
    }
   ],
   "source": [
    "df['TSLA_close'].plot()"
   ]
  },
  {
   "cell_type": "code",
   "execution_count": null,
   "metadata": {},
   "outputs": [],
   "source": [
    "df.plot()"
   ]
  },
  {
   "cell_type": "code",
   "execution_count": 103,
   "metadata": {},
   "outputs": [],
   "source": [
    "df['MSFT_return'] = df['MSFT_close'].pct_change() * 100\n",
    "df['MSFT_lagged_return'] = df['MSFT_return'].shift()\n",
    "df['AMD_return'] = df['AMD_close'].pct_change() * 100\n",
    "df['AMD_lagged_return'] = df['AMD_return'].shift()\n",
    "df['TSLA_return'] = df['TSLA_close'].pct_change() * 100\n",
    "df['TSLA_lagged_return'] = df['TSLA_return'].shift()\n",
    "df['JNJ_return'] = df['JNJ_close'].pct_change() * 100\n",
    "df['JNJ_lagged_return'] = df['JNJ_return'].shift()\n",
    "df['REGN_return'] = df['REGN_close'].pct_change() * 100\n",
    "df['REGN_lagged_return'] = df['REGN_return'].shift()\n",
    "df['GILD_return'] = df['GILD_close'].pct_change() * 100\n",
    "df['GILD_lagged_return'] = df['GILD_return'].shift()"
   ]
  },
  {
   "cell_type": "code",
   "execution_count": 104,
   "metadata": {},
   "outputs": [
    {
     "data": {
      "text/html": [
       "<div>\n",
       "<style scoped>\n",
       "    .dataframe tbody tr th:only-of-type {\n",
       "        vertical-align: middle;\n",
       "    }\n",
       "\n",
       "    .dataframe tbody tr th {\n",
       "        vertical-align: top;\n",
       "    }\n",
       "\n",
       "    .dataframe thead th {\n",
       "        text-align: right;\n",
       "    }\n",
       "</style>\n",
       "<table border=\"1\" class=\"dataframe\">\n",
       "  <thead>\n",
       "    <tr style=\"text-align: right;\">\n",
       "      <th></th>\n",
       "      <th>MSFT_close</th>\n",
       "      <th>AMD_close</th>\n",
       "      <th>TSLA_close</th>\n",
       "      <th>JNJ_close</th>\n",
       "      <th>REGN_close</th>\n",
       "      <th>GILD_close</th>\n",
       "      <th>MSFT_return</th>\n",
       "      <th>MSFT_lagged_return</th>\n",
       "      <th>AMD_return</th>\n",
       "      <th>AMD_lagged_return</th>\n",
       "      <th>TSLA_return</th>\n",
       "      <th>TSLA_lagged_return</th>\n",
       "      <th>JNJ_return</th>\n",
       "      <th>JNJ_lagged_return</th>\n",
       "      <th>REGN_return</th>\n",
       "      <th>REGN_lagged_return</th>\n",
       "      <th>GILD_return</th>\n",
       "      <th>GILD_lagged_return</th>\n",
       "    </tr>\n",
       "  </thead>\n",
       "  <tbody>\n",
       "    <tr>\n",
       "      <th>2020-06-30</th>\n",
       "      <td>203.51</td>\n",
       "      <td>52.61</td>\n",
       "      <td>1079.81</td>\n",
       "      <td>140.63</td>\n",
       "      <td>623.65</td>\n",
       "      <td>76.94</td>\n",
       "      <td>2.554928</td>\n",
       "      <td>1.074721</td>\n",
       "      <td>4.634049</td>\n",
       "      <td>0.359281</td>\n",
       "      <td>6.980730</td>\n",
       "      <td>5.169108</td>\n",
       "      <td>1.143556</td>\n",
       "      <td>0.892533</td>\n",
       "      <td>2.092098</td>\n",
       "      <td>-0.080149</td>\n",
       "      <td>3.192060</td>\n",
       "      <td>-0.013410</td>\n",
       "    </tr>\n",
       "    <tr>\n",
       "      <th>2020-07-01</th>\n",
       "      <td>204.70</td>\n",
       "      <td>52.58</td>\n",
       "      <td>1119.63</td>\n",
       "      <td>140.38</td>\n",
       "      <td>609.17</td>\n",
       "      <td>76.06</td>\n",
       "      <td>0.584738</td>\n",
       "      <td>2.554928</td>\n",
       "      <td>-0.057023</td>\n",
       "      <td>4.634049</td>\n",
       "      <td>3.687686</td>\n",
       "      <td>6.980730</td>\n",
       "      <td>-0.177771</td>\n",
       "      <td>1.143556</td>\n",
       "      <td>-2.321815</td>\n",
       "      <td>2.092098</td>\n",
       "      <td>-1.143748</td>\n",
       "      <td>3.192060</td>\n",
       "    </tr>\n",
       "    <tr>\n",
       "      <th>2020-07-02</th>\n",
       "      <td>206.26</td>\n",
       "      <td>52.34</td>\n",
       "      <td>1208.66</td>\n",
       "      <td>140.97</td>\n",
       "      <td>622.45</td>\n",
       "      <td>76.35</td>\n",
       "      <td>0.762091</td>\n",
       "      <td>0.584738</td>\n",
       "      <td>-0.456447</td>\n",
       "      <td>-0.057023</td>\n",
       "      <td>7.951734</td>\n",
       "      <td>3.687686</td>\n",
       "      <td>0.420288</td>\n",
       "      <td>-0.177771</td>\n",
       "      <td>2.180015</td>\n",
       "      <td>-2.321815</td>\n",
       "      <td>0.381278</td>\n",
       "      <td>-1.143748</td>\n",
       "    </tr>\n",
       "    <tr>\n",
       "      <th>2020-07-06</th>\n",
       "      <td>210.70</td>\n",
       "      <td>53.40</td>\n",
       "      <td>1371.58</td>\n",
       "      <td>142.98</td>\n",
       "      <td>627.25</td>\n",
       "      <td>76.76</td>\n",
       "      <td>2.152623</td>\n",
       "      <td>0.762091</td>\n",
       "      <td>2.025220</td>\n",
       "      <td>-0.456447</td>\n",
       "      <td>13.479390</td>\n",
       "      <td>7.951734</td>\n",
       "      <td>1.425835</td>\n",
       "      <td>0.420288</td>\n",
       "      <td>0.771146</td>\n",
       "      <td>2.180015</td>\n",
       "      <td>0.537001</td>\n",
       "      <td>0.381278</td>\n",
       "    </tr>\n",
       "    <tr>\n",
       "      <th>2020-07-07</th>\n",
       "      <td>208.25</td>\n",
       "      <td>52.93</td>\n",
       "      <td>1389.86</td>\n",
       "      <td>142.85</td>\n",
       "      <td>640.88</td>\n",
       "      <td>76.42</td>\n",
       "      <td>-1.162791</td>\n",
       "      <td>2.152623</td>\n",
       "      <td>-0.880150</td>\n",
       "      <td>2.025220</td>\n",
       "      <td>1.332770</td>\n",
       "      <td>13.479390</td>\n",
       "      <td>-0.090922</td>\n",
       "      <td>1.425835</td>\n",
       "      <td>2.172977</td>\n",
       "      <td>0.771146</td>\n",
       "      <td>-0.442939</td>\n",
       "      <td>0.537001</td>\n",
       "    </tr>\n",
       "  </tbody>\n",
       "</table>\n",
       "</div>"
      ],
      "text/plain": [
       "            MSFT_close  AMD_close  TSLA_close  JNJ_close  REGN_close  \\\n",
       "2020-06-30      203.51      52.61     1079.81     140.63      623.65   \n",
       "2020-07-01      204.70      52.58     1119.63     140.38      609.17   \n",
       "2020-07-02      206.26      52.34     1208.66     140.97      622.45   \n",
       "2020-07-06      210.70      53.40     1371.58     142.98      627.25   \n",
       "2020-07-07      208.25      52.93     1389.86     142.85      640.88   \n",
       "\n",
       "            GILD_close  MSFT_return  MSFT_lagged_return  AMD_return  \\\n",
       "2020-06-30       76.94     2.554928            1.074721    4.634049   \n",
       "2020-07-01       76.06     0.584738            2.554928   -0.057023   \n",
       "2020-07-02       76.35     0.762091            0.584738   -0.456447   \n",
       "2020-07-06       76.76     2.152623            0.762091    2.025220   \n",
       "2020-07-07       76.42    -1.162791            2.152623   -0.880150   \n",
       "\n",
       "            AMD_lagged_return  TSLA_return  TSLA_lagged_return  JNJ_return  \\\n",
       "2020-06-30           0.359281     6.980730            5.169108    1.143556   \n",
       "2020-07-01           4.634049     3.687686            6.980730   -0.177771   \n",
       "2020-07-02          -0.057023     7.951734            3.687686    0.420288   \n",
       "2020-07-06          -0.456447    13.479390            7.951734    1.425835   \n",
       "2020-07-07           2.025220     1.332770           13.479390   -0.090922   \n",
       "\n",
       "            JNJ_lagged_return  REGN_return  REGN_lagged_return  GILD_return  \\\n",
       "2020-06-30           0.892533     2.092098           -0.080149     3.192060   \n",
       "2020-07-01           1.143556    -2.321815            2.092098    -1.143748   \n",
       "2020-07-02          -0.177771     2.180015           -2.321815     0.381278   \n",
       "2020-07-06           0.420288     0.771146            2.180015     0.537001   \n",
       "2020-07-07           1.425835     2.172977            0.771146    -0.442939   \n",
       "\n",
       "            GILD_lagged_return  \n",
       "2020-06-30           -0.013410  \n",
       "2020-07-01            3.192060  \n",
       "2020-07-02           -1.143748  \n",
       "2020-07-06            0.381278  \n",
       "2020-07-07            0.537001  "
      ]
     },
     "execution_count": 104,
     "metadata": {},
     "output_type": "execute_result"
    }
   ],
   "source": [
    "df.tail()"
   ]
  },
  {
   "cell_type": "code",
   "execution_count": 105,
   "metadata": {},
   "outputs": [
    {
     "data": {
      "text/html": [
       "<div>\n",
       "<style scoped>\n",
       "    .dataframe tbody tr th:only-of-type {\n",
       "        vertical-align: middle;\n",
       "    }\n",
       "\n",
       "    .dataframe tbody tr th {\n",
       "        vertical-align: top;\n",
       "    }\n",
       "\n",
       "    .dataframe thead th {\n",
       "        text-align: right;\n",
       "    }\n",
       "</style>\n",
       "<table border=\"1\" class=\"dataframe\">\n",
       "  <thead>\n",
       "    <tr style=\"text-align: right;\">\n",
       "      <th></th>\n",
       "      <th>MSFT_close</th>\n",
       "      <th>AMD_close</th>\n",
       "      <th>TSLA_close</th>\n",
       "      <th>JNJ_close</th>\n",
       "      <th>REGN_close</th>\n",
       "      <th>GILD_close</th>\n",
       "      <th>MSFT_return</th>\n",
       "      <th>MSFT_lagged_return</th>\n",
       "      <th>AMD_return</th>\n",
       "      <th>AMD_lagged_return</th>\n",
       "      <th>TSLA_return</th>\n",
       "      <th>TSLA_lagged_return</th>\n",
       "      <th>JNJ_return</th>\n",
       "      <th>JNJ_lagged_return</th>\n",
       "      <th>REGN_return</th>\n",
       "      <th>REGN_lagged_return</th>\n",
       "      <th>GILD_return</th>\n",
       "      <th>GILD_lagged_return</th>\n",
       "    </tr>\n",
       "  </thead>\n",
       "  <tbody>\n",
       "    <tr>\n",
       "      <th>2020-06-30</th>\n",
       "      <td>203.51</td>\n",
       "      <td>52.61</td>\n",
       "      <td>1079.81</td>\n",
       "      <td>140.63</td>\n",
       "      <td>623.65</td>\n",
       "      <td>76.94</td>\n",
       "      <td>2.554928</td>\n",
       "      <td>1.074721</td>\n",
       "      <td>4.634049</td>\n",
       "      <td>0.359281</td>\n",
       "      <td>6.980730</td>\n",
       "      <td>5.169108</td>\n",
       "      <td>1.143556</td>\n",
       "      <td>0.892533</td>\n",
       "      <td>2.092098</td>\n",
       "      <td>-0.080149</td>\n",
       "      <td>3.192060</td>\n",
       "      <td>-0.013410</td>\n",
       "    </tr>\n",
       "    <tr>\n",
       "      <th>2020-07-01</th>\n",
       "      <td>204.70</td>\n",
       "      <td>52.58</td>\n",
       "      <td>1119.63</td>\n",
       "      <td>140.38</td>\n",
       "      <td>609.17</td>\n",
       "      <td>76.06</td>\n",
       "      <td>0.584738</td>\n",
       "      <td>2.554928</td>\n",
       "      <td>-0.057023</td>\n",
       "      <td>4.634049</td>\n",
       "      <td>3.687686</td>\n",
       "      <td>6.980730</td>\n",
       "      <td>-0.177771</td>\n",
       "      <td>1.143556</td>\n",
       "      <td>-2.321815</td>\n",
       "      <td>2.092098</td>\n",
       "      <td>-1.143748</td>\n",
       "      <td>3.192060</td>\n",
       "    </tr>\n",
       "    <tr>\n",
       "      <th>2020-07-02</th>\n",
       "      <td>206.26</td>\n",
       "      <td>52.34</td>\n",
       "      <td>1208.66</td>\n",
       "      <td>140.97</td>\n",
       "      <td>622.45</td>\n",
       "      <td>76.35</td>\n",
       "      <td>0.762091</td>\n",
       "      <td>0.584738</td>\n",
       "      <td>-0.456447</td>\n",
       "      <td>-0.057023</td>\n",
       "      <td>7.951734</td>\n",
       "      <td>3.687686</td>\n",
       "      <td>0.420288</td>\n",
       "      <td>-0.177771</td>\n",
       "      <td>2.180015</td>\n",
       "      <td>-2.321815</td>\n",
       "      <td>0.381278</td>\n",
       "      <td>-1.143748</td>\n",
       "    </tr>\n",
       "    <tr>\n",
       "      <th>2020-07-06</th>\n",
       "      <td>210.70</td>\n",
       "      <td>53.40</td>\n",
       "      <td>1371.58</td>\n",
       "      <td>142.98</td>\n",
       "      <td>627.25</td>\n",
       "      <td>76.76</td>\n",
       "      <td>2.152623</td>\n",
       "      <td>0.762091</td>\n",
       "      <td>2.025220</td>\n",
       "      <td>-0.456447</td>\n",
       "      <td>13.479390</td>\n",
       "      <td>7.951734</td>\n",
       "      <td>1.425835</td>\n",
       "      <td>0.420288</td>\n",
       "      <td>0.771146</td>\n",
       "      <td>2.180015</td>\n",
       "      <td>0.537001</td>\n",
       "      <td>0.381278</td>\n",
       "    </tr>\n",
       "    <tr>\n",
       "      <th>2020-07-07</th>\n",
       "      <td>208.25</td>\n",
       "      <td>52.93</td>\n",
       "      <td>1389.86</td>\n",
       "      <td>142.85</td>\n",
       "      <td>640.88</td>\n",
       "      <td>76.42</td>\n",
       "      <td>-1.162791</td>\n",
       "      <td>2.152623</td>\n",
       "      <td>-0.880150</td>\n",
       "      <td>2.025220</td>\n",
       "      <td>1.332770</td>\n",
       "      <td>13.479390</td>\n",
       "      <td>-0.090922</td>\n",
       "      <td>1.425835</td>\n",
       "      <td>2.172977</td>\n",
       "      <td>0.771146</td>\n",
       "      <td>-0.442939</td>\n",
       "      <td>0.537001</td>\n",
       "    </tr>\n",
       "  </tbody>\n",
       "</table>\n",
       "</div>"
      ],
      "text/plain": [
       "            MSFT_close  AMD_close  TSLA_close  JNJ_close  REGN_close  \\\n",
       "2020-06-30      203.51      52.61     1079.81     140.63      623.65   \n",
       "2020-07-01      204.70      52.58     1119.63     140.38      609.17   \n",
       "2020-07-02      206.26      52.34     1208.66     140.97      622.45   \n",
       "2020-07-06      210.70      53.40     1371.58     142.98      627.25   \n",
       "2020-07-07      208.25      52.93     1389.86     142.85      640.88   \n",
       "\n",
       "            GILD_close  MSFT_return  MSFT_lagged_return  AMD_return  \\\n",
       "2020-06-30       76.94     2.554928            1.074721    4.634049   \n",
       "2020-07-01       76.06     0.584738            2.554928   -0.057023   \n",
       "2020-07-02       76.35     0.762091            0.584738   -0.456447   \n",
       "2020-07-06       76.76     2.152623            0.762091    2.025220   \n",
       "2020-07-07       76.42    -1.162791            2.152623   -0.880150   \n",
       "\n",
       "            AMD_lagged_return  TSLA_return  TSLA_lagged_return  JNJ_return  \\\n",
       "2020-06-30           0.359281     6.980730            5.169108    1.143556   \n",
       "2020-07-01           4.634049     3.687686            6.980730   -0.177771   \n",
       "2020-07-02          -0.057023     7.951734            3.687686    0.420288   \n",
       "2020-07-06          -0.456447    13.479390            7.951734    1.425835   \n",
       "2020-07-07           2.025220     1.332770           13.479390   -0.090922   \n",
       "\n",
       "            JNJ_lagged_return  REGN_return  REGN_lagged_return  GILD_return  \\\n",
       "2020-06-30           0.892533     2.092098           -0.080149     3.192060   \n",
       "2020-07-01           1.143556    -2.321815            2.092098    -1.143748   \n",
       "2020-07-02          -0.177771     2.180015           -2.321815     0.381278   \n",
       "2020-07-06           0.420288     0.771146            2.180015     0.537001   \n",
       "2020-07-07           1.425835     2.172977            0.771146    -0.442939   \n",
       "\n",
       "            GILD_lagged_return  \n",
       "2020-06-30           -0.013410  \n",
       "2020-07-01            3.192060  \n",
       "2020-07-02           -1.143748  \n",
       "2020-07-06            0.381278  \n",
       "2020-07-07            0.537001  "
      ]
     },
     "execution_count": 105,
     "metadata": {},
     "output_type": "execute_result"
    }
   ],
   "source": [
    "df = df.dropna()\n",
    "df.tail()"
   ]
  },
  {
   "cell_type": "code",
   "execution_count": 106,
   "metadata": {},
   "outputs": [],
   "source": [
    "# Slice data in test and training \n",
    "train = df.loc['2010':'2017']\n",
    "test = df.loc['2018':'2020']"
   ]
  },
  {
   "cell_type": "code",
   "execution_count": 107,
   "metadata": {},
   "outputs": [],
   "source": [
    "# Create dataframes for X_train and X_test\n",
    "# Create series for y_train and y_test\n",
    "# X_train (training set using just the independent variables), X_test (test set of of just the independent variables)\n",
    "# Y_train (training set using just the \"y\" variable, i.e., \"Futures Return\"), Y_test (test set of just the \"y\" variable):\n",
    "X_train = train[\"MSFT_return\"].to_frame()\n",
    "X_test = test[\"MSFT_lagged_return\"].to_frame()\n",
    "y_train = train[\"MSFT_return\"]\n",
    "y_test = test[\"MSFT_return\"]"
   ]
  },
  {
   "cell_type": "code",
   "execution_count": 108,
   "metadata": {},
   "outputs": [],
   "source": [
    "from sklearn.linear_model import LinearRegression"
   ]
  },
  {
   "cell_type": "code",
   "execution_count": 109,
   "metadata": {},
   "outputs": [
    {
     "data": {
      "text/plain": [
       "LinearRegression(copy_X=True, fit_intercept=True, n_jobs=None, normalize=False)"
      ]
     },
     "execution_count": 109,
     "metadata": {},
     "output_type": "execute_result"
    }
   ],
   "source": [
    "#Fit a SKLearn linear regression using  just the training set (X_train, Y_train):\n",
    "model = LinearRegression()\n",
    "model.fit(X_train, y_train)"
   ]
  },
  {
   "cell_type": "code",
   "execution_count": 110,
   "metadata": {},
   "outputs": [],
   "source": [
    "# And make a prediction of \"y\" values for just the test dataset\n",
    "predictions = model.predict(X_test)"
   ]
  },
  {
   "cell_type": "code",
   "execution_count": 111,
   "metadata": {},
   "outputs": [],
   "source": [
    "# Construct a dataframe using just the \"y\" training data:\n",
    "out_of_sample_results = y_test.to_frame()\n",
    "\n",
    "# Add a column of \"out-of-sample\" predictions to that dataframe:  \n",
    "out_of_sample_results[\"Out-of-Sample Predictions\"] = model.predict(X_test)"
   ]
  },
  {
   "cell_type": "code",
   "execution_count": 112,
   "metadata": {},
   "outputs": [
    {
     "data": {
      "text/plain": [
       "array([<matplotlib.axes._subplots.AxesSubplot object at 0x7fe16fccd950>,\n",
       "       <matplotlib.axes._subplots.AxesSubplot object at 0x7fe16eaf9c90>],\n",
       "      dtype=object)"
      ]
     },
     "execution_count": 112,
     "metadata": {},
     "output_type": "execute_result"
    },
    {
     "data": {
      "image/png": "[encoded data removed]",
      "text/plain": [
       "<Figure size 432x288 with 2 Axes>"
      ]
     },
     "metadata": {
      "needs_background": "light"
     },
     "output_type": "display_data"
    }
   ],
   "source": [
    "# Plot the out-of-sample results for 2019\n",
    "out_of_sample_results.plot(subplots=True)"
   ]
  },
  {
   "cell_type": "code",
   "execution_count": 150,
   "metadata": {},
   "outputs": [
    {
     "data": {
      "text/html": [
       "<div>\n",
       "<style scoped>\n",
       "    .dataframe tbody tr th:only-of-type {\n",
       "        vertical-align: middle;\n",
       "    }\n",
       "\n",
       "    .dataframe tbody tr th {\n",
       "        vertical-align: top;\n",
       "    }\n",
       "\n",
       "    .dataframe thead th {\n",
       "        text-align: right;\n",
       "    }\n",
       "</style>\n",
       "<table border=\"1\" class=\"dataframe\">\n",
       "  <thead>\n",
       "    <tr style=\"text-align: right;\">\n",
       "      <th></th>\n",
       "      <th>MSFT_return</th>\n",
       "      <th>Out-of-Sample Predictions</th>\n",
       "    </tr>\n",
       "  </thead>\n",
       "  <tbody>\n",
       "    <tr>\n",
       "      <th>2018-01-02</th>\n",
       "      <td>0.479308</td>\n",
       "      <td>-0.209986</td>\n",
       "    </tr>\n",
       "    <tr>\n",
       "      <th>2018-01-03</th>\n",
       "      <td>0.465387</td>\n",
       "      <td>0.479308</td>\n",
       "    </tr>\n",
       "    <tr>\n",
       "      <th>2018-01-04</th>\n",
       "      <td>0.880139</td>\n",
       "      <td>0.465387</td>\n",
       "    </tr>\n",
       "    <tr>\n",
       "      <th>2018-01-05</th>\n",
       "      <td>1.239812</td>\n",
       "      <td>0.880139</td>\n",
       "    </tr>\n",
       "    <tr>\n",
       "      <th>2018-01-08</th>\n",
       "      <td>0.102052</td>\n",
       "      <td>1.239812</td>\n",
       "    </tr>\n",
       "    <tr>\n",
       "      <th>2018-01-09</th>\n",
       "      <td>-0.067966</td>\n",
       "      <td>0.102052</td>\n",
       "    </tr>\n",
       "    <tr>\n",
       "      <th>2018-01-10</th>\n",
       "      <td>-0.453412</td>\n",
       "      <td>-0.067966</td>\n",
       "    </tr>\n",
       "    <tr>\n",
       "      <th>2018-01-11</th>\n",
       "      <td>0.296060</td>\n",
       "      <td>-0.453412</td>\n",
       "    </tr>\n",
       "    <tr>\n",
       "      <th>2018-01-12</th>\n",
       "      <td>1.725704</td>\n",
       "      <td>0.296060</td>\n",
       "    </tr>\n",
       "    <tr>\n",
       "      <th>2018-01-16</th>\n",
       "      <td>-1.395089</td>\n",
       "      <td>1.725704</td>\n",
       "    </tr>\n",
       "    <tr>\n",
       "      <th>2018-01-17</th>\n",
       "      <td>2.026033</td>\n",
       "      <td>-1.395089</td>\n",
       "    </tr>\n",
       "    <tr>\n",
       "      <th>2018-01-18</th>\n",
       "      <td>-0.044375</td>\n",
       "      <td>2.026033</td>\n",
       "    </tr>\n",
       "    <tr>\n",
       "      <th>2018-01-19</th>\n",
       "      <td>-0.110988</td>\n",
       "      <td>-0.044375</td>\n",
       "    </tr>\n",
       "    <tr>\n",
       "      <th>2018-01-22</th>\n",
       "      <td>1.788889</td>\n",
       "      <td>-0.110988</td>\n",
       "    </tr>\n",
       "    <tr>\n",
       "      <th>2018-01-23</th>\n",
       "      <td>0.316559</td>\n",
       "      <td>1.788889</td>\n",
       "    </tr>\n",
       "  </tbody>\n",
       "</table>\n",
       "</div>"
      ],
      "text/plain": [
       "            MSFT_return  Out-of-Sample Predictions\n",
       "2018-01-02     0.479308                  -0.209986\n",
       "2018-01-03     0.465387                   0.479308\n",
       "2018-01-04     0.880139                   0.465387\n",
       "2018-01-05     1.239812                   0.880139\n",
       "2018-01-08     0.102052                   1.239812\n",
       "2018-01-09    -0.067966                   0.102052\n",
       "2018-01-10    -0.453412                  -0.067966\n",
       "2018-01-11     0.296060                  -0.453412\n",
       "2018-01-12     1.725704                   0.296060\n",
       "2018-01-16    -1.395089                   1.725704\n",
       "2018-01-17     2.026033                  -1.395089\n",
       "2018-01-18    -0.044375                   2.026033\n",
       "2018-01-19    -0.110988                  -0.044375\n",
       "2018-01-22     1.788889                  -0.110988\n",
       "2018-01-23     0.316559                   1.788889"
      ]
     },
     "execution_count": 150,
     "metadata": {},
     "output_type": "execute_result"
    }
   ],
   "source": [
    "out_of_sample_results.head(15)"
   ]
  },
  {
   "cell_type": "code",
   "execution_count": 116,
   "metadata": {},
   "outputs": [
    {
     "name": "stdout",
     "output_type": "stream",
     "text": [
      "Out-of-sample Root Mean Squared Error (RMSE): 3.36929249511618\n"
     ]
    }
   ],
   "source": [
    "# Calculate out-of-sample mean_squared_error (for comparison to out-of-sample)\n",
    "out_of_sample_mse = mean_squared_error(\n",
    "    out_of_sample_results[\"MSFT_return\"],\n",
    "    out_of_sample_results[\"Out-of-Sample Predictions\"]\n",
    ")\n",
    "\n",
    "# Calculate out-of-sample root mean_squared_error (for comparison to out-of-sample)\n",
    "out_of_sample_rmse = np.sqrt(out_of_sample_mse)\n",
    "print(f\"Out-of-sample Root Mean Squared Error (RMSE): {out_of_sample_rmse}\")"
   ]
  },
  {
   "cell_type": "code",
   "execution_count": 118,
   "metadata": {},
   "outputs": [],
   "source": [
    "# Create dataframes for X_train and X_test\n",
    "# Create series for y_train and y_test\n",
    "# X_train (training set using just the independent variables), X_test (test set of of just the independent variables)\n",
    "# Y_train (training set using just the \"y\" variable, i.e., \"Futures Return\"), Y_test (test set of just the \"y\" variable):\n",
    "X_train = train[\"MSFT_return\"].to_frame()\n",
    "X_test = test[\"MSFT_lagged_return\"].to_frame()\n",
    "y_train = train[\"MSFT_return\"]\n",
    "y_test = test[\"MSFT_return\"]"
   ]
  },
  {
   "cell_type": "code",
   "execution_count": 119,
   "metadata": {},
   "outputs": [
    {
     "data": {
      "text/plain": [
       "LinearRegression(copy_X=True, fit_intercept=True, n_jobs=None, normalize=False)"
      ]
     },
     "execution_count": 119,
     "metadata": {},
     "output_type": "execute_result"
    }
   ],
   "source": [
    "#Fit a SKLearn linear regression using  just the training set (X_train, Y_train):\n",
    "model = LinearRegression()\n",
    "model.fit(X_train, y_train)"
   ]
  },
  {
   "cell_type": "code",
   "execution_count": 120,
   "metadata": {},
   "outputs": [],
   "source": [
    "# And make a prediction of \"y\" values for just the test dataset\n",
    "predictions = model.predict(X_test)"
   ]
  },
  {
   "cell_type": "code",
   "execution_count": 121,
   "metadata": {},
   "outputs": [],
   "source": [
    "# Construct a dataframe using just the \"y\" training data:\n",
    "out_of_sample_results = y_test.to_frame()\n",
    "\n",
    "# Add a column of \"out-of-sample\" predictions to that dataframe:  \n",
    "out_of_sample_results[\"Out-of-Sample Predictions\"] = model.predict(X_test)"
   ]
  },
  {
   "cell_type": "code",
   "execution_count": 122,
   "metadata": {},
   "outputs": [
    {
     "data": {
      "text/plain": [
       "array([<matplotlib.axes._subplots.AxesSubplot object at 0x7fe16e8f76d0>,\n",
       "       <matplotlib.axes._subplots.AxesSubplot object at 0x7fe16e958cd0>],\n",
       "      dtype=object)"
      ]
     },
     "execution_count": 122,
     "metadata": {},
     "output_type": "execute_result"
    },
    {
     "data": {
      "image/png": "[encoded data removed]",
      "text/plain": [
       "<Figure size 432x288 with 2 Axes>"
      ]
     },
     "metadata": {
      "needs_background": "light"
     },
     "output_type": "display_data"
    }
   ],
   "source": [
    "# Plot the out-of-sample results for 2019\n",
    "out_of_sample_results.plot(subplots=True)"
   ]
  },
  {
   "cell_type": "code",
   "execution_count": 123,
   "metadata": {},
   "outputs": [
    {
     "data": {
      "text/html": [
       "<div>\n",
       "<style scoped>\n",
       "    .dataframe tbody tr th:only-of-type {\n",
       "        vertical-align: middle;\n",
       "    }\n",
       "\n",
       "    .dataframe tbody tr th {\n",
       "        vertical-align: top;\n",
       "    }\n",
       "\n",
       "    .dataframe thead th {\n",
       "        text-align: right;\n",
       "    }\n",
       "</style>\n",
       "<table border=\"1\" class=\"dataframe\">\n",
       "  <thead>\n",
       "    <tr style=\"text-align: right;\">\n",
       "      <th></th>\n",
       "      <th>MSFT_return</th>\n",
       "      <th>Out-of-Sample Predictions</th>\n",
       "    </tr>\n",
       "  </thead>\n",
       "  <tbody>\n",
       "    <tr>\n",
       "      <th>2018-12-17</th>\n",
       "      <td>-2.961426</td>\n",
       "      <td>-3.124714</td>\n",
       "    </tr>\n",
       "    <tr>\n",
       "      <th>2018-09-26</th>\n",
       "      <td>-0.410660</td>\n",
       "      <td>-0.191855</td>\n",
       "    </tr>\n",
       "    <tr>\n",
       "      <th>2018-01-10</th>\n",
       "      <td>-0.453412</td>\n",
       "      <td>-0.067966</td>\n",
       "    </tr>\n",
       "    <tr>\n",
       "      <th>2019-01-09</th>\n",
       "      <td>1.429961</td>\n",
       "      <td>0.725064</td>\n",
       "    </tr>\n",
       "    <tr>\n",
       "      <th>2019-09-11</th>\n",
       "      <td>0.029394</td>\n",
       "      <td>-1.047120</td>\n",
       "    </tr>\n",
       "    <tr>\n",
       "      <th>2018-06-06</th>\n",
       "      <td>0.293571</td>\n",
       "      <td>0.511459</td>\n",
       "    </tr>\n",
       "    <tr>\n",
       "      <th>2018-08-22</th>\n",
       "      <td>1.019060</td>\n",
       "      <td>-0.832787</td>\n",
       "    </tr>\n",
       "    <tr>\n",
       "      <th>2019-08-16</th>\n",
       "      <td>1.832735</td>\n",
       "      <td>-0.223914</td>\n",
       "    </tr>\n",
       "    <tr>\n",
       "      <th>2019-01-29</th>\n",
       "      <td>-2.036544</td>\n",
       "      <td>-1.950173</td>\n",
       "    </tr>\n",
       "    <tr>\n",
       "      <th>2020-04-13</th>\n",
       "      <td>0.224052</td>\n",
       "      <td>0.006056</td>\n",
       "    </tr>\n",
       "  </tbody>\n",
       "</table>\n",
       "</div>"
      ],
      "text/plain": [
       "            MSFT_return  Out-of-Sample Predictions\n",
       "2018-12-17    -2.961426                  -3.124714\n",
       "2018-09-26    -0.410660                  -0.191855\n",
       "2018-01-10    -0.453412                  -0.067966\n",
       "2019-01-09     1.429961                   0.725064\n",
       "2019-09-11     0.029394                  -1.047120\n",
       "2018-06-06     0.293571                   0.511459\n",
       "2018-08-22     1.019060                  -0.832787\n",
       "2019-08-16     1.832735                  -0.223914\n",
       "2019-01-29    -2.036544                  -1.950173\n",
       "2020-04-13     0.224052                   0.006056"
      ]
     },
     "execution_count": 123,
     "metadata": {},
     "output_type": "execute_result"
    }
   ],
   "source": [
    "out_of_sample_results.sample(10)"
   ]
  },
  {
   "cell_type": "code",
   "execution_count": 125,
   "metadata": {},
   "outputs": [
    {
     "name": "stdout",
     "output_type": "stream",
     "text": [
      "Out-of-sample Root Mean Squared Error (RMSE): 3.36929249511618\n"
     ]
    }
   ],
   "source": [
    "# Calculate out-of-sample mean_squared_error (for comparison to out-of-sample)\n",
    "out_of_sample_mse = mean_squared_error(\n",
    "    out_of_sample_results[\"MSFT_return\"],\n",
    "    out_of_sample_results[\"Out-of-Sample Predictions\"]\n",
    ")\n",
    "\n",
    "# Calculate out-of-sample root mean_squared_error (for comparison to out-of-sample)\n",
    "out_of_sample_rmse = np.sqrt(out_of_sample_mse)\n",
    "print(f\"Out-of-sample Root Mean Squared Error (RMSE): {out_of_sample_rmse}\")"
   ]
  },
  {
   "cell_type": "markdown",
   "metadata": {},
   "source": [
    "# Rolling Out-of-Sample Predictions"
   ]
  },
  {
   "cell_type": "code",
   "execution_count": 126,
   "metadata": {},
   "outputs": [
    {
     "name": "stdout",
     "output_type": "stream",
     "text": [
      "2010-06-28/2010-07-04\n"
     ]
    }
   ],
   "source": [
    "# Split the index into weekly periods\n",
    "weeks = df.index.to_period(\"w\").unique()\n",
    "print(weeks[0])"
   ]
  },
  {
   "cell_type": "code",
   "execution_count": 127,
   "metadata": {},
   "outputs": [
    {
     "name": "stdout",
     "output_type": "stream",
     "text": [
      "524\n"
     ]
    }
   ],
   "source": [
    "print(len(weeks))"
   ]
  },
  {
   "cell_type": "code",
   "execution_count": 128,
   "metadata": {},
   "outputs": [
    {
     "name": "stdout",
     "output_type": "stream",
     "text": [
      "473\n"
     ]
    }
   ],
   "source": [
    "# Declare the training window of 12 weeks\n",
    "# Define the timeframe of rolling windows\n",
    "training_window = 50\n",
    "timeframe = len(weeks) - training_window - 1\n",
    "print(timeframe)"
   ]
  },
  {
   "cell_type": "code",
   "execution_count": 129,
   "metadata": {},
   "outputs": [],
   "source": [
    "# Construct empty placeholder dataframes.\n",
    "# (During each iteration of the loop, we'll append that week\"s predictions to this DataFrame)\n",
    "all_predictions = pd.DataFrame(columns=[\"Out-of-Sample Predictions\"])\n",
    "all_actuals = pd.DataFrame(columns=[\"Actual Returns\"])"
   ]
  },
  {
   "cell_type": "code",
   "execution_count": 130,
   "metadata": {},
   "outputs": [],
   "source": [
    "# During rolling iteration, split into train and test sets.\n",
    "# Use linear regression to make out-of-sample predictions.\n",
    "# Append the results to external dataframes.\n",
    "for i in range(0, timeframe):\n",
    "    \n",
    "    # Beginning of training window\n",
    "    start_of_training_period = weeks[i].start_time.strftime(format=\"%Y-%m-%d\")\n",
    "    \n",
    "    # End of training window\n",
    "    end_of_training_period = weeks[training_window+i].end_time.strftime(format=\"%Y-%m-%d\")\n",
    "\n",
    "    # Window of test-window data\n",
    "    test_week = weeks[training_window + i + 1]\n",
    "    \n",
    "    # String of testing window\n",
    "    start_of_test_week  = test_week.start_time.strftime(format=\"%Y-%m-%d\")\n",
    "    end_of_test_week = test_week.end_time.strftime(format=\"%Y-%m-%d\")\n",
    "    \n",
    "    train = df.loc[start_of_training_period:end_of_training_period]\n",
    "    test = df.loc[start_of_test_week:end_of_test_week]\n",
    "    \n",
    "    # Create new dataframes:\n",
    "    X_train = train[\"MSFT_lagged_return\"].to_frame()\n",
    "    y_train = train[\"MSFT_return\"]\n",
    "    X_test = test[\"MSFT_lagged_return\"].to_frame()\n",
    "    y_test = test[\"MSFT_return\"]\n",
    "\n",
    "    model = LinearRegression()\n",
    "    model.fit(X_train, y_train)\n",
    "    predictions = model.predict(X_test)\n",
    "    \n",
    "    # Create a temporary dataframe to hold predictions\n",
    "    predictions = pd.DataFrame(predictions, index=X_test.index, columns=[\"Out-of-Sample Predictions\"])\n",
    "    \n",
    "    # Create a temporary DataFrame of the actual \"y\"s in the test dataframe, with column name=\"Actual Returns\": \n",
    "    actuals = pd.DataFrame(y_test, index=y_test.index)\n",
    "    actuals.columns = [\"Actual Returns\"]  \n",
    "    \n",
    "    # Append these two dataframes (predictions and actuals) to the two master DataFrames built outside the loop\n",
    "    all_predictions = all_predictions.append(predictions)\n",
    "    all_actuals = all_actuals.append(actuals)   \n",
    "    "
   ]
  },
  {
   "cell_type": "code",
   "execution_count": 131,
   "metadata": {},
   "outputs": [
    {
     "data": {
      "text/html": [
       "<div>\n",
       "<style scoped>\n",
       "    .dataframe tbody tr th:only-of-type {\n",
       "        vertical-align: middle;\n",
       "    }\n",
       "\n",
       "    .dataframe tbody tr th {\n",
       "        vertical-align: top;\n",
       "    }\n",
       "\n",
       "    .dataframe thead th {\n",
       "        text-align: right;\n",
       "    }\n",
       "</style>\n",
       "<table border=\"1\" class=\"dataframe\">\n",
       "  <thead>\n",
       "    <tr style=\"text-align: right;\">\n",
       "      <th></th>\n",
       "      <th>Actual Returns</th>\n",
       "      <th>Out-of-Sample Predictions</th>\n",
       "    </tr>\n",
       "  </thead>\n",
       "  <tbody>\n",
       "    <tr>\n",
       "      <th>2011-06-20</th>\n",
       "      <td>0.865622</td>\n",
       "      <td>0.047549</td>\n",
       "    </tr>\n",
       "    <tr>\n",
       "      <th>2011-06-21</th>\n",
       "      <td>1.185125</td>\n",
       "      <td>0.043414</td>\n",
       "    </tr>\n",
       "    <tr>\n",
       "      <th>2011-06-22</th>\n",
       "      <td>-0.444265</td>\n",
       "      <td>0.048947</td>\n",
       "    </tr>\n",
       "    <tr>\n",
       "      <th>2011-06-23</th>\n",
       "      <td>-0.081136</td>\n",
       "      <td>0.020732</td>\n",
       "    </tr>\n",
       "    <tr>\n",
       "      <th>2011-06-24</th>\n",
       "      <td>-1.339829</td>\n",
       "      <td>0.027020</td>\n",
       "    </tr>\n",
       "  </tbody>\n",
       "</table>\n",
       "</div>"
      ],
      "text/plain": [
       "            Actual Returns  Out-of-Sample Predictions\n",
       "2011-06-20        0.865622                   0.047549\n",
       "2011-06-21        1.185125                   0.043414\n",
       "2011-06-22       -0.444265                   0.048947\n",
       "2011-06-23       -0.081136                   0.020732\n",
       "2011-06-24       -1.339829                   0.027020"
      ]
     },
     "execution_count": 131,
     "metadata": {},
     "output_type": "execute_result"
    }
   ],
   "source": [
    "Results = pd.concat([all_actuals, all_predictions], axis=1)\n",
    "Results.head()"
   ]
  },
  {
   "cell_type": "code",
   "execution_count": 132,
   "metadata": {},
   "outputs": [
    {
     "data": {
      "text/html": [
       "<div>\n",
       "<style scoped>\n",
       "    .dataframe tbody tr th:only-of-type {\n",
       "        vertical-align: middle;\n",
       "    }\n",
       "\n",
       "    .dataframe tbody tr th {\n",
       "        vertical-align: top;\n",
       "    }\n",
       "\n",
       "    .dataframe thead th {\n",
       "        text-align: right;\n",
       "    }\n",
       "</style>\n",
       "<table border=\"1\" class=\"dataframe\">\n",
       "  <thead>\n",
       "    <tr style=\"text-align: right;\">\n",
       "      <th></th>\n",
       "      <th>Actual Returns</th>\n",
       "      <th>Out-of-Sample Predictions</th>\n",
       "    </tr>\n",
       "  </thead>\n",
       "  <tbody>\n",
       "    <tr>\n",
       "      <th>2020-01-02</th>\n",
       "      <td>1.851617</td>\n",
       "      <td>0.200520</td>\n",
       "    </tr>\n",
       "    <tr>\n",
       "      <th>2020-01-03</th>\n",
       "      <td>-1.245175</td>\n",
       "      <td>0.027026</td>\n",
       "    </tr>\n",
       "    <tr>\n",
       "      <th>2020-01-06</th>\n",
       "      <td>0.258479</td>\n",
       "      <td>0.340600</td>\n",
       "    </tr>\n",
       "    <tr>\n",
       "      <th>2020-01-07</th>\n",
       "      <td>-0.911778</td>\n",
       "      <td>0.175822</td>\n",
       "    </tr>\n",
       "    <tr>\n",
       "      <th>2020-01-08</th>\n",
       "      <td>1.592842</td>\n",
       "      <td>0.304065</td>\n",
       "    </tr>\n",
       "  </tbody>\n",
       "</table>\n",
       "</div>"
      ],
      "text/plain": [
       "            Actual Returns  Out-of-Sample Predictions\n",
       "2020-01-02        1.851617                   0.200520\n",
       "2020-01-03       -1.245175                   0.027026\n",
       "2020-01-06        0.258479                   0.340600\n",
       "2020-01-07       -0.911778                   0.175822\n",
       "2020-01-08        1.592842                   0.304065"
      ]
     },
     "execution_count": 132,
     "metadata": {},
     "output_type": "execute_result"
    }
   ],
   "source": [
    "# 2019 Data\n",
    "results_2020 = Results.loc['2020':]\n",
    "results_2020.head()"
   ]
  },
  {
   "cell_type": "code",
   "execution_count": 133,
   "metadata": {},
   "outputs": [
    {
     "data": {
      "text/plain": [
       "array([<matplotlib.axes._subplots.AxesSubplot object at 0x7fe16e92a210>,\n",
       "       <matplotlib.axes._subplots.AxesSubplot object at 0x7fe16f32aa50>],\n",
       "      dtype=object)"
      ]
     },
     "execution_count": 133,
     "metadata": {},
     "output_type": "execute_result"
    },
    {
     "data": {
      "image/png": "[encoded data removed]",
      "text/plain": [
       "<Figure size 432x288 with 2 Axes>"
      ]
     },
     "metadata": {
      "needs_background": "light"
     },
     "output_type": "display_data"
    }
   ],
   "source": [
    "# Plot the results\n",
    "results_2020.plot(subplots=True)"
   ]
  },
  {
   "cell_type": "code",
   "execution_count": 141,
   "metadata": {},
   "outputs": [
    {
     "data": {
      "text/plain": [
       "<matplotlib.axes._subplots.AxesSubplot at 0x7fe16f57b4d0>"
      ]
     },
     "execution_count": 141,
     "metadata": {},
     "output_type": "execute_result"
    },
    {
     "data": {
      "image/png": "[encoded data removed]",
      "text/plain": [
       "<Figure size 432x288 with 1 Axes>"
      ]
     },
     "metadata": {
      "needs_background": "light"
     },
     "output_type": "display_data"
    }
   ],
   "source": [
    "# Use the `cumprod` function to cumulatively multiply each element in the Series by it's preceding element until the end\n",
    "cumulative_returns = (1 + results_2020['Out-of-Sample Predictions']).cumprod() - 1\n",
    "cumulative_returns.plot()"
   ]
  },
  {
   "cell_type": "code",
   "execution_count": 163,
   "metadata": {},
   "outputs": [
    {
     "data": {},
     "metadata": {},
     "output_type": "display_data"
    },
    {
     "data": {
      "application/vnd.holoviews_exec.v0+json": "",
      "text/html": [
       "<div id='1170'>\n",
       "\n",
       "\n",
       "\n",
       "\n",
       "\n",
       "  <div class=\"bk-root\" id=\"e4c6f5f2-a42b-4533-8c74-295d615f0e95\" data-root-id=\"1170\"></div>\n",
       "</div>\n",
       "<script type=\"application/javascript\">(function(root) {\n",
       "  function embed_document(root) {\n",
       "  var docs_json = {\"84be538c-42ca-4ac3-a530-a92d8730cd14\":{\"roots\":{\"references\":[{\"attributes\":{\"axis_label\":\"\",\"bounds\":\"auto\",\"formatter\":{\"id\":\"1215\"},\"major_label_orientation\":\"horizontal\",\"ticker\":{\"id\":\"1189\"}},\"id\":\"1188\",\"type\":\"LinearAxis\"},{\"attributes\":{\"mantissas\":[1,2,5],\"max_interval\":500.0,\"num_minor_ticks\":0},\"id\":\"1225\",\"type\":\"AdaptiveTicker\"},{\"attributes\":{\"line_color\":\"#1f77b3\",\"line_width\":2,\"x\":{\"field\":\"index\"},\"y\":{\"field\":\"Out-of-Sample Predictions\"}},\"id\":\"1208\",\"type\":\"Line\"},{\"attributes\":{},\"id\":\"1213\",\"type\":\"DatetimeTickFormatter\"},{\"attributes\":{\"bottom_units\":\"screen\",\"fill_alpha\":0.5,\"fill_color\":\"lightgrey\",\"left_units\":\"screen\",\"level\":\"overlay\",\"line_alpha\":1.0,\"line_color\":\"black\",\"line_dash\":[4,4],\"line_width\":2,\"render_mode\":\"css\",\"right_units\":\"screen\",\"top_units\":\"screen\"},\"id\":\"1197\",\"type\":\"BoxAnnotation\"},{\"attributes\":{\"days\":[1,2,3,4,5,6,7,8,9,10,11,12,13,14,15,16,17,18,19,20,21,22,23,24,25,26,27,28,29,30,31]},\"id\":\"1228\",\"type\":\"DaysTicker\"},{\"attributes\":{\"line_alpha\":0.2,\"line_color\":\"#1f77b3\",\"line_width\":2,\"x\":{\"field\":\"index\"},\"y\":{\"field\":\"Out-of-Sample Predictions\"}},\"id\":\"1210\",\"type\":\"Line\"},{\"attributes\":{\"base\":60,\"mantissas\":[1,2,5,10,15,20,30],\"max_interval\":1800000.0,\"min_interval\":1000.0,\"num_minor_ticks\":0},\"id\":\"1226\",\"type\":\"AdaptiveTicker\"},{\"attributes\":{\"days\":[1,15]},\"id\":\"1231\",\"type\":\"DaysTicker\"},{\"attributes\":{\"margin\":[5,5,5,5],\"name\":\"HSpacer01675\",\"sizing_mode\":\"stretch_width\"},\"id\":\"1237\",\"type\":\"Spacer\"},{\"attributes\":{\"months\":[0,4,8]},\"id\":\"1234\",\"type\":\"MonthsTicker\"},{\"attributes\":{\"active_drag\":\"auto\",\"active_inspect\":\"auto\",\"active_multi\":null,\"active_scroll\":\"auto\",\"active_tap\":\"auto\",\"tools\":[{\"id\":\"1174\"},{\"id\":\"1192\"},{\"id\":\"1193\"},{\"id\":\"1194\"},{\"id\":\"1195\"},{\"id\":\"1196\"}]},\"id\":\"1198\",\"type\":\"Toolbar\"},{\"attributes\":{\"base\":24,\"mantissas\":[1,2,4,6,8,12],\"max_interval\":43200000.0,\"min_interval\":3600000.0,\"num_minor_ticks\":0},\"id\":\"1227\",\"type\":\"AdaptiveTicker\"},{\"attributes\":{},\"id\":\"1236\",\"type\":\"YearsTicker\"},{\"attributes\":{\"line_alpha\":0.1,\"line_color\":\"#1f77b3\",\"line_width\":2,\"x\":{\"field\":\"index\"},\"y\":{\"field\":\"Out-of-Sample Predictions\"}},\"id\":\"1209\",\"type\":\"Line\"},{\"attributes\":{},\"id\":\"1192\",\"type\":\"SaveTool\"},{\"attributes\":{},\"id\":\"1193\",\"type\":\"PanTool\"},{\"attributes\":{\"days\":[1,8,15,22]},\"id\":\"1230\",\"type\":\"DaysTicker\"},{\"attributes\":{\"children\":[{\"id\":\"1171\"},{\"id\":\"1175\"},{\"id\":\"1237\"}],\"margin\":[0,0,0,0],\"name\":\"Row01670\",\"tags\":[\"embedded\"]},\"id\":\"1170\",\"type\":\"Row\"},{\"attributes\":{\"text\":\"Out-of-Sample Predictions\",\"text_color\":{\"value\":\"black\"},\"text_font_size\":{\"value\":\"12pt\"}},\"id\":\"1176\",\"type\":\"Title\"},{\"attributes\":{},\"id\":\"1194\",\"type\":\"WheelZoomTool\"},{\"attributes\":{\"margin\":[5,5,5,5],\"name\":\"HSpacer01674\",\"sizing_mode\":\"stretch_width\"},\"id\":\"1171\",\"type\":\"Spacer\"},{\"attributes\":{\"overlay\":{\"id\":\"1197\"}},\"id\":\"1195\",\"type\":\"BoxZoomTool\"},{\"attributes\":{\"end\":185.43200598083624,\"reset_end\":185.43200598083624,\"reset_start\":158.71571740484612,\"start\":158.71571740484612,\"tags\":[[[\"Out-of-Sample Predictions\",\"Out-of-Sample Predictions\",null]]]},\"id\":\"1173\",\"type\":\"Range1d\"},{\"attributes\":{\"data\":{\"Out-of-Sample Predictions\":{\"__ndarray__\":\"wKAFeiUeZECcpLHLiR9kQO+s8ZsVMWRAxZ+7Oyw6ZEA5hsbz6klkQDwT1nZ0S2RAwv0i0fJOZEBj31PhnFtkQMb/gAOVXmRAqNowTLJsZEBXcEM47XJkQHOgZao2cmRAjvteXRV6ZEA7rB7qvYZkQEtWrkcQlGRAI9/zO7GbZECVIVIO0KtkQB+LGNIUv2RA+Ethp2zBZEDW609+pMVkQA+sgSD0w2RAzon5tMLVZEDSYsiQAddkQKoCDQ6g1GRA6UpefL3gZEC0nEAaiuNkQA7mKvjE72RAhGdcPQnzZECt9PONBghlQD43H0xSFGVAcUivdSkjZUDxhB3EtCtlQGF1KYy0M2VArngAbEJAZUDhO8/hAVRlQDCW0W4Qa2VAXRsVCXaGZUB/68s1IZhlQBai2XYSn2VAZJtB5+jEZUDUSslmVMZlQOkPG0M8uWVAd0yLelTTZUBMPDzRdNBlQCcpnpnR4mVApu7dKGP/ZUDA+DvsLDdmQOa+stFHEWZA6DkBJsw5ZkCxKhTM54RmQL28eN4fqWVAGxSqGMmWZkDvb6dOFxtmQGHjPw/8ZmZAgK/2g/xVZkC6RfR6I8NmQMYqX6yU5mZAr2V7nWPzZUBTmDSygBRmQHayzSOTdWVAEX2TW3HnZUAAPm9WAjxlQOGFKY1EbWVA2QbYJ/DQZUB9zi6Z1qVlQMANqsP+x2VAzvLyglUSZUBf7iF9ezdlQDJHSHSDKGVAt9jArkw0ZUBFjjhArzplQKLY1t1Vy2RAm245IaXwZECgONdZqLJkQCilZ8m0qWRA9XSnm/flZEDq10lJjldlQCoru9mJD2VAhr10ZfI5ZUCoRulN+RhlQAci7W5DLGVA+614s8p0ZUClD01jwBBlQEiziUZGBGVAdNoWUvRQZUCzkrASMCFlQEYHKwTCE2VAjXrHRI0IZUCJKl8fTwdlQLZDyJLuBmVAcDGao5z5ZEAx7IgZHT9lQFg9Y2zWcmVAlzvQH1F2ZUCFLAq+hWBlQBYj0OZDV2VA2PlWPN92ZUD0XWT+1WllQGN4GIw1lmVAEJ3dAl2kZUAsMG+kLc5lQIrd5IM82mVAHCP8XWLvZUCWkcAEoeJlQP9NGniE9mVAdGtIkqjmZUCXyOKKNu5lQNY0ZNSWHmZAedwRPFLuZUA+InEp8utlQDlWbGu+5WVAj5goY8+RZUCnWcI1OitmQNx966iBI2ZAR7MoRssfZkA406Mv1utlQDsNUB3l72VAFYUn1dDgZUDznWIT0f9lQKGN3QjHxWVAjjMUJIvDZUAmJ55UhwdmQNzvViJ/9WVAxXb2lFc5ZkC1Y5VxsCtmQA3gwGaO9mVAUNEXWAX2ZUB4uEBj+PFlQH/CMIZ4yWVA\",\"dtype\":\"float64\",\"shape\":[129]},\"Out_hyphen_minus_of_hyphen_minus_Sample_Predictions\":{\"__ndarray__\":\"wKAFeiUeZECcpLHLiR9kQO+s8ZsVMWRAxZ+7Oyw6ZEA5hsbz6klkQDwT1nZ0S2RAwv0i0fJOZEBj31PhnFtkQMb/gAOVXmRAqNowTLJsZEBXcEM47XJkQHOgZao2cmRAjvteXRV6ZEA7rB7qvYZkQEtWrkcQlGRAI9/zO7GbZECVIVIO0KtkQB+LGNIUv2RA+Ethp2zBZEDW609+pMVkQA+sgSD0w2RAzon5tMLVZEDSYsiQAddkQKoCDQ6g1GRA6UpefL3gZEC0nEAaiuNkQA7mKvjE72RAhGdcPQnzZECt9PONBghlQD43H0xSFGVAcUivdSkjZUDxhB3EtCtlQGF1KYy0M2VArngAbEJAZUDhO8/hAVRlQDCW0W4Qa2VAXRsVCXaGZUB/68s1IZhlQBai2XYSn2VAZJtB5+jEZUDUSslmVMZlQOkPG0M8uWVAd0yLelTTZUBMPDzRdNBlQCcpnpnR4mVApu7dKGP/ZUDA+DvsLDdmQOa+stFHEWZA6DkBJsw5ZkCxKhTM54RmQL28eN4fqWVAGxSqGMmWZkDvb6dOFxtmQGHjPw/8ZmZAgK/2g/xVZkC6RfR6I8NmQMYqX6yU5mZAr2V7nWPzZUBTmDSygBRmQHayzSOTdWVAEX2TW3HnZUAAPm9WAjxlQOGFKY1EbWVA2QbYJ/DQZUB9zi6Z1qVlQMANqsP+x2VAzvLyglUSZUBf7iF9ezdlQDJHSHSDKGVAt9jArkw0ZUBFjjhArzplQKLY1t1Vy2RAm245IaXwZECgONdZqLJkQCilZ8m0qWRA9XSnm/flZEDq10lJjldlQCoru9mJD2VAhr10ZfI5ZUCoRulN+RhlQAci7W5DLGVA+614s8p0ZUClD01jwBBlQEiziUZGBGVAdNoWUvRQZUCzkrASMCFlQEYHKwTCE2VAjXrHRI0IZUCJKl8fTwdlQLZDyJLuBmVAcDGao5z5ZEAx7IgZHT9lQFg9Y2zWcmVAlzvQH1F2ZUCFLAq+hWBlQBYj0OZDV2VA2PlWPN92ZUD0XWT+1WllQGN4GIw1lmVAEJ3dAl2kZUAsMG+kLc5lQIrd5IM82mVAHCP8XWLvZUCWkcAEoeJlQP9NGniE9mVAdGtIkqjmZUCXyOKKNu5lQNY0ZNSWHmZAedwRPFLuZUA+InEp8utlQDlWbGu+5WVAj5goY8+RZUCnWcI1OitmQNx966iBI2ZAR7MoRssfZkA406Mv1utlQDsNUB3l72VAFYUn1dDgZUDznWIT0f9lQKGN3QjHxWVAjjMUJIvDZUAmJ55UhwdmQNzvViJ/9WVAxXb2lFc5ZkC1Y5VxsCtmQA3gwGaO9mVAUNEXWAX2ZUB4uEBj+PFlQH/CMIZ4yWVA\",\"dtype\":\"float64\",\"shape\":[129]},\"index\":{\"__ndarray__\":\"AABA1Dj2dkIAAAA6i/Z2QgAAQGuC93ZCAAAA0dT3dkIAAMA2J/h2QgAAgJx5+HZCAABAAsz4dkIAAIAzw/l2QgAAQJkV+nZCAAAA/2f6dkIAAMBkuvp2QgAAgMoM+3ZCAACAYVb8dkIAAEDHqPx2QgAAAC37/HZCAADAkk39dkIAAADERP52QgAAwCmX/nZCAACAj+n+dkIAAED1O/92QgAAAFuO/3ZCAABAjIUAd0IAAADy1wB3QgAAwFcqAXdCAACAvXwBd0IAAEAjzwF3QgAAgFTGAndCAABAuhgDd0IAAAAgawN3QgAAwIW9A3dCAACA6w8Ed0IAAICCWQV3QgAAQOirBXdCAAAATv4Fd0IAAMCzUAZ3QgAAAOVHB3dCAADASpoHd0IAAICw7Ad3QgAAQBY/CHdCAAAAfJEId0IAAECtiAl3QgAAABPbCXdCAADAeC0Kd0IAAIDefwp3QgAAQETSCndCAACAdckLd0IAAEDbGwx3QgAAAEFuDHdCAADApsAMd0IAAIAMEw13QgAAwD0KDndCAACAo1wOd0IAAEAJrw53QgAAAG8BD3dCAADA1FMPd0IAAAAGSxB3QgAAwGudEHdCAACA0e8Qd0IAAEA3QhF3QgAAAJ2UEXdCAABAzosSd0IAAAA03hJ3QgAAwJkwE3dCAACA/4ITd0IAAEBl1RN3QgAAgJbMFHdCAABA/B4Vd0IAAABicRV3QgAAwMfDFXdCAADAXg0Xd0IAAIDEXxd3QgAAQCqyF3dCAAAAkAQYd0IAAMD1Vhh3QgAAACdOGXdCAADAjKAZd0IAAIDy8hl3QgAAQFhFGndCAAAAvpcad0IAAEDvjht3QgAAAFXhG3dCAADAujMcd0IAAIAghhx3QgAAQIbYHHdCAACAt88dd0IAAEAdIh53QgAAAIN0HndCAADA6MYed0IAAIBOGR93QgAAwH8QIHdCAACA5WIgd0IAAEBLtSB3QgAAALEHIXdCAADAFlohd0IAAABIUSJ3QgAAwK2jIndCAACAE/Yid0IAAEB5SCN3QgAAAN+aI3dCAAAAduQkd0IAAMDbNiV3QgAAgEGJJXdCAABAp9sld0IAAIDY0iZ3QgAAQD4lJ3dCAAAApHcnd0IAAMAJyid3QgAAgG8cKHdCAADAoBMpd0IAAIAGZil3QgAAQGy4KXdCAAAA0goqd0IAAMA3XSp3QgAAAGlUK3dCAADAzqYrd0IAAIA0+St3QgAAQJpLLHdCAAAAAJ4sd0IAAEAxlS13QgAAAJfnLXdCAADA/Dkud0IAAIBijC53QgAAQMjeLndCAACA+dUvd0IAAEBfKDB3QgAAAMV6MHdCAADAKs0wd0IAAMDBFjJ3QgAAgCdpMndC\",\"dtype\":\"float64\",\"shape\":[129]}},\"selected\":{\"id\":\"1206\"},\"selection_policy\":{\"id\":\"1223\"}},\"id\":\"1205\",\"type\":\"ColumnDataSource\"},{\"attributes\":{},\"id\":\"1206\",\"type\":\"Selection\"},{\"attributes\":{\"end\":1594080000000.0,\"reset_end\":1594080000000.0,\"reset_start\":1577923200000.0,\"start\":1577923200000.0,\"tags\":[[[\"index\",\"index\",null]]]},\"id\":\"1172\",\"type\":\"Range1d\"},{\"attributes\":{\"axis_label\":\"\",\"bounds\":\"auto\",\"formatter\":{\"id\":\"1213\"},\"major_label_orientation\":\"horizontal\",\"ticker\":{\"id\":\"1185\"}},\"id\":\"1184\",\"type\":\"DatetimeAxis\"},{\"attributes\":{\"callback\":null,\"formatters\":{\"@{index}\":\"datetime\"},\"renderers\":[{\"id\":\"1211\"}],\"tags\":[\"hv_created\"],\"tooltips\":[[\"index\",\"@{index}{%F %T}\"],[\"Out-of-Sample Predictions\",\"@{Out_hyphen_minus_of_hyphen_minus_Sample_Predictions}\"]]},\"id\":\"1174\",\"type\":\"HoverTool\"},{\"attributes\":{},\"id\":\"1196\",\"type\":\"ResetTool\"},{\"attributes\":{\"num_minor_ticks\":5,\"tickers\":[{\"id\":\"1225\"},{\"id\":\"1226\"},{\"id\":\"1227\"},{\"id\":\"1228\"},{\"id\":\"1229\"},{\"id\":\"1230\"},{\"id\":\"1231\"},{\"id\":\"1232\"},{\"id\":\"1233\"},{\"id\":\"1234\"},{\"id\":\"1235\"},{\"id\":\"1236\"}]},\"id\":\"1185\",\"type\":\"DatetimeTicker\"},{\"attributes\":{},\"id\":\"1215\",\"type\":\"BasicTickFormatter\"},{\"attributes\":{},\"id\":\"1182\",\"type\":\"LinearScale\"},{\"attributes\":{\"data_source\":{\"id\":\"1205\"},\"glyph\":{\"id\":\"1208\"},\"hover_glyph\":null,\"muted_glyph\":{\"id\":\"1210\"},\"nonselection_glyph\":{\"id\":\"1209\"},\"selection_glyph\":null,\"view\":{\"id\":\"1212\"}},\"id\":\"1211\",\"type\":\"GlyphRenderer\"},{\"attributes\":{\"months\":[0,6]},\"id\":\"1235\",\"type\":\"MonthsTicker\"},{\"attributes\":{},\"id\":\"1189\",\"type\":\"BasicTicker\"},{\"attributes\":{\"months\":[0,1,2,3,4,5,6,7,8,9,10,11]},\"id\":\"1232\",\"type\":\"MonthsTicker\"},{\"attributes\":{},\"id\":\"1223\",\"type\":\"UnionRenderers\"},{\"attributes\":{\"days\":[1,4,7,10,13,16,19,22,25,28]},\"id\":\"1229\",\"type\":\"DaysTicker\"},{\"attributes\":{\"align\":null,\"below\":[{\"id\":\"1184\"}],\"center\":[{\"id\":\"1187\"},{\"id\":\"1191\"}],\"left\":[{\"id\":\"1188\"}],\"margin\":null,\"min_border_bottom\":10,\"min_border_left\":10,\"min_border_right\":10,\"min_border_top\":10,\"plot_height\":300,\"plot_width\":700,\"renderers\":[{\"id\":\"1211\"}],\"sizing_mode\":\"fixed\",\"title\":{\"id\":\"1176\"},\"toolbar\":{\"id\":\"1198\"},\"x_range\":{\"id\":\"1172\"},\"x_scale\":{\"id\":\"1180\"},\"y_range\":{\"id\":\"1173\"},\"y_scale\":{\"id\":\"1182\"}},\"id\":\"1175\",\"subtype\":\"Figure\",\"type\":\"Plot\"},{\"attributes\":{\"axis\":{\"id\":\"1184\"},\"grid_line_color\":null,\"ticker\":null},\"id\":\"1187\",\"type\":\"Grid\"},{\"attributes\":{},\"id\":\"1180\",\"type\":\"LinearScale\"},{\"attributes\":{\"months\":[0,2,4,6,8,10]},\"id\":\"1233\",\"type\":\"MonthsTicker\"},{\"attributes\":{\"source\":{\"id\":\"1205\"}},\"id\":\"1212\",\"type\":\"CDSView\"},{\"attributes\":{\"axis\":{\"id\":\"1188\"},\"dimension\":1,\"grid_line_color\":null,\"ticker\":null},\"id\":\"1191\",\"type\":\"Grid\"}],\"root_ids\":[\"1170\"]},\"title\":\"Bokeh Application\",\"version\":\"2.0.2\"}};\n",
       "  var render_items = [{\"docid\":\"84be538c-42ca-4ac3-a530-a92d8730cd14\",\"root_ids\":[\"1170\"],\"roots\":{\"1170\":\"e4c6f5f2-a42b-4533-8c74-295d615f0e95\"}}];\n",
       "  root.Bokeh.embed.embed_items_notebook(docs_json, render_items);\n",
       "  }\n",
       "if (root.Bokeh !== undefined) {\n",
       "    embed_document(root);\n",
       "  } else {\n",
       "    var attempts = 0;\n",
       "    var timer = setInterval(function(root) {\n",
       "      if (root.Bokeh !== undefined) {\n",
       "        clearInterval(timer);\n",
       "        embed_document(root);\n",
       "      } else if (document.readyState == \"complete\") {\n",
       "        attempts++;\n",
       "        if (attempts > 100) {\n",
       "          clearInterval(timer);\n",
       "          console.log(\"Bokeh: ERROR: Unable to run BokehJS code because BokehJS library is missing\");\n",
       "        }\n",
       "      }\n",
       "    }, 10, root)\n",
       "  }\n",
       "})(window);</script>"
      ],
      "text/plain": [
       ":Curve   [index]   (Out-of-Sample Predictions)"
      ]
     },
     "execution_count": 163,
     "metadata": {
      "application/vnd.holoviews_exec.v0+json": {
       "id": "1170"
      }
     },
     "output_type": "execute_result"
    }
   ],
   "source": [
    "results_2020_divided = (results_2020['Out-of-Sample Predictions']/100)\n",
    "cumulative_returns_divided = (results_2020_divided + 1).cumprod()-1\n",
    "prices = (cumulative_returns_divided +1) * (df.loc['2020-01-02','MSFT_close'])\n",
    "prices.hvplot()"
   ]
  },
  {
   "cell_type": "code",
   "execution_count": 136,
   "metadata": {},
   "outputs": [
    {
     "name": "stdout",
     "output_type": "stream",
     "text": [
      "Rolling Out-of-Sample Root Mean Squared Error (RMSE): 3.064092248751763\n"
     ]
    }
   ],
   "source": [
    "# Out-of-sample metrics\n",
    "# Calculate the mean_squared_error (MSE) on actual versus predicted test \"y\" \n",
    "# (Hint: use the dataframe above)\n",
    "mse = mean_squared_error(\n",
    "    results_2020[\"Actual Returns\"],\n",
    "    results_2020[\"Out-of-Sample Predictions\"]\n",
    ")\n",
    "\n",
    "# Using that mean-squared-error, calculate the root-mean-squared error (RMSE):\n",
    "rolling_rmse = np.sqrt(mse)\n",
    "print(f\"Rolling Out-of-Sample Root Mean Squared Error (RMSE): {rolling_rmse}\")"
   ]
  },
  {
   "cell_type": "code",
   "execution_count": 137,
   "metadata": {},
   "outputs": [],
   "source": [
    "# Create a pickled model (save it)\n",
    "\n",
    "pkl_filename = \"pickle_regression_model.pkl\"\n",
    "with open(pkl_filename, 'wb') as file:\n",
    "    pickle.dump(model, file)"
   ]
  },
  {
   "cell_type": "code",
   "execution_count": null,
   "metadata": {},
   "outputs": [],
   "source": []
  }
 ],
 "metadata": {
  "kernelspec": {
   "display_name": "Python 3",
   "language": "python",
   "name": "python3"
  },
  "language_info": {
   "codemirror_mode": {
    "name": "ipython",
    "version": 3
   },
   "file_extension": ".py",
   "mimetype": "text/x-python",
   "name": "python",
   "nbconvert_exporter": "python",
   "pygments_lexer": "ipython3",
   "version": "3.7.7"
  }
 },
 "nbformat": 4,
 "nbformat_minor": 4
}
