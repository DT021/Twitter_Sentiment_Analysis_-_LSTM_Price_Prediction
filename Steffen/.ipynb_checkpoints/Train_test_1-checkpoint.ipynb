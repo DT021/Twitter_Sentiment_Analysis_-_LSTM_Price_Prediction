{
 "cells": [
  {
   "cell_type": "code",
   "execution_count": 7,
   "metadata": {},
   "outputs": [],
   "source": [
    "import numpy as np\n",
    "import pandas as pd\n",
    "from pathlib import Path\n",
    "%matplotlib inline"
   ]
  },
  {
   "cell_type": "code",
   "execution_count": 8,
   "metadata": {},
   "outputs": [
    {
     "data": {
      "text/html": [
       "<div>\n",
       "<style scoped>\n",
       "    .dataframe tbody tr th:only-of-type {\n",
       "        vertical-align: middle;\n",
       "    }\n",
       "\n",
       "    .dataframe tbody tr th {\n",
       "        vertical-align: top;\n",
       "    }\n",
       "\n",
       "    .dataframe thead th {\n",
       "        text-align: right;\n",
       "    }\n",
       "</style>\n",
       "<table border=\"1\" class=\"dataframe\">\n",
       "  <thead>\n",
       "    <tr style=\"text-align: right;\">\n",
       "      <th></th>\n",
       "      <th>MSFT_open</th>\n",
       "      <th>MSFT_high</th>\n",
       "      <th>MSFT_low</th>\n",
       "      <th>MSFT_close</th>\n",
       "      <th>AAPL_open</th>\n",
       "      <th>AAPL_high</th>\n",
       "      <th>AAPL_low</th>\n",
       "      <th>AAPL_close</th>\n",
       "      <th>TSLA_open</th>\n",
       "      <th>TSLA_high</th>\n",
       "      <th>...</th>\n",
       "      <th>JNJ_low</th>\n",
       "      <th>JNJ_close</th>\n",
       "      <th>REGN_open</th>\n",
       "      <th>REGN_high</th>\n",
       "      <th>REGN_low</th>\n",
       "      <th>REGN_close</th>\n",
       "      <th>GILD_open</th>\n",
       "      <th>GILD_high</th>\n",
       "      <th>GILD_low</th>\n",
       "      <th>GILD_close</th>\n",
       "    </tr>\n",
       "  </thead>\n",
       "  <tbody>\n",
       "    <tr>\n",
       "      <th>2010-06-29</th>\n",
       "      <td>24.13</td>\n",
       "      <td>24.20</td>\n",
       "      <td>23.110</td>\n",
       "      <td>23.31</td>\n",
       "      <td>264.1205</td>\n",
       "      <td>264.39</td>\n",
       "      <td>254.30</td>\n",
       "      <td>256.17</td>\n",
       "      <td>19.00</td>\n",
       "      <td>25.0000</td>\n",
       "      <td>...</td>\n",
       "      <td>58.680</td>\n",
       "      <td>59.24</td>\n",
       "      <td>23.67</td>\n",
       "      <td>23.95</td>\n",
       "      <td>22.86</td>\n",
       "      <td>22.98</td>\n",
       "      <td>35.40</td>\n",
       "      <td>35.61</td>\n",
       "      <td>34.740</td>\n",
       "      <td>34.97</td>\n",
       "    </tr>\n",
       "    <tr>\n",
       "      <th>2010-06-30</th>\n",
       "      <td>23.30</td>\n",
       "      <td>23.68</td>\n",
       "      <td>22.950</td>\n",
       "      <td>23.01</td>\n",
       "      <td>256.7100</td>\n",
       "      <td>257.97</td>\n",
       "      <td>250.01</td>\n",
       "      <td>251.53</td>\n",
       "      <td>25.79</td>\n",
       "      <td>30.4192</td>\n",
       "      <td>...</td>\n",
       "      <td>58.940</td>\n",
       "      <td>59.06</td>\n",
       "      <td>23.05</td>\n",
       "      <td>23.47</td>\n",
       "      <td>22.32</td>\n",
       "      <td>22.32</td>\n",
       "      <td>34.83</td>\n",
       "      <td>35.13</td>\n",
       "      <td>34.260</td>\n",
       "      <td>34.28</td>\n",
       "    </tr>\n",
       "    <tr>\n",
       "      <th>2010-07-01</th>\n",
       "      <td>23.09</td>\n",
       "      <td>23.32</td>\n",
       "      <td>22.730</td>\n",
       "      <td>23.16</td>\n",
       "      <td>254.3000</td>\n",
       "      <td>254.80</td>\n",
       "      <td>243.22</td>\n",
       "      <td>248.48</td>\n",
       "      <td>25.00</td>\n",
       "      <td>25.9200</td>\n",
       "      <td>...</td>\n",
       "      <td>58.650</td>\n",
       "      <td>59.07</td>\n",
       "      <td>22.31</td>\n",
       "      <td>22.37</td>\n",
       "      <td>20.45</td>\n",
       "      <td>20.79</td>\n",
       "      <td>34.24</td>\n",
       "      <td>34.27</td>\n",
       "      <td>33.300</td>\n",
       "      <td>34.14</td>\n",
       "    </tr>\n",
       "    <tr>\n",
       "      <th>2010-07-02</th>\n",
       "      <td>23.36</td>\n",
       "      <td>23.48</td>\n",
       "      <td>23.050</td>\n",
       "      <td>23.27</td>\n",
       "      <td>250.4900</td>\n",
       "      <td>250.93</td>\n",
       "      <td>243.20</td>\n",
       "      <td>246.94</td>\n",
       "      <td>23.00</td>\n",
       "      <td>23.1000</td>\n",
       "      <td>...</td>\n",
       "      <td>58.850</td>\n",
       "      <td>59.08</td>\n",
       "      <td>21.06</td>\n",
       "      <td>21.88</td>\n",
       "      <td>20.75</td>\n",
       "      <td>21.61</td>\n",
       "      <td>34.38</td>\n",
       "      <td>35.16</td>\n",
       "      <td>34.180</td>\n",
       "      <td>34.87</td>\n",
       "    </tr>\n",
       "    <tr>\n",
       "      <th>2010-07-06</th>\n",
       "      <td>23.70</td>\n",
       "      <td>24.09</td>\n",
       "      <td>23.584</td>\n",
       "      <td>23.82</td>\n",
       "      <td>251.0000</td>\n",
       "      <td>252.80</td>\n",
       "      <td>246.16</td>\n",
       "      <td>248.63</td>\n",
       "      <td>20.00</td>\n",
       "      <td>20.0000</td>\n",
       "      <td>...</td>\n",
       "      <td>58.669</td>\n",
       "      <td>59.08</td>\n",
       "      <td>22.03</td>\n",
       "      <td>22.03</td>\n",
       "      <td>21.16</td>\n",
       "      <td>21.36</td>\n",
       "      <td>35.11</td>\n",
       "      <td>35.42</td>\n",
       "      <td>34.415</td>\n",
       "      <td>34.77</td>\n",
       "    </tr>\n",
       "  </tbody>\n",
       "</table>\n",
       "<p>5 rows × 24 columns</p>\n",
       "</div>"
      ],
      "text/plain": [
       "            MSFT_open  MSFT_high  MSFT_low  MSFT_close  AAPL_open  AAPL_high  \\\n",
       "2010-06-29      24.13      24.20    23.110       23.31   264.1205     264.39   \n",
       "2010-06-30      23.30      23.68    22.950       23.01   256.7100     257.97   \n",
       "2010-07-01      23.09      23.32    22.730       23.16   254.3000     254.80   \n",
       "2010-07-02      23.36      23.48    23.050       23.27   250.4900     250.93   \n",
       "2010-07-06      23.70      24.09    23.584       23.82   251.0000     252.80   \n",
       "\n",
       "            AAPL_low  AAPL_close  TSLA_open  TSLA_high  ...  JNJ_low  \\\n",
       "2010-06-29    254.30      256.17      19.00    25.0000  ...   58.680   \n",
       "2010-06-30    250.01      251.53      25.79    30.4192  ...   58.940   \n",
       "2010-07-01    243.22      248.48      25.00    25.9200  ...   58.650   \n",
       "2010-07-02    243.20      246.94      23.00    23.1000  ...   58.850   \n",
       "2010-07-06    246.16      248.63      20.00    20.0000  ...   58.669   \n",
       "\n",
       "            JNJ_close  REGN_open  REGN_high  REGN_low  REGN_close  GILD_open  \\\n",
       "2010-06-29      59.24      23.67      23.95     22.86       22.98      35.40   \n",
       "2010-06-30      59.06      23.05      23.47     22.32       22.32      34.83   \n",
       "2010-07-01      59.07      22.31      22.37     20.45       20.79      34.24   \n",
       "2010-07-02      59.08      21.06      21.88     20.75       21.61      34.38   \n",
       "2010-07-06      59.08      22.03      22.03     21.16       21.36      35.11   \n",
       "\n",
       "            GILD_high  GILD_low  GILD_close  \n",
       "2010-06-29      35.61    34.740       34.97  \n",
       "2010-06-30      35.13    34.260       34.28  \n",
       "2010-07-01      34.27    33.300       34.14  \n",
       "2010-07-02      35.16    34.180       34.87  \n",
       "2010-07-06      35.42    34.415       34.77  \n",
       "\n",
       "[5 rows x 24 columns]"
      ]
     },
     "execution_count": 8,
     "metadata": {},
     "output_type": "execute_result"
    }
   ],
   "source": [
    "df = pd.read_csv(\n",
    "    Path('../data/stocks_history.csv'),\n",
    "    index_col='Unnamed: 0',\n",
    "    infer_datetime_format=True,\n",
    "    parse_dates=True\n",
    ")\n",
    "df.head()"
   ]
  },
  {
   "cell_type": "code",
   "execution_count": 9,
   "metadata": {},
   "outputs": [
    {
     "data": {
      "text/html": [
       "<div>\n",
       "<style scoped>\n",
       "    .dataframe tbody tr th:only-of-type {\n",
       "        vertical-align: middle;\n",
       "    }\n",
       "\n",
       "    .dataframe tbody tr th {\n",
       "        vertical-align: top;\n",
       "    }\n",
       "\n",
       "    .dataframe thead th {\n",
       "        text-align: right;\n",
       "    }\n",
       "</style>\n",
       "<table border=\"1\" class=\"dataframe\">\n",
       "  <thead>\n",
       "    <tr style=\"text-align: right;\">\n",
       "      <th></th>\n",
       "      <th>MSFT_close</th>\n",
       "      <th>AAPL_close</th>\n",
       "      <th>TSLA_close</th>\n",
       "      <th>JNJ_close</th>\n",
       "      <th>REGN_close</th>\n",
       "      <th>GILD_close</th>\n",
       "    </tr>\n",
       "  </thead>\n",
       "  <tbody>\n",
       "    <tr>\n",
       "      <th>2010-06-29</th>\n",
       "      <td>23.31</td>\n",
       "      <td>256.17</td>\n",
       "      <td>23.89</td>\n",
       "      <td>59.24</td>\n",
       "      <td>22.98</td>\n",
       "      <td>34.97</td>\n",
       "    </tr>\n",
       "    <tr>\n",
       "      <th>2010-06-30</th>\n",
       "      <td>23.01</td>\n",
       "      <td>251.53</td>\n",
       "      <td>23.83</td>\n",
       "      <td>59.06</td>\n",
       "      <td>22.32</td>\n",
       "      <td>34.28</td>\n",
       "    </tr>\n",
       "    <tr>\n",
       "      <th>2010-07-01</th>\n",
       "      <td>23.16</td>\n",
       "      <td>248.48</td>\n",
       "      <td>21.96</td>\n",
       "      <td>59.07</td>\n",
       "      <td>20.79</td>\n",
       "      <td>34.14</td>\n",
       "    </tr>\n",
       "    <tr>\n",
       "      <th>2010-07-02</th>\n",
       "      <td>23.27</td>\n",
       "      <td>246.94</td>\n",
       "      <td>19.20</td>\n",
       "      <td>59.08</td>\n",
       "      <td>21.61</td>\n",
       "      <td>34.87</td>\n",
       "    </tr>\n",
       "    <tr>\n",
       "      <th>2010-07-06</th>\n",
       "      <td>23.82</td>\n",
       "      <td>248.63</td>\n",
       "      <td>16.11</td>\n",
       "      <td>59.08</td>\n",
       "      <td>21.36</td>\n",
       "      <td>34.77</td>\n",
       "    </tr>\n",
       "  </tbody>\n",
       "</table>\n",
       "</div>"
      ],
      "text/plain": [
       "            MSFT_close  AAPL_close  TSLA_close  JNJ_close  REGN_close  \\\n",
       "2010-06-29       23.31      256.17       23.89      59.24       22.98   \n",
       "2010-06-30       23.01      251.53       23.83      59.06       22.32   \n",
       "2010-07-01       23.16      248.48       21.96      59.07       20.79   \n",
       "2010-07-02       23.27      246.94       19.20      59.08       21.61   \n",
       "2010-07-06       23.82      248.63       16.11      59.08       21.36   \n",
       "\n",
       "            GILD_close  \n",
       "2010-06-29       34.97  \n",
       "2010-06-30       34.28  \n",
       "2010-07-01       34.14  \n",
       "2010-07-02       34.87  \n",
       "2010-07-06       34.77  "
      ]
     },
     "execution_count": 9,
     "metadata": {},
     "output_type": "execute_result"
    }
   ],
   "source": [
    "# drop all columns except closing prices\n",
    "dropped_columns = [\n",
    "    'MSFT_open',\n",
    "    'MSFT_high',\n",
    "    'MSFT_low',\n",
    "    'AAPL_open',\n",
    "    'AAPL_high',\n",
    "    'AAPL_low',\n",
    "    'TSLA_open',\n",
    "    'TSLA_high',\n",
    "    'TSLA_low',\n",
    "    'JNJ_open',\n",
    "    'JNJ_high',\n",
    "    'JNJ_low',\n",
    "    'REGN_open',\n",
    "    'REGN_high',\n",
    "    'REGN_low',\n",
    "    'GILD_open',\n",
    "    'GILD_high',\n",
    "    'GILD_low'\n",
    "]\n",
    "df.drop(columns=dropped_columns, inplace=True)\n",
    "df.head()"
   ]
  },
  {
   "cell_type": "code",
   "execution_count": 13,
   "metadata": {},
   "outputs": [
    {
     "data": {
      "text/plain": [
       "<matplotlib.axes._subplots.AxesSubplot at 0x7fea5bec3090>"
      ]
     },
     "execution_count": 13,
     "metadata": {},
     "output_type": "execute_result"
    },
    {
     "data": {
      "image/png": "[encoded data removed]",
      "text/plain": [
       "<Figure size 432x288 with 1 Axes>"
      ]
     },
     "metadata": {
      "needs_background": "light"
     },
     "output_type": "display_data"
    }
   ],
   "source": [
    "df['AAPL_close'].plot()"
   ]
  },
  {
   "cell_type": "code",
   "execution_count": 11,
   "metadata": {},
   "outputs": [
    {
     "data": {
      "text/plain": [
       "<matplotlib.axes._subplots.AxesSubplot at 0x7fea58234d90>"
      ]
     },
     "execution_count": 11,
     "metadata": {},
     "output_type": "execute_result"
    },
    {
     "data": {
      "image/png": "[encoded data removed]",
      "text/plain": [
       "<Figure size 432x288 with 1 Axes>"
      ]
     },
     "metadata": {
      "needs_background": "light"
     },
     "output_type": "display_data"
    }
   ],
   "source": [
    "df['TSLA_close'].plot()"
   ]
  },
  {
   "cell_type": "code",
   "execution_count": 12,
   "metadata": {},
   "outputs": [
    {
     "data": {
      "text/plain": [
       "<matplotlib.axes._subplots.AxesSubplot at 0x7fea5bd11710>"
      ]
     },
     "execution_count": 12,
     "metadata": {},
     "output_type": "execute_result"
    },
    {
     "data": {
      "image/png": "[encoded data removed]",
      "text/plain": [
       "<Figure size 432x288 with 1 Axes>"
      ]
     },
     "metadata": {
      "needs_background": "light"
     },
     "output_type": "display_data"
    }
   ],
   "source": [
    "df.plot()"
   ]
  },
  {
   "cell_type": "code",
   "execution_count": 21,
   "metadata": {},
   "outputs": [],
   "source": [
    "df['MSFT_return'] = df['MSFT_close'].pct_change() * 100\n",
    "df['MSFT_lagged_return'] = df['MSFT_return'].shift()\n",
    "df['AAPL_return'] = df['AAPL_close'].pct_change() * 100\n",
    "df['AAPL_lagged_return'] = df['AAPL_return'].shift()\n",
    "df['TSLA_return'] = df['TSLA_close'].pct_change() * 100\n",
    "df['TSLA_lagged_return'] = df['TSLA_return'].shift()\n",
    "df['JNJ_return'] = df['JNJ_close'].pct_change() * 100\n",
    "df['JNJ_lagged_return'] = df['JNJ_return'].shift()\n",
    "df['REGN_return'] = df['REGN_close'].pct_change() * 100\n",
    "df['REGN_lagged_return'] = df['REGN_return'].shift()\n",
    "df['GILD_return'] = df['GILD_close'].pct_change() * 100\n",
    "df['GILD_lagged_return'] = df['GILD_return'].shift()"
   ]
  },
  {
   "cell_type": "code",
   "execution_count": 22,
   "metadata": {},
   "outputs": [
    {
     "data": {
      "text/html": [
       "<div>\n",
       "<style scoped>\n",
       "    .dataframe tbody tr th:only-of-type {\n",
       "        vertical-align: middle;\n",
       "    }\n",
       "\n",
       "    .dataframe tbody tr th {\n",
       "        vertical-align: top;\n",
       "    }\n",
       "\n",
       "    .dataframe thead th {\n",
       "        text-align: right;\n",
       "    }\n",
       "</style>\n",
       "<table border=\"1\" class=\"dataframe\">\n",
       "  <thead>\n",
       "    <tr style=\"text-align: right;\">\n",
       "      <th></th>\n",
       "      <th>MSFT_close</th>\n",
       "      <th>AAPL_close</th>\n",
       "      <th>TSLA_close</th>\n",
       "      <th>JNJ_close</th>\n",
       "      <th>REGN_close</th>\n",
       "      <th>GILD_close</th>\n",
       "      <th>AAPL_return</th>\n",
       "      <th>AAP_lagged_return</th>\n",
       "      <th>AAPL_lagged_return</th>\n",
       "      <th>TSLA_return</th>\n",
       "      <th>TSLA_lagged_return</th>\n",
       "      <th>MSFT_return</th>\n",
       "      <th>MSFT_lagged_return</th>\n",
       "      <th>JNJ_return</th>\n",
       "      <th>JNJ_lagged_return</th>\n",
       "      <th>REGN_return</th>\n",
       "      <th>REGN_lagged_return</th>\n",
       "      <th>GILD_return</th>\n",
       "      <th>GILD_lagged_return</th>\n",
       "    </tr>\n",
       "  </thead>\n",
       "  <tbody>\n",
       "    <tr>\n",
       "      <th>2020-06-29</th>\n",
       "      <td>198.44</td>\n",
       "      <td>361.78</td>\n",
       "      <td>1009.35</td>\n",
       "      <td>139.04</td>\n",
       "      <td>610.87</td>\n",
       "      <td>74.56</td>\n",
       "      <td>2.304669</td>\n",
       "      <td>-3.072580</td>\n",
       "      <td>-3.072580</td>\n",
       "      <td>5.169108</td>\n",
       "      <td>-2.661312</td>\n",
       "      <td>1.074721</td>\n",
       "      <td>-2.001597</td>\n",
       "      <td>0.892533</td>\n",
       "      <td>-1.331710</td>\n",
       "      <td>-0.080149</td>\n",
       "      <td>-1.387186</td>\n",
       "      <td>-0.013410</td>\n",
       "      <td>-1.218704</td>\n",
       "    </tr>\n",
       "    <tr>\n",
       "      <th>2020-06-30</th>\n",
       "      <td>203.51</td>\n",
       "      <td>364.80</td>\n",
       "      <td>1079.81</td>\n",
       "      <td>140.63</td>\n",
       "      <td>623.65</td>\n",
       "      <td>76.94</td>\n",
       "      <td>0.834761</td>\n",
       "      <td>2.304669</td>\n",
       "      <td>2.304669</td>\n",
       "      <td>6.980730</td>\n",
       "      <td>5.169108</td>\n",
       "      <td>2.554928</td>\n",
       "      <td>1.074721</td>\n",
       "      <td>1.143556</td>\n",
       "      <td>0.892533</td>\n",
       "      <td>2.092098</td>\n",
       "      <td>-0.080149</td>\n",
       "      <td>3.192060</td>\n",
       "      <td>-0.013410</td>\n",
       "    </tr>\n",
       "    <tr>\n",
       "      <th>2020-07-01</th>\n",
       "      <td>204.70</td>\n",
       "      <td>364.11</td>\n",
       "      <td>1119.63</td>\n",
       "      <td>140.38</td>\n",
       "      <td>609.17</td>\n",
       "      <td>76.06</td>\n",
       "      <td>-0.189145</td>\n",
       "      <td>0.834761</td>\n",
       "      <td>0.834761</td>\n",
       "      <td>3.687686</td>\n",
       "      <td>6.980730</td>\n",
       "      <td>0.584738</td>\n",
       "      <td>2.554928</td>\n",
       "      <td>-0.177771</td>\n",
       "      <td>1.143556</td>\n",
       "      <td>-2.321815</td>\n",
       "      <td>2.092098</td>\n",
       "      <td>-1.143748</td>\n",
       "      <td>3.192060</td>\n",
       "    </tr>\n",
       "    <tr>\n",
       "      <th>2020-07-02</th>\n",
       "      <td>206.26</td>\n",
       "      <td>364.11</td>\n",
       "      <td>1208.66</td>\n",
       "      <td>140.97</td>\n",
       "      <td>622.45</td>\n",
       "      <td>76.35</td>\n",
       "      <td>0.000000</td>\n",
       "      <td>-0.189145</td>\n",
       "      <td>-0.189145</td>\n",
       "      <td>7.951734</td>\n",
       "      <td>3.687686</td>\n",
       "      <td>0.762091</td>\n",
       "      <td>0.584738</td>\n",
       "      <td>0.420288</td>\n",
       "      <td>-0.177771</td>\n",
       "      <td>2.180015</td>\n",
       "      <td>-2.321815</td>\n",
       "      <td>0.381278</td>\n",
       "      <td>-1.143748</td>\n",
       "    </tr>\n",
       "    <tr>\n",
       "      <th>2020-07-06</th>\n",
       "      <td>210.70</td>\n",
       "      <td>373.85</td>\n",
       "      <td>1371.58</td>\n",
       "      <td>142.98</td>\n",
       "      <td>627.25</td>\n",
       "      <td>76.76</td>\n",
       "      <td>2.675016</td>\n",
       "      <td>0.000000</td>\n",
       "      <td>0.000000</td>\n",
       "      <td>13.479390</td>\n",
       "      <td>7.951734</td>\n",
       "      <td>2.152623</td>\n",
       "      <td>0.762091</td>\n",
       "      <td>1.425835</td>\n",
       "      <td>0.420288</td>\n",
       "      <td>0.771146</td>\n",
       "      <td>2.180015</td>\n",
       "      <td>0.537001</td>\n",
       "      <td>0.381278</td>\n",
       "    </tr>\n",
       "  </tbody>\n",
       "</table>\n",
       "</div>"
      ],
      "text/plain": [
       "            MSFT_close  AAPL_close  TSLA_close  JNJ_close  REGN_close  \\\n",
       "2020-06-29      198.44      361.78     1009.35     139.04      610.87   \n",
       "2020-06-30      203.51      364.80     1079.81     140.63      623.65   \n",
       "2020-07-01      204.70      364.11     1119.63     140.38      609.17   \n",
       "2020-07-02      206.26      364.11     1208.66     140.97      622.45   \n",
       "2020-07-06      210.70      373.85     1371.58     142.98      627.25   \n",
       "\n",
       "            GILD_close  AAPL_return  AAP_lagged_return  AAPL_lagged_return  \\\n",
       "2020-06-29       74.56     2.304669          -3.072580           -3.072580   \n",
       "2020-06-30       76.94     0.834761           2.304669            2.304669   \n",
       "2020-07-01       76.06    -0.189145           0.834761            0.834761   \n",
       "2020-07-02       76.35     0.000000          -0.189145           -0.189145   \n",
       "2020-07-06       76.76     2.675016           0.000000            0.000000   \n",
       "\n",
       "            TSLA_return  TSLA_lagged_return  MSFT_return  MSFT_lagged_return  \\\n",
       "2020-06-29     5.169108           -2.661312     1.074721           -2.001597   \n",
       "2020-06-30     6.980730            5.169108     2.554928            1.074721   \n",
       "2020-07-01     3.687686            6.980730     0.584738            2.554928   \n",
       "2020-07-02     7.951734            3.687686     0.762091            0.584738   \n",
       "2020-07-06    13.479390            7.951734     2.152623            0.762091   \n",
       "\n",
       "            JNJ_return  JNJ_lagged_return  REGN_return  REGN_lagged_return  \\\n",
       "2020-06-29    0.892533          -1.331710    -0.080149           -1.387186   \n",
       "2020-06-30    1.143556           0.892533     2.092098           -0.080149   \n",
       "2020-07-01   -0.177771           1.143556    -2.321815            2.092098   \n",
       "2020-07-02    0.420288          -0.177771     2.180015           -2.321815   \n",
       "2020-07-06    1.425835           0.420288     0.771146            2.180015   \n",
       "\n",
       "            GILD_return  GILD_lagged_return  \n",
       "2020-06-29    -0.013410           -1.218704  \n",
       "2020-06-30     3.192060           -0.013410  \n",
       "2020-07-01    -1.143748            3.192060  \n",
       "2020-07-02     0.381278           -1.143748  \n",
       "2020-07-06     0.537001            0.381278  "
      ]
     },
     "execution_count": 22,
     "metadata": {},
     "output_type": "execute_result"
    }
   ],
   "source": [
    "df.tail()"
   ]
  },
  {
   "cell_type": "code",
   "execution_count": 23,
   "metadata": {},
   "outputs": [
    {
     "data": {
      "text/html": [
       "<div>\n",
       "<style scoped>\n",
       "    .dataframe tbody tr th:only-of-type {\n",
       "        vertical-align: middle;\n",
       "    }\n",
       "\n",
       "    .dataframe tbody tr th {\n",
       "        vertical-align: top;\n",
       "    }\n",
       "\n",
       "    .dataframe thead th {\n",
       "        text-align: right;\n",
       "    }\n",
       "</style>\n",
       "<table border=\"1\" class=\"dataframe\">\n",
       "  <thead>\n",
       "    <tr style=\"text-align: right;\">\n",
       "      <th></th>\n",
       "      <th>MSFT_close</th>\n",
       "      <th>AAPL_close</th>\n",
       "      <th>TSLA_close</th>\n",
       "      <th>JNJ_close</th>\n",
       "      <th>REGN_close</th>\n",
       "      <th>GILD_close</th>\n",
       "      <th>AAPL_return</th>\n",
       "      <th>AAP_lagged_return</th>\n",
       "      <th>AAPL_lagged_return</th>\n",
       "      <th>TSLA_return</th>\n",
       "      <th>TSLA_lagged_return</th>\n",
       "      <th>MSFT_return</th>\n",
       "      <th>MSFT_lagged_return</th>\n",
       "      <th>JNJ_return</th>\n",
       "      <th>JNJ_lagged_return</th>\n",
       "      <th>REGN_return</th>\n",
       "      <th>REGN_lagged_return</th>\n",
       "      <th>GILD_return</th>\n",
       "      <th>GILD_lagged_return</th>\n",
       "    </tr>\n",
       "  </thead>\n",
       "  <tbody>\n",
       "    <tr>\n",
       "      <th>2020-06-29</th>\n",
       "      <td>198.44</td>\n",
       "      <td>361.78</td>\n",
       "      <td>1009.35</td>\n",
       "      <td>139.04</td>\n",
       "      <td>610.87</td>\n",
       "      <td>74.56</td>\n",
       "      <td>2.304669</td>\n",
       "      <td>-3.072580</td>\n",
       "      <td>-3.072580</td>\n",
       "      <td>5.169108</td>\n",
       "      <td>-2.661312</td>\n",
       "      <td>1.074721</td>\n",
       "      <td>-2.001597</td>\n",
       "      <td>0.892533</td>\n",
       "      <td>-1.331710</td>\n",
       "      <td>-0.080149</td>\n",
       "      <td>-1.387186</td>\n",
       "      <td>-0.013410</td>\n",
       "      <td>-1.218704</td>\n",
       "    </tr>\n",
       "    <tr>\n",
       "      <th>2020-06-30</th>\n",
       "      <td>203.51</td>\n",
       "      <td>364.80</td>\n",
       "      <td>1079.81</td>\n",
       "      <td>140.63</td>\n",
       "      <td>623.65</td>\n",
       "      <td>76.94</td>\n",
       "      <td>0.834761</td>\n",
       "      <td>2.304669</td>\n",
       "      <td>2.304669</td>\n",
       "      <td>6.980730</td>\n",
       "      <td>5.169108</td>\n",
       "      <td>2.554928</td>\n",
       "      <td>1.074721</td>\n",
       "      <td>1.143556</td>\n",
       "      <td>0.892533</td>\n",
       "      <td>2.092098</td>\n",
       "      <td>-0.080149</td>\n",
       "      <td>3.192060</td>\n",
       "      <td>-0.013410</td>\n",
       "    </tr>\n",
       "    <tr>\n",
       "      <th>2020-07-01</th>\n",
       "      <td>204.70</td>\n",
       "      <td>364.11</td>\n",
       "      <td>1119.63</td>\n",
       "      <td>140.38</td>\n",
       "      <td>609.17</td>\n",
       "      <td>76.06</td>\n",
       "      <td>-0.189145</td>\n",
       "      <td>0.834761</td>\n",
       "      <td>0.834761</td>\n",
       "      <td>3.687686</td>\n",
       "      <td>6.980730</td>\n",
       "      <td>0.584738</td>\n",
       "      <td>2.554928</td>\n",
       "      <td>-0.177771</td>\n",
       "      <td>1.143556</td>\n",
       "      <td>-2.321815</td>\n",
       "      <td>2.092098</td>\n",
       "      <td>-1.143748</td>\n",
       "      <td>3.192060</td>\n",
       "    </tr>\n",
       "    <tr>\n",
       "      <th>2020-07-02</th>\n",
       "      <td>206.26</td>\n",
       "      <td>364.11</td>\n",
       "      <td>1208.66</td>\n",
       "      <td>140.97</td>\n",
       "      <td>622.45</td>\n",
       "      <td>76.35</td>\n",
       "      <td>0.000000</td>\n",
       "      <td>-0.189145</td>\n",
       "      <td>-0.189145</td>\n",
       "      <td>7.951734</td>\n",
       "      <td>3.687686</td>\n",
       "      <td>0.762091</td>\n",
       "      <td>0.584738</td>\n",
       "      <td>0.420288</td>\n",
       "      <td>-0.177771</td>\n",
       "      <td>2.180015</td>\n",
       "      <td>-2.321815</td>\n",
       "      <td>0.381278</td>\n",
       "      <td>-1.143748</td>\n",
       "    </tr>\n",
       "    <tr>\n",
       "      <th>2020-07-06</th>\n",
       "      <td>210.70</td>\n",
       "      <td>373.85</td>\n",
       "      <td>1371.58</td>\n",
       "      <td>142.98</td>\n",
       "      <td>627.25</td>\n",
       "      <td>76.76</td>\n",
       "      <td>2.675016</td>\n",
       "      <td>0.000000</td>\n",
       "      <td>0.000000</td>\n",
       "      <td>13.479390</td>\n",
       "      <td>7.951734</td>\n",
       "      <td>2.152623</td>\n",
       "      <td>0.762091</td>\n",
       "      <td>1.425835</td>\n",
       "      <td>0.420288</td>\n",
       "      <td>0.771146</td>\n",
       "      <td>2.180015</td>\n",
       "      <td>0.537001</td>\n",
       "      <td>0.381278</td>\n",
       "    </tr>\n",
       "  </tbody>\n",
       "</table>\n",
       "</div>"
      ],
      "text/plain": [
       "            MSFT_close  AAPL_close  TSLA_close  JNJ_close  REGN_close  \\\n",
       "2020-06-29      198.44      361.78     1009.35     139.04      610.87   \n",
       "2020-06-30      203.51      364.80     1079.81     140.63      623.65   \n",
       "2020-07-01      204.70      364.11     1119.63     140.38      609.17   \n",
       "2020-07-02      206.26      364.11     1208.66     140.97      622.45   \n",
       "2020-07-06      210.70      373.85     1371.58     142.98      627.25   \n",
       "\n",
       "            GILD_close  AAPL_return  AAP_lagged_return  AAPL_lagged_return  \\\n",
       "2020-06-29       74.56     2.304669          -3.072580           -3.072580   \n",
       "2020-06-30       76.94     0.834761           2.304669            2.304669   \n",
       "2020-07-01       76.06    -0.189145           0.834761            0.834761   \n",
       "2020-07-02       76.35     0.000000          -0.189145           -0.189145   \n",
       "2020-07-06       76.76     2.675016           0.000000            0.000000   \n",
       "\n",
       "            TSLA_return  TSLA_lagged_return  MSFT_return  MSFT_lagged_return  \\\n",
       "2020-06-29     5.169108           -2.661312     1.074721           -2.001597   \n",
       "2020-06-30     6.980730            5.169108     2.554928            1.074721   \n",
       "2020-07-01     3.687686            6.980730     0.584738            2.554928   \n",
       "2020-07-02     7.951734            3.687686     0.762091            0.584738   \n",
       "2020-07-06    13.479390            7.951734     2.152623            0.762091   \n",
       "\n",
       "            JNJ_return  JNJ_lagged_return  REGN_return  REGN_lagged_return  \\\n",
       "2020-06-29    0.892533          -1.331710    -0.080149           -1.387186   \n",
       "2020-06-30    1.143556           0.892533     2.092098           -0.080149   \n",
       "2020-07-01   -0.177771           1.143556    -2.321815            2.092098   \n",
       "2020-07-02    0.420288          -0.177771     2.180015           -2.321815   \n",
       "2020-07-06    1.425835           0.420288     0.771146            2.180015   \n",
       "\n",
       "            GILD_return  GILD_lagged_return  \n",
       "2020-06-29    -0.013410           -1.218704  \n",
       "2020-06-30     3.192060           -0.013410  \n",
       "2020-07-01    -1.143748            3.192060  \n",
       "2020-07-02     0.381278           -1.143748  \n",
       "2020-07-06     0.537001            0.381278  "
      ]
     },
     "execution_count": 23,
     "metadata": {},
     "output_type": "execute_result"
    }
   ],
   "source": [
    "df = df.dropna()\n",
    "df.tail()"
   ]
  },
  {
   "cell_type": "code",
   "execution_count": 47,
   "metadata": {},
   "outputs": [],
   "source": [
    "# Slice data in test and training \n",
    "train = df.loc['2010':'2017']\n",
    "test = df.loc['2018' :'2020']"
   ]
  },
  {
   "cell_type": "code",
   "execution_count": 48,
   "metadata": {},
   "outputs": [],
   "source": [
    "# Create dataframes for X_train and X_test\n",
    "# Create series for y_train and y_test\n",
    "# X_train (training set using just the independent variables), X_test (test set of of just the independent variables)\n",
    "# Y_train (training set using just the \"y\" variable, i.e., \"Futures Return\"), Y_test (test set of just the \"y\" variable):\n",
    "X_train = train[\"MSFT_return\"].to_frame()\n",
    "X_test = test[\"MSFT_lagged_return\"].to_frame()\n",
    "y_train = train[\"MSFT_return\"]\n",
    "y_test = test[\"MSFT_return\"]"
   ]
  },
  {
   "cell_type": "code",
   "execution_count": 49,
   "metadata": {},
   "outputs": [],
   "source": [
    "from sklearn.linear_model import LinearRegression"
   ]
  },
  {
   "cell_type": "code",
   "execution_count": 50,
   "metadata": {},
   "outputs": [
    {
     "data": {
      "text/plain": [
       "LinearRegression(copy_X=True, fit_intercept=True, n_jobs=None, normalize=False)"
      ]
     },
     "execution_count": 50,
     "metadata": {},
     "output_type": "execute_result"
    }
   ],
   "source": [
    "#Fit a SKLearn linear regression using  just the training set (X_train, Y_train):\n",
    "model = LinearRegression()\n",
    "model.fit(X_train, y_train)"
   ]
  },
  {
   "cell_type": "code",
   "execution_count": 51,
   "metadata": {},
   "outputs": [],
   "source": [
    "# And make a prediction of \"y\" values for just the test dataset\n",
    "predictions = model.predict(X_test)"
   ]
  },
  {
   "cell_type": "code",
   "execution_count": 52,
   "metadata": {},
   "outputs": [],
   "source": [
    "# Construct a dataframe using just the \"y\" training data:\n",
    "out_of_sample_results = y_test.to_frame()\n",
    "\n",
    "# Add a column of \"out-of-sample\" predictions to that dataframe:  \n",
    "out_of_sample_results[\"Out-of-Sample Predictions\"] = model.predict(X_test)"
   ]
  },
  {
   "cell_type": "code",
   "execution_count": 53,
   "metadata": {},
   "outputs": [
    {
     "data": {
      "text/plain": [
       "array([<matplotlib.axes._subplots.AxesSubplot object at 0x7fea5d8e66d0>,\n",
       "       <matplotlib.axes._subplots.AxesSubplot object at 0x7fea5dabbf50>],\n",
       "      dtype=object)"
      ]
     },
     "execution_count": 53,
     "metadata": {},
     "output_type": "execute_result"
    },
    {
     "data": {
      "image/png": "[encoded data removed]",
      "text/plain": [
       "<Figure size 432x288 with 2 Axes>"
      ]
     },
     "metadata": {
      "needs_background": "light"
     },
     "output_type": "display_data"
    }
   ],
   "source": [
    "# Plot the out-of-sample results for 2019\n",
    "out_of_sample_results.plot(subplots=True)"
   ]
  },
  {
   "cell_type": "code",
   "execution_count": 54,
   "metadata": {},
   "outputs": [
    {
     "data": {
      "text/html": [
       "<div>\n",
       "<style scoped>\n",
       "    .dataframe tbody tr th:only-of-type {\n",
       "        vertical-align: middle;\n",
       "    }\n",
       "\n",
       "    .dataframe tbody tr th {\n",
       "        vertical-align: top;\n",
       "    }\n",
       "\n",
       "    .dataframe thead th {\n",
       "        text-align: right;\n",
       "    }\n",
       "</style>\n",
       "<table border=\"1\" class=\"dataframe\">\n",
       "  <thead>\n",
       "    <tr style=\"text-align: right;\">\n",
       "      <th></th>\n",
       "      <th>MSFT_return</th>\n",
       "      <th>Out-of-Sample Predictions</th>\n",
       "    </tr>\n",
       "  </thead>\n",
       "  <tbody>\n",
       "    <tr>\n",
       "      <th>2018-01-02</th>\n",
       "      <td>0.479308</td>\n",
       "      <td>-0.209986</td>\n",
       "    </tr>\n",
       "    <tr>\n",
       "      <th>2018-01-03</th>\n",
       "      <td>0.465387</td>\n",
       "      <td>0.479308</td>\n",
       "    </tr>\n",
       "    <tr>\n",
       "      <th>2018-01-04</th>\n",
       "      <td>0.880139</td>\n",
       "      <td>0.465387</td>\n",
       "    </tr>\n",
       "    <tr>\n",
       "      <th>2018-01-05</th>\n",
       "      <td>1.239812</td>\n",
       "      <td>0.880139</td>\n",
       "    </tr>\n",
       "    <tr>\n",
       "      <th>2018-01-08</th>\n",
       "      <td>0.102052</td>\n",
       "      <td>1.239812</td>\n",
       "    </tr>\n",
       "  </tbody>\n",
       "</table>\n",
       "</div>"
      ],
      "text/plain": [
       "            MSFT_return  Out-of-Sample Predictions\n",
       "2018-01-02     0.479308                  -0.209986\n",
       "2018-01-03     0.465387                   0.479308\n",
       "2018-01-04     0.880139                   0.465387\n",
       "2018-01-05     1.239812                   0.880139\n",
       "2018-01-08     0.102052                   1.239812"
      ]
     },
     "execution_count": 54,
     "metadata": {},
     "output_type": "execute_result"
    }
   ],
   "source": [
    "out_of_sample_results.head()"
   ]
  },
  {
   "cell_type": "code",
   "execution_count": 55,
   "metadata": {},
   "outputs": [
    {
     "name": "stdout",
     "output_type": "stream",
     "text": [
      "Out-of-sample Root Mean Squared Error (RMSE): 3.3693771978570424\n"
     ]
    }
   ],
   "source": [
    "# Calculate out-of-sample mean_squared_error (for comparison to out-of-sample)\n",
    "out_of_sample_mse = mean_squared_error(\n",
    "    out_of_sample_results[\"MSFT_return\"],\n",
    "    out_of_sample_results[\"Out-of-Sample Predictions\"]\n",
    ")\n",
    "\n",
    "# Calculate out-of-sample root mean_squared_error (for comparison to out-of-sample)\n",
    "out_of_sample_rmse = np.sqrt(out_of_sample_mse)\n",
    "print(f\"Out-of-sample Root Mean Squared Error (RMSE): {out_of_sample_rmse}\")"
   ]
  },
  {
   "cell_type": "code",
   "execution_count": 56,
   "metadata": {},
   "outputs": [],
   "source": [
    "# Create dataframes for X_train and X_test\n",
    "# Create series for y_train and y_test\n",
    "# X_train (training set using just the independent variables), X_test (test set of of just the independent variables)\n",
    "# Y_train (training set using just the \"y\" variable, i.e., \"Futures Return\"), Y_test (test set of just the \"y\" variable):\n",
    "X_train = train[\"AAPL_return\"].to_frame()\n",
    "X_test = test[\"AAPL_lagged_return\"].to_frame()\n",
    "y_train = train[\"AAPL_return\"]\n",
    "y_test = test[\"AAPL_return\"]"
   ]
  },
  {
   "cell_type": "code",
   "execution_count": 57,
   "metadata": {},
   "outputs": [
    {
     "data": {
      "text/plain": [
       "LinearRegression(copy_X=True, fit_intercept=True, n_jobs=None, normalize=False)"
      ]
     },
     "execution_count": 57,
     "metadata": {},
     "output_type": "execute_result"
    }
   ],
   "source": [
    "#Fit a SKLearn linear regression using  just the training set (X_train, Y_train):\n",
    "model = LinearRegression()\n",
    "model.fit(X_train, y_train)"
   ]
  },
  {
   "cell_type": "code",
   "execution_count": 58,
   "metadata": {},
   "outputs": [],
   "source": [
    "# And make a prediction of \"y\" values for just the test dataset\n",
    "predictions = model.predict(X_test)"
   ]
  },
  {
   "cell_type": "code",
   "execution_count": 59,
   "metadata": {},
   "outputs": [],
   "source": [
    "# Construct a dataframe using just the \"y\" training data:\n",
    "out_of_sample_results = y_test.to_frame()\n",
    "\n",
    "# Add a column of \"out-of-sample\" predictions to that dataframe:  \n",
    "out_of_sample_results[\"Out-of-Sample Predictions\"] = model.predict(X_test)"
   ]
  },
  {
   "cell_type": "code",
   "execution_count": 60,
   "metadata": {},
   "outputs": [
    {
     "data": {
      "text/plain": [
       "array([<matplotlib.axes._subplots.AxesSubplot object at 0x7fea5dd4d490>,\n",
       "       <matplotlib.axes._subplots.AxesSubplot object at 0x7fea5df1eb50>],\n",
       "      dtype=object)"
      ]
     },
     "execution_count": 60,
     "metadata": {},
     "output_type": "execute_result"
    },
    {
     "data": {
      "image/png": "[encoded data removed]",
      "text/plain": [
       "<Figure size 432x288 with 2 Axes>"
      ]
     },
     "metadata": {
      "needs_background": "light"
     },
     "output_type": "display_data"
    }
   ],
   "source": [
    "# Plot the out-of-sample results for 2019\n",
    "out_of_sample_results.plot(subplots=True)"
   ]
  },
  {
   "cell_type": "code",
   "execution_count": 61,
   "metadata": {},
   "outputs": [
    {
     "data": {
      "text/html": [
       "<div>\n",
       "<style scoped>\n",
       "    .dataframe tbody tr th:only-of-type {\n",
       "        vertical-align: middle;\n",
       "    }\n",
       "\n",
       "    .dataframe tbody tr th {\n",
       "        vertical-align: top;\n",
       "    }\n",
       "\n",
       "    .dataframe thead th {\n",
       "        text-align: right;\n",
       "    }\n",
       "</style>\n",
       "<table border=\"1\" class=\"dataframe\">\n",
       "  <thead>\n",
       "    <tr style=\"text-align: right;\">\n",
       "      <th></th>\n",
       "      <th>AAPL_return</th>\n",
       "      <th>Out-of-Sample Predictions</th>\n",
       "    </tr>\n",
       "  </thead>\n",
       "  <tbody>\n",
       "    <tr>\n",
       "      <th>2018-01-02</th>\n",
       "      <td>1.790463</td>\n",
       "      <td>-1.081365</td>\n",
       "    </tr>\n",
       "    <tr>\n",
       "      <th>2018-01-03</th>\n",
       "      <td>-0.017416</td>\n",
       "      <td>1.790463</td>\n",
       "    </tr>\n",
       "    <tr>\n",
       "      <th>2018-01-04</th>\n",
       "      <td>0.464495</td>\n",
       "      <td>-0.017416</td>\n",
       "    </tr>\n",
       "    <tr>\n",
       "      <th>2018-01-05</th>\n",
       "      <td>1.138531</td>\n",
       "      <td>0.464495</td>\n",
       "    </tr>\n",
       "    <tr>\n",
       "      <th>2018-01-08</th>\n",
       "      <td>-0.371429</td>\n",
       "      <td>1.138531</td>\n",
       "    </tr>\n",
       "  </tbody>\n",
       "</table>\n",
       "</div>"
      ],
      "text/plain": [
       "            AAPL_return  Out-of-Sample Predictions\n",
       "2018-01-02     1.790463                  -1.081365\n",
       "2018-01-03    -0.017416                   1.790463\n",
       "2018-01-04     0.464495                  -0.017416\n",
       "2018-01-05     1.138531                   0.464495\n",
       "2018-01-08    -0.371429                   1.138531"
      ]
     },
     "execution_count": 61,
     "metadata": {},
     "output_type": "execute_result"
    }
   ],
   "source": [
    "out_of_sample_results.head()"
   ]
  },
  {
   "cell_type": "code",
   "execution_count": 62,
   "metadata": {},
   "outputs": [
    {
     "name": "stdout",
     "output_type": "stream",
     "text": [
      "Out-of-sample Root Mean Squared Error (RMSE): 3.29967401770631\n"
     ]
    }
   ],
   "source": [
    "# Calculate out-of-sample mean_squared_error (for comparison to out-of-sample)\n",
    "out_of_sample_mse = mean_squared_error(\n",
    "    out_of_sample_results[\"AAPL_return\"],\n",
    "    out_of_sample_results[\"Out-of-Sample Predictions\"]\n",
    ")\n",
    "\n",
    "# Calculate out-of-sample root mean_squared_error (for comparison to out-of-sample)\n",
    "out_of_sample_rmse = np.sqrt(out_of_sample_mse)\n",
    "print(f\"Out-of-sample Root Mean Squared Error (RMSE): {out_of_sample_rmse}\")"
   ]
  },
  {
   "cell_type": "code",
   "execution_count": null,
   "metadata": {},
   "outputs": [],
   "source": []
  }
 ],
 "metadata": {
  "kernelspec": {
   "display_name": "Python 3",
   "language": "python",
   "name": "python3"
  },
  "language_info": {
   "codemirror_mode": {
    "name": "ipython",
    "version": 3
   },
   "file_extension": ".py",
   "mimetype": "text/x-python",
   "name": "python",
   "nbconvert_exporter": "python",
   "pygments_lexer": "ipython3",
   "version": "3.7.7"
  }
 },
 "nbformat": 4,
 "nbformat_minor": 4
}
