{
 "cells": [
  {
   "cell_type": "code",
   "execution_count": 49,
   "metadata": {},
   "outputs": [],
   "source": [
    "import numpy as np\n",
    "import pandas as pd\n",
    "from pathlib import Path\n",
    "%matplotlib inline\n",
    "import pickle\n",
    "import hvplot.pandas"
   ]
  },
  {
   "cell_type": "code",
   "execution_count": 50,
   "metadata": {},
   "outputs": [],
   "source": [
    "from sklearn.linear_model import LinearRegression\n",
    "from sklearn.metrics import mean_squared_error, r2_score"
   ]
  },
  {
   "cell_type": "code",
   "execution_count": 51,
   "metadata": {},
   "outputs": [
    {
     "data": {
      "text/html": [
       "<div>\n",
       "<style scoped>\n",
       "    .dataframe tbody tr th:only-of-type {\n",
       "        vertical-align: middle;\n",
       "    }\n",
       "\n",
       "    .dataframe tbody tr th {\n",
       "        vertical-align: top;\n",
       "    }\n",
       "\n",
       "    .dataframe thead th {\n",
       "        text-align: right;\n",
       "    }\n",
       "</style>\n",
       "<table border=\"1\" class=\"dataframe\">\n",
       "  <thead>\n",
       "    <tr style=\"text-align: right;\">\n",
       "      <th></th>\n",
       "      <th>MSFT_open</th>\n",
       "      <th>MSFT_high</th>\n",
       "      <th>MSFT_low</th>\n",
       "      <th>MSFT_close</th>\n",
       "      <th>AMD_open</th>\n",
       "      <th>AMD_high</th>\n",
       "      <th>AMD_low</th>\n",
       "      <th>AMD_close</th>\n",
       "      <th>TSLA_open</th>\n",
       "      <th>TSLA_high</th>\n",
       "      <th>...</th>\n",
       "      <th>JNJ_low</th>\n",
       "      <th>JNJ_close</th>\n",
       "      <th>REGN_open</th>\n",
       "      <th>REGN_high</th>\n",
       "      <th>REGN_low</th>\n",
       "      <th>REGN_close</th>\n",
       "      <th>GILD_open</th>\n",
       "      <th>GILD_high</th>\n",
       "      <th>GILD_low</th>\n",
       "      <th>GILD_close</th>\n",
       "    </tr>\n",
       "  </thead>\n",
       "  <tbody>\n",
       "    <tr>\n",
       "      <th>2010-06-29</th>\n",
       "      <td>24.13</td>\n",
       "      <td>24.20</td>\n",
       "      <td>23.110</td>\n",
       "      <td>23.31</td>\n",
       "      <td>7.93</td>\n",
       "      <td>7.93</td>\n",
       "      <td>7.41</td>\n",
       "      <td>7.48</td>\n",
       "      <td>19.00</td>\n",
       "      <td>25.0000</td>\n",
       "      <td>...</td>\n",
       "      <td>58.680</td>\n",
       "      <td>59.24</td>\n",
       "      <td>23.67</td>\n",
       "      <td>23.95</td>\n",
       "      <td>22.86</td>\n",
       "      <td>22.98</td>\n",
       "      <td>35.40</td>\n",
       "      <td>35.61</td>\n",
       "      <td>34.740</td>\n",
       "      <td>34.97</td>\n",
       "    </tr>\n",
       "    <tr>\n",
       "      <th>2010-06-30</th>\n",
       "      <td>23.30</td>\n",
       "      <td>23.68</td>\n",
       "      <td>22.950</td>\n",
       "      <td>23.01</td>\n",
       "      <td>7.58</td>\n",
       "      <td>7.65</td>\n",
       "      <td>7.30</td>\n",
       "      <td>7.32</td>\n",
       "      <td>25.79</td>\n",
       "      <td>30.4192</td>\n",
       "      <td>...</td>\n",
       "      <td>58.940</td>\n",
       "      <td>59.06</td>\n",
       "      <td>23.05</td>\n",
       "      <td>23.47</td>\n",
       "      <td>22.32</td>\n",
       "      <td>22.32</td>\n",
       "      <td>34.83</td>\n",
       "      <td>35.13</td>\n",
       "      <td>34.260</td>\n",
       "      <td>34.28</td>\n",
       "    </tr>\n",
       "    <tr>\n",
       "      <th>2010-07-01</th>\n",
       "      <td>23.09</td>\n",
       "      <td>23.32</td>\n",
       "      <td>22.730</td>\n",
       "      <td>23.16</td>\n",
       "      <td>7.35</td>\n",
       "      <td>7.53</td>\n",
       "      <td>7.10</td>\n",
       "      <td>7.39</td>\n",
       "      <td>25.00</td>\n",
       "      <td>25.9200</td>\n",
       "      <td>...</td>\n",
       "      <td>58.650</td>\n",
       "      <td>59.07</td>\n",
       "      <td>22.31</td>\n",
       "      <td>22.37</td>\n",
       "      <td>20.45</td>\n",
       "      <td>20.79</td>\n",
       "      <td>34.24</td>\n",
       "      <td>34.27</td>\n",
       "      <td>33.300</td>\n",
       "      <td>34.14</td>\n",
       "    </tr>\n",
       "    <tr>\n",
       "      <th>2010-07-02</th>\n",
       "      <td>23.36</td>\n",
       "      <td>23.48</td>\n",
       "      <td>23.050</td>\n",
       "      <td>23.27</td>\n",
       "      <td>7.45</td>\n",
       "      <td>7.48</td>\n",
       "      <td>7.02</td>\n",
       "      <td>7.17</td>\n",
       "      <td>23.00</td>\n",
       "      <td>23.1000</td>\n",
       "      <td>...</td>\n",
       "      <td>58.850</td>\n",
       "      <td>59.08</td>\n",
       "      <td>21.06</td>\n",
       "      <td>21.88</td>\n",
       "      <td>20.75</td>\n",
       "      <td>21.61</td>\n",
       "      <td>34.38</td>\n",
       "      <td>35.16</td>\n",
       "      <td>34.180</td>\n",
       "      <td>34.87</td>\n",
       "    </tr>\n",
       "    <tr>\n",
       "      <th>2010-07-06</th>\n",
       "      <td>23.70</td>\n",
       "      <td>24.09</td>\n",
       "      <td>23.584</td>\n",
       "      <td>23.82</td>\n",
       "      <td>7.40</td>\n",
       "      <td>7.42</td>\n",
       "      <td>6.96</td>\n",
       "      <td>7.04</td>\n",
       "      <td>20.00</td>\n",
       "      <td>20.0000</td>\n",
       "      <td>...</td>\n",
       "      <td>58.669</td>\n",
       "      <td>59.08</td>\n",
       "      <td>22.03</td>\n",
       "      <td>22.03</td>\n",
       "      <td>21.16</td>\n",
       "      <td>21.36</td>\n",
       "      <td>35.11</td>\n",
       "      <td>35.42</td>\n",
       "      <td>34.415</td>\n",
       "      <td>34.77</td>\n",
       "    </tr>\n",
       "  </tbody>\n",
       "</table>\n",
       "<p>5 rows × 24 columns</p>\n",
       "</div>"
      ],
      "text/plain": [
       "            MSFT_open  MSFT_high  MSFT_low  MSFT_close  AMD_open  AMD_high  \\\n",
       "2010-06-29      24.13      24.20    23.110       23.31      7.93      7.93   \n",
       "2010-06-30      23.30      23.68    22.950       23.01      7.58      7.65   \n",
       "2010-07-01      23.09      23.32    22.730       23.16      7.35      7.53   \n",
       "2010-07-02      23.36      23.48    23.050       23.27      7.45      7.48   \n",
       "2010-07-06      23.70      24.09    23.584       23.82      7.40      7.42   \n",
       "\n",
       "            AMD_low  AMD_close  TSLA_open  TSLA_high  ...  JNJ_low  JNJ_close  \\\n",
       "2010-06-29     7.41       7.48      19.00    25.0000  ...   58.680      59.24   \n",
       "2010-06-30     7.30       7.32      25.79    30.4192  ...   58.940      59.06   \n",
       "2010-07-01     7.10       7.39      25.00    25.9200  ...   58.650      59.07   \n",
       "2010-07-02     7.02       7.17      23.00    23.1000  ...   58.850      59.08   \n",
       "2010-07-06     6.96       7.04      20.00    20.0000  ...   58.669      59.08   \n",
       "\n",
       "            REGN_open  REGN_high  REGN_low  REGN_close  GILD_open  GILD_high  \\\n",
       "2010-06-29      23.67      23.95     22.86       22.98      35.40      35.61   \n",
       "2010-06-30      23.05      23.47     22.32       22.32      34.83      35.13   \n",
       "2010-07-01      22.31      22.37     20.45       20.79      34.24      34.27   \n",
       "2010-07-02      21.06      21.88     20.75       21.61      34.38      35.16   \n",
       "2010-07-06      22.03      22.03     21.16       21.36      35.11      35.42   \n",
       "\n",
       "            GILD_low  GILD_close  \n",
       "2010-06-29    34.740       34.97  \n",
       "2010-06-30    34.260       34.28  \n",
       "2010-07-01    33.300       34.14  \n",
       "2010-07-02    34.180       34.87  \n",
       "2010-07-06    34.415       34.77  \n",
       "\n",
       "[5 rows x 24 columns]"
      ]
     },
     "execution_count": 51,
     "metadata": {},
     "output_type": "execute_result"
    }
   ],
   "source": [
    "df = pd.read_csv(\n",
    "    Path('../data/stocks_history.csv'),\n",
    "    index_col='Unnamed: 0',\n",
    "    infer_datetime_format=True,\n",
    "    parse_dates=True\n",
    ")\n",
    "df.head()"
   ]
  },
  {
   "cell_type": "code",
   "execution_count": 52,
   "metadata": {},
   "outputs": [
    {
     "data": {
      "text/html": [
       "<div>\n",
       "<style scoped>\n",
       "    .dataframe tbody tr th:only-of-type {\n",
       "        vertical-align: middle;\n",
       "    }\n",
       "\n",
       "    .dataframe tbody tr th {\n",
       "        vertical-align: top;\n",
       "    }\n",
       "\n",
       "    .dataframe thead th {\n",
       "        text-align: right;\n",
       "    }\n",
       "</style>\n",
       "<table border=\"1\" class=\"dataframe\">\n",
       "  <thead>\n",
       "    <tr style=\"text-align: right;\">\n",
       "      <th></th>\n",
       "      <th>MSFT_close</th>\n",
       "      <th>AMD_close</th>\n",
       "      <th>TSLA_close</th>\n",
       "      <th>JNJ_close</th>\n",
       "      <th>REGN_close</th>\n",
       "      <th>GILD_close</th>\n",
       "    </tr>\n",
       "  </thead>\n",
       "  <tbody>\n",
       "    <tr>\n",
       "      <th>2010-06-29</th>\n",
       "      <td>23.31</td>\n",
       "      <td>7.48</td>\n",
       "      <td>23.89</td>\n",
       "      <td>59.24</td>\n",
       "      <td>22.98</td>\n",
       "      <td>34.97</td>\n",
       "    </tr>\n",
       "    <tr>\n",
       "      <th>2010-06-30</th>\n",
       "      <td>23.01</td>\n",
       "      <td>7.32</td>\n",
       "      <td>23.83</td>\n",
       "      <td>59.06</td>\n",
       "      <td>22.32</td>\n",
       "      <td>34.28</td>\n",
       "    </tr>\n",
       "    <tr>\n",
       "      <th>2010-07-01</th>\n",
       "      <td>23.16</td>\n",
       "      <td>7.39</td>\n",
       "      <td>21.96</td>\n",
       "      <td>59.07</td>\n",
       "      <td>20.79</td>\n",
       "      <td>34.14</td>\n",
       "    </tr>\n",
       "    <tr>\n",
       "      <th>2010-07-02</th>\n",
       "      <td>23.27</td>\n",
       "      <td>7.17</td>\n",
       "      <td>19.20</td>\n",
       "      <td>59.08</td>\n",
       "      <td>21.61</td>\n",
       "      <td>34.87</td>\n",
       "    </tr>\n",
       "    <tr>\n",
       "      <th>2010-07-06</th>\n",
       "      <td>23.82</td>\n",
       "      <td>7.04</td>\n",
       "      <td>16.11</td>\n",
       "      <td>59.08</td>\n",
       "      <td>21.36</td>\n",
       "      <td>34.77</td>\n",
       "    </tr>\n",
       "  </tbody>\n",
       "</table>\n",
       "</div>"
      ],
      "text/plain": [
       "            MSFT_close  AMD_close  TSLA_close  JNJ_close  REGN_close  \\\n",
       "2010-06-29       23.31       7.48       23.89      59.24       22.98   \n",
       "2010-06-30       23.01       7.32       23.83      59.06       22.32   \n",
       "2010-07-01       23.16       7.39       21.96      59.07       20.79   \n",
       "2010-07-02       23.27       7.17       19.20      59.08       21.61   \n",
       "2010-07-06       23.82       7.04       16.11      59.08       21.36   \n",
       "\n",
       "            GILD_close  \n",
       "2010-06-29       34.97  \n",
       "2010-06-30       34.28  \n",
       "2010-07-01       34.14  \n",
       "2010-07-02       34.87  \n",
       "2010-07-06       34.77  "
      ]
     },
     "execution_count": 52,
     "metadata": {},
     "output_type": "execute_result"
    }
   ],
   "source": [
    "# drop all columns except closing prices\n",
    "dropped_columns = [\n",
    "    'MSFT_open',\n",
    "    'MSFT_high',\n",
    "    'MSFT_low',\n",
    "    'TSLA_open',\n",
    "    'TSLA_high',\n",
    "    'TSLA_low',\n",
    "    'JNJ_open',\n",
    "    'JNJ_high',\n",
    "    'JNJ_low',\n",
    "    'REGN_open',\n",
    "    'REGN_high',\n",
    "    'REGN_low',\n",
    "    'GILD_open',\n",
    "    'GILD_high',\n",
    "    'GILD_low',\n",
    "    'AMD_open',\n",
    "    'AMD_high',\n",
    "    'AMD_low',\n",
    "]\n",
    "df.drop(columns=dropped_columns, inplace=True)\n",
    "df.head()"
   ]
  },
  {
   "cell_type": "code",
   "execution_count": 53,
   "metadata": {},
   "outputs": [
    {
     "data": {
      "text/plain": [
       "<matplotlib.axes._subplots.AxesSubplot at 0x7fd57e3668d0>"
      ]
     },
     "execution_count": 53,
     "metadata": {},
     "output_type": "execute_result"
    },
    {
     "data": {
      "image/png": "[encoded data removed]",
      "text/plain": [
       "<Figure size 432x288 with 1 Axes>"
      ]
     },
     "metadata": {
      "needs_background": "light"
     },
     "output_type": "display_data"
    }
   ],
   "source": [
    "df['TSLA_close'].plot()"
   ]
  },
  {
   "cell_type": "code",
   "execution_count": 54,
   "metadata": {},
   "outputs": [
    {
     "data": {
      "text/plain": [
       "<matplotlib.axes._subplots.AxesSubplot at 0x7fd57e787650>"
      ]
     },
     "execution_count": 54,
     "metadata": {},
     "output_type": "execute_result"
    },
    {
     "data": {
      "image/png": "[encoded data removed]",
      "text/plain": [
       "<Figure size 432x288 with 1 Axes>"
      ]
     },
     "metadata": {
      "needs_background": "light"
     },
     "output_type": "display_data"
    }
   ],
   "source": [
    "df.plot()"
   ]
  },
  {
   "cell_type": "code",
   "execution_count": 55,
   "metadata": {},
   "outputs": [],
   "source": [
    "df['MSFT_return'] = df['MSFT_close'].pct_change() \n",
    "df['MSFT_lagged_return'] = df['MSFT_return'].shift()\n",
    "df['AMD_return'] = df['AMD_close'].pct_change() \n",
    "df['AMD_lagged_return'] = df['AMD_return'].shift()\n",
    "df['TSLA_return'] = df['TSLA_close'].pct_change() \n",
    "df['TSLA_lagged_return'] = df['TSLA_return'].shift()\n",
    "df['JNJ_return'] = df['JNJ_close'].pct_change() \n",
    "df['JNJ_lagged_return'] = df['JNJ_return'].shift()\n",
    "df['REGN_return'] = df['REGN_close'].pct_change() \n",
    "df['REGN_lagged_return'] = df['REGN_return'].shift()\n",
    "df['GILD_return'] = df['GILD_close'].pct_change() \n",
    "df['GILD_lagged_return'] = df['GILD_return'].shift()"
   ]
  },
  {
   "cell_type": "code",
   "execution_count": 56,
   "metadata": {},
   "outputs": [
    {
     "data": {
      "text/html": [
       "<div>\n",
       "<style scoped>\n",
       "    .dataframe tbody tr th:only-of-type {\n",
       "        vertical-align: middle;\n",
       "    }\n",
       "\n",
       "    .dataframe tbody tr th {\n",
       "        vertical-align: top;\n",
       "    }\n",
       "\n",
       "    .dataframe thead th {\n",
       "        text-align: right;\n",
       "    }\n",
       "</style>\n",
       "<table border=\"1\" class=\"dataframe\">\n",
       "  <thead>\n",
       "    <tr style=\"text-align: right;\">\n",
       "      <th></th>\n",
       "      <th>MSFT_close</th>\n",
       "      <th>AMD_close</th>\n",
       "      <th>TSLA_close</th>\n",
       "      <th>JNJ_close</th>\n",
       "      <th>REGN_close</th>\n",
       "      <th>GILD_close</th>\n",
       "      <th>MSFT_return</th>\n",
       "      <th>MSFT_lagged_return</th>\n",
       "      <th>AMD_return</th>\n",
       "      <th>AMD_lagged_return</th>\n",
       "      <th>TSLA_return</th>\n",
       "      <th>TSLA_lagged_return</th>\n",
       "      <th>JNJ_return</th>\n",
       "      <th>JNJ_lagged_return</th>\n",
       "      <th>REGN_return</th>\n",
       "      <th>REGN_lagged_return</th>\n",
       "      <th>GILD_return</th>\n",
       "      <th>GILD_lagged_return</th>\n",
       "    </tr>\n",
       "  </thead>\n",
       "  <tbody>\n",
       "    <tr>\n",
       "      <th>2020-06-30</th>\n",
       "      <td>203.51</td>\n",
       "      <td>52.61</td>\n",
       "      <td>1079.81</td>\n",
       "      <td>140.63</td>\n",
       "      <td>623.65</td>\n",
       "      <td>76.94</td>\n",
       "      <td>0.025549</td>\n",
       "      <td>0.010747</td>\n",
       "      <td>0.046340</td>\n",
       "      <td>0.003593</td>\n",
       "      <td>0.069807</td>\n",
       "      <td>0.051691</td>\n",
       "      <td>0.011436</td>\n",
       "      <td>0.008925</td>\n",
       "      <td>0.020921</td>\n",
       "      <td>-0.000801</td>\n",
       "      <td>0.031921</td>\n",
       "      <td>-0.000134</td>\n",
       "    </tr>\n",
       "    <tr>\n",
       "      <th>2020-07-01</th>\n",
       "      <td>204.70</td>\n",
       "      <td>52.58</td>\n",
       "      <td>1119.63</td>\n",
       "      <td>140.38</td>\n",
       "      <td>609.17</td>\n",
       "      <td>76.06</td>\n",
       "      <td>0.005847</td>\n",
       "      <td>0.025549</td>\n",
       "      <td>-0.000570</td>\n",
       "      <td>0.046340</td>\n",
       "      <td>0.036877</td>\n",
       "      <td>0.069807</td>\n",
       "      <td>-0.001778</td>\n",
       "      <td>0.011436</td>\n",
       "      <td>-0.023218</td>\n",
       "      <td>0.020921</td>\n",
       "      <td>-0.011437</td>\n",
       "      <td>0.031921</td>\n",
       "    </tr>\n",
       "    <tr>\n",
       "      <th>2020-07-02</th>\n",
       "      <td>206.26</td>\n",
       "      <td>52.34</td>\n",
       "      <td>1208.66</td>\n",
       "      <td>140.97</td>\n",
       "      <td>622.45</td>\n",
       "      <td>76.35</td>\n",
       "      <td>0.007621</td>\n",
       "      <td>0.005847</td>\n",
       "      <td>-0.004564</td>\n",
       "      <td>-0.000570</td>\n",
       "      <td>0.079517</td>\n",
       "      <td>0.036877</td>\n",
       "      <td>0.004203</td>\n",
       "      <td>-0.001778</td>\n",
       "      <td>0.021800</td>\n",
       "      <td>-0.023218</td>\n",
       "      <td>0.003813</td>\n",
       "      <td>-0.011437</td>\n",
       "    </tr>\n",
       "    <tr>\n",
       "      <th>2020-07-06</th>\n",
       "      <td>210.70</td>\n",
       "      <td>53.40</td>\n",
       "      <td>1371.58</td>\n",
       "      <td>142.98</td>\n",
       "      <td>627.25</td>\n",
       "      <td>76.76</td>\n",
       "      <td>0.021526</td>\n",
       "      <td>0.007621</td>\n",
       "      <td>0.020252</td>\n",
       "      <td>-0.004564</td>\n",
       "      <td>0.134794</td>\n",
       "      <td>0.079517</td>\n",
       "      <td>0.014258</td>\n",
       "      <td>0.004203</td>\n",
       "      <td>0.007711</td>\n",
       "      <td>0.021800</td>\n",
       "      <td>0.005370</td>\n",
       "      <td>0.003813</td>\n",
       "    </tr>\n",
       "    <tr>\n",
       "      <th>2020-07-07</th>\n",
       "      <td>208.25</td>\n",
       "      <td>52.93</td>\n",
       "      <td>1389.86</td>\n",
       "      <td>142.85</td>\n",
       "      <td>640.88</td>\n",
       "      <td>76.42</td>\n",
       "      <td>-0.011628</td>\n",
       "      <td>0.021526</td>\n",
       "      <td>-0.008801</td>\n",
       "      <td>0.020252</td>\n",
       "      <td>0.013328</td>\n",
       "      <td>0.134794</td>\n",
       "      <td>-0.000909</td>\n",
       "      <td>0.014258</td>\n",
       "      <td>0.021730</td>\n",
       "      <td>0.007711</td>\n",
       "      <td>-0.004429</td>\n",
       "      <td>0.005370</td>\n",
       "    </tr>\n",
       "  </tbody>\n",
       "</table>\n",
       "</div>"
      ],
      "text/plain": [
       "            MSFT_close  AMD_close  TSLA_close  JNJ_close  REGN_close  \\\n",
       "2020-06-30      203.51      52.61     1079.81     140.63      623.65   \n",
       "2020-07-01      204.70      52.58     1119.63     140.38      609.17   \n",
       "2020-07-02      206.26      52.34     1208.66     140.97      622.45   \n",
       "2020-07-06      210.70      53.40     1371.58     142.98      627.25   \n",
       "2020-07-07      208.25      52.93     1389.86     142.85      640.88   \n",
       "\n",
       "            GILD_close  MSFT_return  MSFT_lagged_return  AMD_return  \\\n",
       "2020-06-30       76.94     0.025549            0.010747    0.046340   \n",
       "2020-07-01       76.06     0.005847            0.025549   -0.000570   \n",
       "2020-07-02       76.35     0.007621            0.005847   -0.004564   \n",
       "2020-07-06       76.76     0.021526            0.007621    0.020252   \n",
       "2020-07-07       76.42    -0.011628            0.021526   -0.008801   \n",
       "\n",
       "            AMD_lagged_return  TSLA_return  TSLA_lagged_return  JNJ_return  \\\n",
       "2020-06-30           0.003593     0.069807            0.051691    0.011436   \n",
       "2020-07-01           0.046340     0.036877            0.069807   -0.001778   \n",
       "2020-07-02          -0.000570     0.079517            0.036877    0.004203   \n",
       "2020-07-06          -0.004564     0.134794            0.079517    0.014258   \n",
       "2020-07-07           0.020252     0.013328            0.134794   -0.000909   \n",
       "\n",
       "            JNJ_lagged_return  REGN_return  REGN_lagged_return  GILD_return  \\\n",
       "2020-06-30           0.008925     0.020921           -0.000801     0.031921   \n",
       "2020-07-01           0.011436    -0.023218            0.020921    -0.011437   \n",
       "2020-07-02          -0.001778     0.021800           -0.023218     0.003813   \n",
       "2020-07-06           0.004203     0.007711            0.021800     0.005370   \n",
       "2020-07-07           0.014258     0.021730            0.007711    -0.004429   \n",
       "\n",
       "            GILD_lagged_return  \n",
       "2020-06-30           -0.000134  \n",
       "2020-07-01            0.031921  \n",
       "2020-07-02           -0.011437  \n",
       "2020-07-06            0.003813  \n",
       "2020-07-07            0.005370  "
      ]
     },
     "execution_count": 56,
     "metadata": {},
     "output_type": "execute_result"
    }
   ],
   "source": [
    "df.tail()"
   ]
  },
  {
   "cell_type": "code",
   "execution_count": 57,
   "metadata": {},
   "outputs": [
    {
     "data": {
      "text/html": [
       "<div>\n",
       "<style scoped>\n",
       "    .dataframe tbody tr th:only-of-type {\n",
       "        vertical-align: middle;\n",
       "    }\n",
       "\n",
       "    .dataframe tbody tr th {\n",
       "        vertical-align: top;\n",
       "    }\n",
       "\n",
       "    .dataframe thead th {\n",
       "        text-align: right;\n",
       "    }\n",
       "</style>\n",
       "<table border=\"1\" class=\"dataframe\">\n",
       "  <thead>\n",
       "    <tr style=\"text-align: right;\">\n",
       "      <th></th>\n",
       "      <th>MSFT_close</th>\n",
       "      <th>AMD_close</th>\n",
       "      <th>TSLA_close</th>\n",
       "      <th>JNJ_close</th>\n",
       "      <th>REGN_close</th>\n",
       "      <th>GILD_close</th>\n",
       "      <th>MSFT_return</th>\n",
       "      <th>MSFT_lagged_return</th>\n",
       "      <th>AMD_return</th>\n",
       "      <th>AMD_lagged_return</th>\n",
       "      <th>TSLA_return</th>\n",
       "      <th>TSLA_lagged_return</th>\n",
       "      <th>JNJ_return</th>\n",
       "      <th>JNJ_lagged_return</th>\n",
       "      <th>REGN_return</th>\n",
       "      <th>REGN_lagged_return</th>\n",
       "      <th>GILD_return</th>\n",
       "      <th>GILD_lagged_return</th>\n",
       "    </tr>\n",
       "  </thead>\n",
       "  <tbody>\n",
       "    <tr>\n",
       "      <th>2020-06-30</th>\n",
       "      <td>203.51</td>\n",
       "      <td>52.61</td>\n",
       "      <td>1079.81</td>\n",
       "      <td>140.63</td>\n",
       "      <td>623.65</td>\n",
       "      <td>76.94</td>\n",
       "      <td>0.025549</td>\n",
       "      <td>0.010747</td>\n",
       "      <td>0.046340</td>\n",
       "      <td>0.003593</td>\n",
       "      <td>0.069807</td>\n",
       "      <td>0.051691</td>\n",
       "      <td>0.011436</td>\n",
       "      <td>0.008925</td>\n",
       "      <td>0.020921</td>\n",
       "      <td>-0.000801</td>\n",
       "      <td>0.031921</td>\n",
       "      <td>-0.000134</td>\n",
       "    </tr>\n",
       "    <tr>\n",
       "      <th>2020-07-01</th>\n",
       "      <td>204.70</td>\n",
       "      <td>52.58</td>\n",
       "      <td>1119.63</td>\n",
       "      <td>140.38</td>\n",
       "      <td>609.17</td>\n",
       "      <td>76.06</td>\n",
       "      <td>0.005847</td>\n",
       "      <td>0.025549</td>\n",
       "      <td>-0.000570</td>\n",
       "      <td>0.046340</td>\n",
       "      <td>0.036877</td>\n",
       "      <td>0.069807</td>\n",
       "      <td>-0.001778</td>\n",
       "      <td>0.011436</td>\n",
       "      <td>-0.023218</td>\n",
       "      <td>0.020921</td>\n",
       "      <td>-0.011437</td>\n",
       "      <td>0.031921</td>\n",
       "    </tr>\n",
       "    <tr>\n",
       "      <th>2020-07-02</th>\n",
       "      <td>206.26</td>\n",
       "      <td>52.34</td>\n",
       "      <td>1208.66</td>\n",
       "      <td>140.97</td>\n",
       "      <td>622.45</td>\n",
       "      <td>76.35</td>\n",
       "      <td>0.007621</td>\n",
       "      <td>0.005847</td>\n",
       "      <td>-0.004564</td>\n",
       "      <td>-0.000570</td>\n",
       "      <td>0.079517</td>\n",
       "      <td>0.036877</td>\n",
       "      <td>0.004203</td>\n",
       "      <td>-0.001778</td>\n",
       "      <td>0.021800</td>\n",
       "      <td>-0.023218</td>\n",
       "      <td>0.003813</td>\n",
       "      <td>-0.011437</td>\n",
       "    </tr>\n",
       "    <tr>\n",
       "      <th>2020-07-06</th>\n",
       "      <td>210.70</td>\n",
       "      <td>53.40</td>\n",
       "      <td>1371.58</td>\n",
       "      <td>142.98</td>\n",
       "      <td>627.25</td>\n",
       "      <td>76.76</td>\n",
       "      <td>0.021526</td>\n",
       "      <td>0.007621</td>\n",
       "      <td>0.020252</td>\n",
       "      <td>-0.004564</td>\n",
       "      <td>0.134794</td>\n",
       "      <td>0.079517</td>\n",
       "      <td>0.014258</td>\n",
       "      <td>0.004203</td>\n",
       "      <td>0.007711</td>\n",
       "      <td>0.021800</td>\n",
       "      <td>0.005370</td>\n",
       "      <td>0.003813</td>\n",
       "    </tr>\n",
       "    <tr>\n",
       "      <th>2020-07-07</th>\n",
       "      <td>208.25</td>\n",
       "      <td>52.93</td>\n",
       "      <td>1389.86</td>\n",
       "      <td>142.85</td>\n",
       "      <td>640.88</td>\n",
       "      <td>76.42</td>\n",
       "      <td>-0.011628</td>\n",
       "      <td>0.021526</td>\n",
       "      <td>-0.008801</td>\n",
       "      <td>0.020252</td>\n",
       "      <td>0.013328</td>\n",
       "      <td>0.134794</td>\n",
       "      <td>-0.000909</td>\n",
       "      <td>0.014258</td>\n",
       "      <td>0.021730</td>\n",
       "      <td>0.007711</td>\n",
       "      <td>-0.004429</td>\n",
       "      <td>0.005370</td>\n",
       "    </tr>\n",
       "  </tbody>\n",
       "</table>\n",
       "</div>"
      ],
      "text/plain": [
       "            MSFT_close  AMD_close  TSLA_close  JNJ_close  REGN_close  \\\n",
       "2020-06-30      203.51      52.61     1079.81     140.63      623.65   \n",
       "2020-07-01      204.70      52.58     1119.63     140.38      609.17   \n",
       "2020-07-02      206.26      52.34     1208.66     140.97      622.45   \n",
       "2020-07-06      210.70      53.40     1371.58     142.98      627.25   \n",
       "2020-07-07      208.25      52.93     1389.86     142.85      640.88   \n",
       "\n",
       "            GILD_close  MSFT_return  MSFT_lagged_return  AMD_return  \\\n",
       "2020-06-30       76.94     0.025549            0.010747    0.046340   \n",
       "2020-07-01       76.06     0.005847            0.025549   -0.000570   \n",
       "2020-07-02       76.35     0.007621            0.005847   -0.004564   \n",
       "2020-07-06       76.76     0.021526            0.007621    0.020252   \n",
       "2020-07-07       76.42    -0.011628            0.021526   -0.008801   \n",
       "\n",
       "            AMD_lagged_return  TSLA_return  TSLA_lagged_return  JNJ_return  \\\n",
       "2020-06-30           0.003593     0.069807            0.051691    0.011436   \n",
       "2020-07-01           0.046340     0.036877            0.069807   -0.001778   \n",
       "2020-07-02          -0.000570     0.079517            0.036877    0.004203   \n",
       "2020-07-06          -0.004564     0.134794            0.079517    0.014258   \n",
       "2020-07-07           0.020252     0.013328            0.134794   -0.000909   \n",
       "\n",
       "            JNJ_lagged_return  REGN_return  REGN_lagged_return  GILD_return  \\\n",
       "2020-06-30           0.008925     0.020921           -0.000801     0.031921   \n",
       "2020-07-01           0.011436    -0.023218            0.020921    -0.011437   \n",
       "2020-07-02          -0.001778     0.021800           -0.023218     0.003813   \n",
       "2020-07-06           0.004203     0.007711            0.021800     0.005370   \n",
       "2020-07-07           0.014258     0.021730            0.007711    -0.004429   \n",
       "\n",
       "            GILD_lagged_return  \n",
       "2020-06-30           -0.000134  \n",
       "2020-07-01            0.031921  \n",
       "2020-07-02           -0.011437  \n",
       "2020-07-06            0.003813  \n",
       "2020-07-07            0.005370  "
      ]
     },
     "execution_count": 57,
     "metadata": {},
     "output_type": "execute_result"
    }
   ],
   "source": [
    "df = df.dropna()\n",
    "df.tail()"
   ]
  },
  {
   "cell_type": "code",
   "execution_count": 58,
   "metadata": {},
   "outputs": [],
   "source": [
    "# Slice data in test and training \n",
    "train = df.loc['2010':'2017']\n",
    "test = df.loc['2018':'2020']"
   ]
  },
  {
   "cell_type": "code",
   "execution_count": 59,
   "metadata": {},
   "outputs": [],
   "source": [
    "# Create dataframes for X_train and X_test\n",
    "# Create series for y_train and y_test\n",
    "# X_train (training set using just the independent variables), X_test (test set of of just the independent variables)\n",
    "# Y_train (training set using just the \"y\" variable, i.e., \"Futures Return\"), Y_test (test set of just the \"y\" variable):\n",
    "X_train = train[\"MSFT_return\"].to_frame()\n",
    "X_test = test[\"MSFT_lagged_return\"].to_frame()\n",
    "y_train = train[\"MSFT_return\"]\n",
    "y_test = test[\"MSFT_return\"]"
   ]
  },
  {
   "cell_type": "code",
   "execution_count": 60,
   "metadata": {},
   "outputs": [],
   "source": [
    "from sklearn.linear_model import LinearRegression"
   ]
  },
  {
   "cell_type": "code",
   "execution_count": 61,
   "metadata": {},
   "outputs": [
    {
     "data": {
      "text/plain": [
       "LinearRegression(copy_X=True, fit_intercept=True, n_jobs=None, normalize=False)"
      ]
     },
     "execution_count": 61,
     "metadata": {},
     "output_type": "execute_result"
    }
   ],
   "source": [
    "#Fit a SKLearn linear regression using  just the training set (X_train, Y_train):\n",
    "model = LinearRegression()\n",
    "model.fit(X_train, y_train)"
   ]
  },
  {
   "cell_type": "code",
   "execution_count": 62,
   "metadata": {},
   "outputs": [],
   "source": [
    "# And make a prediction of \"y\" values for just the test dataset\n",
    "predictions = model.predict(X_test)"
   ]
  },
  {
   "cell_type": "code",
   "execution_count": 63,
   "metadata": {},
   "outputs": [],
   "source": [
    "# Construct a dataframe using just the \"y\" training data:\n",
    "out_of_sample_results = y_test.to_frame()\n",
    "\n",
    "# Add a column of \"out-of-sample\" predictions to that dataframe:  \n",
    "out_of_sample_results[\"Out-of-Sample Predictions\"] = model.predict(X_test)"
   ]
  },
  {
   "cell_type": "code",
   "execution_count": 64,
   "metadata": {},
   "outputs": [
    {
     "data": {
      "text/plain": [
       "array([<matplotlib.axes._subplots.AxesSubplot object at 0x7fd57d839890>,\n",
       "       <matplotlib.axes._subplots.AxesSubplot object at 0x7fd57d82ce50>],\n",
       "      dtype=object)"
      ]
     },
     "execution_count": 64,
     "metadata": {},
     "output_type": "execute_result"
    },
    {
     "data": {
      "image/png": "[encoded data removed]",
      "text/plain": [
       "<Figure size 432x288 with 2 Axes>"
      ]
     },
     "metadata": {
      "needs_background": "light"
     },
     "output_type": "display_data"
    }
   ],
   "source": [
    "# Plot the out-of-sample results for 2019\n",
    "out_of_sample_results.plot(subplots=True)"
   ]
  },
  {
   "cell_type": "code",
   "execution_count": null,
   "metadata": {},
   "outputs": [],
   "source": [
    "out_of_sample_results.head(15)"
   ]
  },
  {
   "cell_type": "code",
   "execution_count": 18,
   "metadata": {},
   "outputs": [
    {
     "name": "stdout",
     "output_type": "stream",
     "text": [
      "Out-of-sample Root Mean Squared Error (RMSE): 0.03369292495116178\n"
     ]
    }
   ],
   "source": [
    "# Calculate out-of-sample mean_squared_error (for comparison to out-of-sample)\n",
    "out_of_sample_mse = mean_squared_error(\n",
    "    out_of_sample_results[\"MSFT_return\"],\n",
    "    out_of_sample_results[\"Out-of-Sample Predictions\"]\n",
    ")\n",
    "\n",
    "# Calculate out-of-sample root mean_squared_error (for comparison to out-of-sample)\n",
    "out_of_sample_rmse = np.sqrt(out_of_sample_mse)\n",
    "print(f\"Out-of-sample Root Mean Squared Error (RMSE): {out_of_sample_rmse}\")"
   ]
  },
  {
   "cell_type": "code",
   "execution_count": 19,
   "metadata": {},
   "outputs": [],
   "source": [
    "# Create dataframes for X_train and X_test\n",
    "# Create series for y_train and y_test\n",
    "# X_train (training set using just the independent variables), X_test (test set of of just the independent variables)\n",
    "# Y_train (training set using just the \"y\" variable, i.e., \"Futures Return\"), Y_test (test set of just the \"y\" variable):\n",
    "X_train = train[\"MSFT_return\"].to_frame()\n",
    "X_test = test[\"MSFT_lagged_return\"].to_frame()\n",
    "y_train = train[\"MSFT_return\"]\n",
    "y_test = test[\"MSFT_return\"]"
   ]
  },
  {
   "cell_type": "code",
   "execution_count": 20,
   "metadata": {},
   "outputs": [
    {
     "data": {
      "text/plain": [
       "LinearRegression(copy_X=True, fit_intercept=True, n_jobs=None, normalize=False)"
      ]
     },
     "execution_count": 20,
     "metadata": {},
     "output_type": "execute_result"
    }
   ],
   "source": [
    "#Fit a SKLearn linear regression using  just the training set (X_train, Y_train):\n",
    "linear_regression_model = LinearRegression()\n",
    "linear_regression_model.fit(X_train, y_train)"
   ]
  },
  {
   "cell_type": "code",
   "execution_count": 21,
   "metadata": {},
   "outputs": [],
   "source": [
    "# And make a prediction of \"y\" values for just the test dataset\n",
    "predictions = linear_regression_model.predict(X_test)"
   ]
  },
  {
   "cell_type": "code",
   "execution_count": 22,
   "metadata": {},
   "outputs": [],
   "source": [
    "# Construct a dataframe using just the \"y\" training data:\n",
    "out_of_sample_results = y_test.to_frame()\n",
    "\n",
    "# Add a column of \"out-of-sample\" predictions to that dataframe:  \n",
    "out_of_sample_results[\"Out-of-Sample Predictions\"] = model.predict(X_test)"
   ]
  },
  {
   "cell_type": "code",
   "execution_count": 23,
   "metadata": {},
   "outputs": [
    {
     "data": {
      "text/plain": [
       "array([<matplotlib.axes._subplots.AxesSubplot object at 0x7fd57b752590>,\n",
       "       <matplotlib.axes._subplots.AxesSubplot object at 0x7fd57b79d9d0>],\n",
       "      dtype=object)"
      ]
     },
     "execution_count": 23,
     "metadata": {},
     "output_type": "execute_result"
    },
    {
     "data": {
      "image/png": "[encoded data removed]",
      "text/plain": [
       "<Figure size 432x288 with 2 Axes>"
      ]
     },
     "metadata": {
      "needs_background": "light"
     },
     "output_type": "display_data"
    }
   ],
   "source": [
    "# Plot the out-of-sample results for 2019\n",
    "out_of_sample_results.plot(subplots=True)"
   ]
  },
  {
   "cell_type": "code",
   "execution_count": 24,
   "metadata": {},
   "outputs": [
    {
     "data": {
      "text/html": [
       "<div>\n",
       "<style scoped>\n",
       "    .dataframe tbody tr th:only-of-type {\n",
       "        vertical-align: middle;\n",
       "    }\n",
       "\n",
       "    .dataframe tbody tr th {\n",
       "        vertical-align: top;\n",
       "    }\n",
       "\n",
       "    .dataframe thead th {\n",
       "        text-align: right;\n",
       "    }\n",
       "</style>\n",
       "<table border=\"1\" class=\"dataframe\">\n",
       "  <thead>\n",
       "    <tr style=\"text-align: right;\">\n",
       "      <th></th>\n",
       "      <th>MSFT_return</th>\n",
       "      <th>Out-of-Sample Predictions</th>\n",
       "    </tr>\n",
       "  </thead>\n",
       "  <tbody>\n",
       "    <tr>\n",
       "      <th>2019-01-04</th>\n",
       "      <td>0.046509</td>\n",
       "      <td>-0.036788</td>\n",
       "    </tr>\n",
       "    <tr>\n",
       "      <th>2019-02-22</th>\n",
       "      <td>0.014258</td>\n",
       "      <td>0.021092</td>\n",
       "    </tr>\n",
       "    <tr>\n",
       "      <th>2018-02-12</th>\n",
       "      <td>0.010773</td>\n",
       "      <td>0.037290</td>\n",
       "    </tr>\n",
       "    <tr>\n",
       "      <th>2019-08-05</th>\n",
       "      <td>-0.034259</td>\n",
       "      <td>-0.008402</td>\n",
       "    </tr>\n",
       "    <tr>\n",
       "      <th>2019-01-14</th>\n",
       "      <td>-0.007296</td>\n",
       "      <td>-0.007722</td>\n",
       "    </tr>\n",
       "    <tr>\n",
       "      <th>2018-07-13</th>\n",
       "      <td>0.011901</td>\n",
       "      <td>0.021671</td>\n",
       "    </tr>\n",
       "    <tr>\n",
       "      <th>2018-11-16</th>\n",
       "      <td>0.009415</td>\n",
       "      <td>0.022006</td>\n",
       "    </tr>\n",
       "    <tr>\n",
       "      <th>2018-02-15</th>\n",
       "      <td>0.020372</td>\n",
       "      <td>0.010909</td>\n",
       "    </tr>\n",
       "    <tr>\n",
       "      <th>2020-04-23</th>\n",
       "      <td>-0.012102</td>\n",
       "      <td>0.033965</td>\n",
       "    </tr>\n",
       "    <tr>\n",
       "      <th>2020-06-02</th>\n",
       "      <td>0.011377</td>\n",
       "      <td>-0.002292</td>\n",
       "    </tr>\n",
       "  </tbody>\n",
       "</table>\n",
       "</div>"
      ],
      "text/plain": [
       "            MSFT_return  Out-of-Sample Predictions\n",
       "2019-01-04     0.046509                  -0.036788\n",
       "2019-02-22     0.014258                   0.021092\n",
       "2018-02-12     0.010773                   0.037290\n",
       "2019-08-05    -0.034259                  -0.008402\n",
       "2019-01-14    -0.007296                  -0.007722\n",
       "2018-07-13     0.011901                   0.021671\n",
       "2018-11-16     0.009415                   0.022006\n",
       "2018-02-15     0.020372                   0.010909\n",
       "2020-04-23    -0.012102                   0.033965\n",
       "2020-06-02     0.011377                  -0.002292"
      ]
     },
     "execution_count": 24,
     "metadata": {},
     "output_type": "execute_result"
    }
   ],
   "source": [
    "out_of_sample_results.sample(10)"
   ]
  },
  {
   "cell_type": "code",
   "execution_count": 25,
   "metadata": {},
   "outputs": [
    {
     "name": "stdout",
     "output_type": "stream",
     "text": [
      "Out-of-sample Root Mean Squared Error (RMSE): 0.03369292495116178\n"
     ]
    }
   ],
   "source": [
    "# Calculate out-of-sample mean_squared_error (for comparison to out-of-sample)\n",
    "out_of_sample_mse = mean_squared_error(\n",
    "    out_of_sample_results[\"MSFT_return\"],\n",
    "    out_of_sample_results[\"Out-of-Sample Predictions\"]\n",
    ")\n",
    "\n",
    "# Calculate out-of-sample root mean_squared_error (for comparison to out-of-sample)\n",
    "out_of_sample_rmse = np.sqrt(out_of_sample_mse)\n",
    "print(f\"Out-of-sample Root Mean Squared Error (RMSE): {out_of_sample_rmse}\")"
   ]
  },
  {
   "cell_type": "code",
   "execution_count": null,
   "metadata": {},
   "outputs": [],
   "source": [
    "pkl_filename = \"pickle_linear_regression_model.pkl\"\n",
    "with open(pkl_filename, 'wb') as file:\n",
    "    pickle.dump(linear_regression_model, file)"
   ]
  },
  {
   "cell_type": "markdown",
   "metadata": {},
   "source": [
    "# Rolling Out-of-Sample Predictions and Cumulative Returns"
   ]
  },
  {
   "cell_type": "code",
   "execution_count": 26,
   "metadata": {},
   "outputs": [
    {
     "name": "stdout",
     "output_type": "stream",
     "text": [
      "2010-06-28/2010-07-04\n"
     ]
    }
   ],
   "source": [
    "# Split the index into weekly periods\n",
    "weeks = df.index.to_period(\"w\").unique()\n",
    "print(weeks[0])"
   ]
  },
  {
   "cell_type": "code",
   "execution_count": 27,
   "metadata": {},
   "outputs": [
    {
     "name": "stdout",
     "output_type": "stream",
     "text": [
      "524\n"
     ]
    }
   ],
   "source": [
    "print(len(weeks))"
   ]
  },
  {
   "cell_type": "code",
   "execution_count": 28,
   "metadata": {},
   "outputs": [
    {
     "name": "stdout",
     "output_type": "stream",
     "text": [
      "473\n"
     ]
    }
   ],
   "source": [
    "# Declare the training window of 50 weeks\n",
    "# Define the timeframe of rolling windows\n",
    "training_window = 50\n",
    "timeframe = len(weeks) - training_window - 1\n",
    "print(timeframe)"
   ]
  },
  {
   "cell_type": "code",
   "execution_count": 29,
   "metadata": {},
   "outputs": [],
   "source": [
    "# Construct empty placeholder dataframes.\n",
    "# (During each iteration of the loop, we'll append that week\"s predictions to this DataFrame)\n",
    "all_predictions = pd.DataFrame(columns=[\"Out-of-Sample Predictions\"])\n",
    "all_actuals = pd.DataFrame(columns=[\"Actual Returns\"])"
   ]
  },
  {
   "cell_type": "code",
   "execution_count": 30,
   "metadata": {},
   "outputs": [],
   "source": [
    "# During rolling iteration, split into train and test sets.\n",
    "# Use linear regression to make out-of-sample predictions.\n",
    "# Append the results to external dataframes.\n",
    "for i in range(0, timeframe):\n",
    "    \n",
    "    # Beginning of training window\n",
    "    start_of_training_period = weeks[i].start_time.strftime(format=\"%Y-%m-%d\")\n",
    "    \n",
    "    # End of training window\n",
    "    end_of_training_period = weeks[training_window+i].end_time.strftime(format=\"%Y-%m-%d\")\n",
    "\n",
    "    # Window of test-window data\n",
    "    test_week = weeks[training_window + i + 1]\n",
    "    \n",
    "    # String of testing window\n",
    "    start_of_test_week  = test_week.start_time.strftime(format=\"%Y-%m-%d\")\n",
    "    end_of_test_week = test_week.end_time.strftime(format=\"%Y-%m-%d\")\n",
    "    \n",
    "    train = df.loc[start_of_training_period:end_of_training_period]\n",
    "    test = df.loc[start_of_test_week:end_of_test_week]\n",
    "    \n",
    "    # Create new dataframes:\n",
    "    X_train = train[\"MSFT_lagged_return\"].to_frame()\n",
    "    y_train = train[\"MSFT_return\"]\n",
    "    X_test = test[\"MSFT_lagged_return\"].to_frame()\n",
    "    y_test = test[\"MSFT_return\"]\n",
    "\n",
    "    regression_model = LinearRegression()\n",
    "    regression_model.fit(X_train, y_train)\n",
    "    predictions = regression_model.predict(X_test)\n",
    "    \n",
    "    # Create a temporary dataframe to hold predictions\n",
    "    predictions = pd.DataFrame(predictions, index=X_test.index, columns=[\"Out-of-Sample Predictions\"])\n",
    "    \n",
    "    # Create a temporary DataFrame of the actual \"y\"s in the test dataframe, with column name=\"Actual Returns\": \n",
    "    actuals = pd.DataFrame(y_test, index=y_test.index)\n",
    "    actuals.columns = [\"Actual Returns\"]  \n",
    "    \n",
    "    # Append these two dataframes (predictions and actuals) to the two master DataFrames built outside the loop\n",
    "    all_predictions = all_predictions.append(predictions)\n",
    "    all_actuals = all_actuals.append(actuals)   \n",
    "    "
   ]
  },
  {
   "cell_type": "code",
   "execution_count": 31,
   "metadata": {},
   "outputs": [
    {
     "data": {
      "text/html": [
       "<div>\n",
       "<style scoped>\n",
       "    .dataframe tbody tr th:only-of-type {\n",
       "        vertical-align: middle;\n",
       "    }\n",
       "\n",
       "    .dataframe tbody tr th {\n",
       "        vertical-align: top;\n",
       "    }\n",
       "\n",
       "    .dataframe thead th {\n",
       "        text-align: right;\n",
       "    }\n",
       "</style>\n",
       "<table border=\"1\" class=\"dataframe\">\n",
       "  <thead>\n",
       "    <tr style=\"text-align: right;\">\n",
       "      <th></th>\n",
       "      <th>Actual Returns</th>\n",
       "      <th>Out-of-Sample Predictions</th>\n",
       "    </tr>\n",
       "  </thead>\n",
       "  <tbody>\n",
       "    <tr>\n",
       "      <th>2011-06-20</th>\n",
       "      <td>0.008656</td>\n",
       "      <td>0.000475</td>\n",
       "    </tr>\n",
       "    <tr>\n",
       "      <th>2011-06-21</th>\n",
       "      <td>0.011851</td>\n",
       "      <td>0.000434</td>\n",
       "    </tr>\n",
       "    <tr>\n",
       "      <th>2011-06-22</th>\n",
       "      <td>-0.004443</td>\n",
       "      <td>0.000489</td>\n",
       "    </tr>\n",
       "    <tr>\n",
       "      <th>2011-06-23</th>\n",
       "      <td>-0.000811</td>\n",
       "      <td>0.000207</td>\n",
       "    </tr>\n",
       "    <tr>\n",
       "      <th>2011-06-24</th>\n",
       "      <td>-0.013398</td>\n",
       "      <td>0.000270</td>\n",
       "    </tr>\n",
       "  </tbody>\n",
       "</table>\n",
       "</div>"
      ],
      "text/plain": [
       "            Actual Returns  Out-of-Sample Predictions\n",
       "2011-06-20        0.008656                   0.000475\n",
       "2011-06-21        0.011851                   0.000434\n",
       "2011-06-22       -0.004443                   0.000489\n",
       "2011-06-23       -0.000811                   0.000207\n",
       "2011-06-24       -0.013398                   0.000270"
      ]
     },
     "execution_count": 31,
     "metadata": {},
     "output_type": "execute_result"
    }
   ],
   "source": [
    "Results = pd.concat([all_actuals, all_predictions], axis=1)\n",
    "Results.head()"
   ]
  },
  {
   "cell_type": "code",
   "execution_count": 32,
   "metadata": {},
   "outputs": [
    {
     "data": {
      "text/html": [
       "<div>\n",
       "<style scoped>\n",
       "    .dataframe tbody tr th:only-of-type {\n",
       "        vertical-align: middle;\n",
       "    }\n",
       "\n",
       "    .dataframe tbody tr th {\n",
       "        vertical-align: top;\n",
       "    }\n",
       "\n",
       "    .dataframe thead th {\n",
       "        text-align: right;\n",
       "    }\n",
       "</style>\n",
       "<table border=\"1\" class=\"dataframe\">\n",
       "  <thead>\n",
       "    <tr style=\"text-align: right;\">\n",
       "      <th></th>\n",
       "      <th>Actual Returns</th>\n",
       "      <th>Out-of-Sample Predictions</th>\n",
       "    </tr>\n",
       "  </thead>\n",
       "  <tbody>\n",
       "    <tr>\n",
       "      <th>2020-06-30</th>\n",
       "      <td>0.025549</td>\n",
       "      <td>-0.002400</td>\n",
       "    </tr>\n",
       "    <tr>\n",
       "      <th>2020-07-01</th>\n",
       "      <td>0.005847</td>\n",
       "      <td>-0.009362</td>\n",
       "    </tr>\n",
       "    <tr>\n",
       "      <th>2020-07-02</th>\n",
       "      <td>0.007621</td>\n",
       "      <td>-0.000095</td>\n",
       "    </tr>\n",
       "    <tr>\n",
       "      <th>2020-07-06</th>\n",
       "      <td>0.021526</td>\n",
       "      <td>-0.000720</td>\n",
       "    </tr>\n",
       "    <tr>\n",
       "      <th>2020-07-07</th>\n",
       "      <td>-0.011628</td>\n",
       "      <td>-0.007209</td>\n",
       "    </tr>\n",
       "  </tbody>\n",
       "</table>\n",
       "</div>"
      ],
      "text/plain": [
       "            Actual Returns  Out-of-Sample Predictions\n",
       "2020-06-30        0.025549                  -0.002400\n",
       "2020-07-01        0.005847                  -0.009362\n",
       "2020-07-02        0.007621                  -0.000095\n",
       "2020-07-06        0.021526                  -0.000720\n",
       "2020-07-07       -0.011628                  -0.007209"
      ]
     },
     "execution_count": 32,
     "metadata": {},
     "output_type": "execute_result"
    }
   ],
   "source": [
    "# 2020 Data\n",
    "results_2020 = Results.loc['2020':]\n",
    "results_2020.tail()"
   ]
  },
  {
   "cell_type": "code",
   "execution_count": 33,
   "metadata": {},
   "outputs": [
    {
     "data": {
      "text/plain": [
       "array([<matplotlib.axes._subplots.AxesSubplot object at 0x7fd57c0ebfd0>,\n",
       "       <matplotlib.axes._subplots.AxesSubplot object at 0x7fd57c394dd0>],\n",
       "      dtype=object)"
      ]
     },
     "execution_count": 33,
     "metadata": {},
     "output_type": "execute_result"
    },
    {
     "data": {
      "image/png": "[encoded data removed]",
      "text/plain": [
       "<Figure size 432x288 with 2 Axes>"
      ]
     },
     "metadata": {
      "needs_background": "light"
     },
     "output_type": "display_data"
    }
   ],
   "source": [
    "# Plot the results\n",
    "results_2020.plot(subplots=True)"
   ]
  },
  {
   "cell_type": "code",
   "execution_count": null,
   "metadata": {},
   "outputs": [],
   "source": []
  },
  {
   "cell_type": "code",
   "execution_count": 34,
   "metadata": {},
   "outputs": [
    {
     "data": {
      "text/plain": [
       "<matplotlib.axes._subplots.AxesSubplot at 0x7fd57ce3d250>"
      ]
     },
     "execution_count": 34,
     "metadata": {},
     "output_type": "execute_result"
    },
    {
     "data": {
      "image/png": "[encoded data removed]",
      "text/plain": [
       "<Figure size 432x288 with 1 Axes>"
      ]
     },
     "metadata": {
      "needs_background": "light"
     },
     "output_type": "display_data"
    }
   ],
   "source": [
    "# Use the `cumprod` function to cumulatively multiply each element in the Series by it's preceding element until the end\n",
    "cumulative_returns = (1 + results_2020['Out-of-Sample Predictions']).cumprod() - 1\n",
    "cumulative_returns.plot()"
   ]
  },
  {
   "cell_type": "code",
   "execution_count": 35,
   "metadata": {},
   "outputs": [
    {
     "data": {
      "text/plain": [
       "2020-06-30    0.104254\n",
       "2020-07-01    0.093917\n",
       "2020-07-02    0.093812\n",
       "2020-07-06    0.093024\n",
       "2020-07-07    0.085145\n",
       "Name: Out-of-Sample Predictions, dtype: float64"
      ]
     },
     "execution_count": 35,
     "metadata": {},
     "output_type": "execute_result"
    }
   ],
   "source": [
    "cumulative_returns.tail()"
   ]
  },
  {
   "cell_type": "code",
   "execution_count": 36,
   "metadata": {},
   "outputs": [
    {
     "data": {},
     "metadata": {},
     "output_type": "display_data"
    },
    {
     "data": {
      "application/vnd.holoviews_exec.v0+json": "",
      "text/html": [
       "<div id='1001'>\n",
       "\n",
       "\n",
       "\n",
       "\n",
       "\n",
       "  <div class=\"bk-root\" id=\"58d66a94-1d35-49fd-826f-2019649f59ff\" data-root-id=\"1001\"></div>\n",
       "</div>\n",
       "<script type=\"application/javascript\">(function(root) {\n",
       "  function embed_document(root) {\n",
       "  var docs_json = {\"8d49aa62-d64e-467e-9761-91257778fde7\":{\"roots\":{\"references\":[{\"attributes\":{},\"id\":\"1046\",\"type\":\"BasicTickFormatter\"},{\"attributes\":{\"months\":[0,2,4,6,8,10]},\"id\":\"1063\",\"type\":\"MonthsTicker\"},{\"attributes\":{\"data_source\":{\"id\":\"1036\"},\"glyph\":{\"id\":\"1039\"},\"hover_glyph\":null,\"muted_glyph\":{\"id\":\"1041\"},\"nonselection_glyph\":{\"id\":\"1040\"},\"selection_glyph\":null,\"view\":{\"id\":\"1043\"}},\"id\":\"1042\",\"type\":\"GlyphRenderer\"},{\"attributes\":{\"axis\":{\"id\":\"1015\"},\"grid_line_color\":null,\"ticker\":null},\"id\":\"1018\",\"type\":\"Grid\"},{\"attributes\":{\"source\":{\"id\":\"1036\"}},\"id\":\"1043\",\"type\":\"CDSView\"},{\"attributes\":{\"data\":{\"Out-of-Sample Predictions\":{\"__ndarray__\":\"KUijbPETZEBS4gH79BNkQM3UMswhFGRALuD+7jgUZEC69wLyYBRkQHOaBNdkFGRABO1LsG0UZECzY46+jRRkQKYr9z2VFGRACxW13LgUZEDdqAKLyBRkQI+BE8DGFGRALcmiidoUZECnPz5R+hRkQHm3w64bFWRAdafXvS4VZEAo5iX1VhVkQBiG8+GGFWRAdGCAsIwVZECcZXgjlxVkQKPXQfWSFWRAxklpDL8VZEBZs00fwhVkQBTeeT+8FWRAYB7tJtoVZEA8TtML4RVkQGqNmCb/FWRAXYF2LAcWZEBhp0ixOhZkQIdznMFYFmRA3Za59XwWZEAFMzS/kRZkQExMdS2lFmRAXzffoMMWZEAjbCFr8xZkQE+JNQQrF2RAK04CzmwXZEBM/REGlxdkQMExW4+nF2RATf0TkwEYZED+CATuBBhkQPZz/P7lF2RAq9X8yCMYZEATFBQDHRhkQJC4LlBIGGRAv3WfdosYZEAh2CbvDRlkQNTAqiu2GGRAutU3oRQZZECQ0J5/whlkQLDfQ0nMF2RAd5EyqgAaZEAK7Fjg5hhkQFX9wYKXGWRAa5esd3AZZECA7ebqaxpkQJAz5Ay8GmRA+PyQf5kYZEC/9FEb5xhkQJdrg8l0F2RA3SAStoUYZEBm2mAS8xZkQCFGK2BqF2RABd5AoVkYZECFhKD/8xdkQEovhSlFGGRAntvcHZgWZEDPmULH8hZkQBVPYn7OFmRAtcAsJOsWZEDwxa2g+hZkQBBiv9/sFWRAO7O5IUkWZEB+g2zosBVkQDIQzquaFWRA2ei+njAWZEAGehIdSBdkQD9FgY6aFmRAH0wIHAIXZEB8R9A3shZkQH4I5TzhFmRA/iCgaJEXZECCQpaWoRZkQJB76SCDFmRAg6wTwT4XZEAwaGKAyxZkQJ/nadCqFmRAErXkeI8WZECP1gpvjBZkQMs57oKLFmRARMtU72oWZEAHstBUFRdkQD/yrImSF2RA7/2o4ZoXZEC7TCqmZhdkQEz3O2BQF2RA6Jz2jJwXZECtEMJPfRdkQNpZVOXnF2RAtrStnwkYZEBcUDgDbRhkQFxc6XWJGGRAs1RDP7sYZEDylZpUnRhkQFYFLhXMGGRAgs7q7qYYZEAxceituBhkQHj6byoqGWRA4PkJ5LkYZECPcJNRtBhkQOuVXsOlGGRA3FcckeAXZEBipRZvThlkQK50l4M8GWRANc/O4jMZZECCiswNuxhkQNSxE5TEGGRAT+HMNqEYZEALQ8gc6hhkQCxxrGBiGGRABsdpGV0YZEDpCg3M/RhkQIRH4K7TGGRAIxnio3IZZEDrcLQHUxlkQAnRWLjXGGRAwpFKd9YYZECJ2v/5zBhkQM0wugduGGRA\",\"dtype\":\"float64\",\"shape\":[129]},\"Out_hyphen_minus_of_hyphen_minus_Sample_Predictions\":{\"__ndarray__\":\"KUijbPETZEBS4gH79BNkQM3UMswhFGRALuD+7jgUZEC69wLyYBRkQHOaBNdkFGRABO1LsG0UZECzY46+jRRkQKYr9z2VFGRACxW13LgUZEDdqAKLyBRkQI+BE8DGFGRALcmiidoUZECnPz5R+hRkQHm3w64bFWRAdafXvS4VZEAo5iX1VhVkQBiG8+GGFWRAdGCAsIwVZECcZXgjlxVkQKPXQfWSFWRAxklpDL8VZEBZs00fwhVkQBTeeT+8FWRAYB7tJtoVZEA8TtML4RVkQGqNmCb/FWRAXYF2LAcWZEBhp0ixOhZkQIdznMFYFmRA3Za59XwWZEAFMzS/kRZkQExMdS2lFmRAXzffoMMWZEAjbCFr8xZkQE+JNQQrF2RAK04CzmwXZEBM/REGlxdkQMExW4+nF2RATf0TkwEYZED+CATuBBhkQPZz/P7lF2RAq9X8yCMYZEATFBQDHRhkQJC4LlBIGGRAv3WfdosYZEAh2CbvDRlkQNTAqiu2GGRAutU3oRQZZECQ0J5/whlkQLDfQ0nMF2RAd5EyqgAaZEAK7Fjg5hhkQFX9wYKXGWRAa5esd3AZZECA7ebqaxpkQJAz5Ay8GmRA+PyQf5kYZEC/9FEb5xhkQJdrg8l0F2RA3SAStoUYZEBm2mAS8xZkQCFGK2BqF2RABd5AoVkYZECFhKD/8xdkQEovhSlFGGRAntvcHZgWZEDPmULH8hZkQBVPYn7OFmRAtcAsJOsWZEDwxa2g+hZkQBBiv9/sFWRAO7O5IUkWZEB+g2zosBVkQDIQzquaFWRA2ei+njAWZEAGehIdSBdkQD9FgY6aFmRAH0wIHAIXZEB8R9A3shZkQH4I5TzhFmRA/iCgaJEXZECCQpaWoRZkQJB76SCDFmRAg6wTwT4XZEAwaGKAyxZkQJ/nadCqFmRAErXkeI8WZECP1gpvjBZkQMs57oKLFmRARMtU72oWZEAHstBUFRdkQD/yrImSF2RA7/2o4ZoXZEC7TCqmZhdkQEz3O2BQF2RA6Jz2jJwXZECtEMJPfRdkQNpZVOXnF2RAtrStnwkYZEBcUDgDbRhkQFxc6XWJGGRAs1RDP7sYZEDylZpUnRhkQFYFLhXMGGRAgs7q7qYYZEAxceituBhkQHj6byoqGWRA4PkJ5LkYZECPcJNRtBhkQOuVXsOlGGRA3FcckeAXZEBipRZvThlkQK50l4M8GWRANc/O4jMZZECCiswNuxhkQNSxE5TEGGRAT+HMNqEYZEALQ8gc6hhkQCxxrGBiGGRABsdpGV0YZEDpCg3M/RhkQIRH4K7TGGRAIxnio3IZZEDrcLQHUxlkQAnRWLjXGGRAwpFKd9YYZECJ2v/5zBhkQM0wugduGGRA\",\"dtype\":\"float64\",\"shape\":[129]},\"index\":{\"__ndarray__\":\"AABA1Dj2dkIAAAA6i/Z2QgAAQGuC93ZCAAAA0dT3dkIAAMA2J/h2QgAAgJx5+HZCAABAAsz4dkIAAIAzw/l2QgAAQJkV+nZCAAAA/2f6dkIAAMBkuvp2QgAAgMoM+3ZCAACAYVb8dkIAAEDHqPx2QgAAAC37/HZCAADAkk39dkIAAADERP52QgAAwCmX/nZCAACAj+n+dkIAAED1O/92QgAAAFuO/3ZCAABAjIUAd0IAAADy1wB3QgAAwFcqAXdCAACAvXwBd0IAAEAjzwF3QgAAgFTGAndCAABAuhgDd0IAAAAgawN3QgAAwIW9A3dCAACA6w8Ed0IAAICCWQV3QgAAQOirBXdCAAAATv4Fd0IAAMCzUAZ3QgAAAOVHB3dCAADASpoHd0IAAICw7Ad3QgAAQBY/CHdCAAAAfJEId0IAAECtiAl3QgAAABPbCXdCAADAeC0Kd0IAAIDefwp3QgAAQETSCndCAACAdckLd0IAAEDbGwx3QgAAAEFuDHdCAADApsAMd0IAAIAMEw13QgAAwD0KDndCAACAo1wOd0IAAEAJrw53QgAAAG8BD3dCAADA1FMPd0IAAAAGSxB3QgAAwGudEHdCAACA0e8Qd0IAAEA3QhF3QgAAAJ2UEXdCAABAzosSd0IAAAA03hJ3QgAAwJkwE3dCAACA/4ITd0IAAEBl1RN3QgAAgJbMFHdCAABA/B4Vd0IAAABicRV3QgAAwMfDFXdCAADAXg0Xd0IAAIDEXxd3QgAAQCqyF3dCAAAAkAQYd0IAAMD1Vhh3QgAAACdOGXdCAADAjKAZd0IAAIDy8hl3QgAAQFhFGndCAAAAvpcad0IAAEDvjht3QgAAAFXhG3dCAADAujMcd0IAAIAghhx3QgAAQIbYHHdCAACAt88dd0IAAEAdIh53QgAAAIN0HndCAADA6MYed0IAAIBOGR93QgAAwH8QIHdCAACA5WIgd0IAAEBLtSB3QgAAALEHIXdCAADAFlohd0IAAABIUSJ3QgAAwK2jIndCAACAE/Yid0IAAEB5SCN3QgAAAN+aI3dCAAAAduQkd0IAAMDbNiV3QgAAgEGJJXdCAABAp9sld0IAAIDY0iZ3QgAAQD4lJ3dCAAAApHcnd0IAAMAJyid3QgAAgG8cKHdCAADAoBMpd0IAAIAGZil3QgAAQGy4KXdCAAAA0goqd0IAAMA3XSp3QgAAAGlUK3dCAADAzqYrd0IAAIA0+St3QgAAQJpLLHdCAAAAAJ4sd0IAAEAxlS13QgAAAJfnLXdCAADA/Dkud0IAAIBijC53QgAAQMjeLndCAACA+dUvd0IAAEBfKDB3QgAAAMV6MHdCAADAKs0wd0IAAMDBFjJ3QgAAgCdpMndC\",\"dtype\":\"float64\",\"shape\":[129]}},\"selected\":{\"id\":\"1037\"},\"selection_policy\":{\"id\":\"1054\"}},\"id\":\"1036\",\"type\":\"ColumnDataSource\"},{\"attributes\":{\"line_alpha\":0.1,\"line_color\":\"#1f77b3\",\"line_width\":2,\"x\":{\"field\":\"index\"},\"y\":{\"field\":\"Out-of-Sample Predictions\"}},\"id\":\"1040\",\"type\":\"Line\"},{\"attributes\":{\"callback\":null,\"formatters\":{\"@{index}\":\"datetime\"},\"renderers\":[{\"id\":\"1042\"}],\"tags\":[\"hv_created\"],\"tooltips\":[[\"index\",\"@{index}{%F %T}\"],[\"Out-of-Sample Predictions\",\"@{Out_hyphen_minus_of_hyphen_minus_Sample_Predictions}\"]]},\"id\":\"1005\",\"type\":\"HoverTool\"},{\"attributes\":{\"months\":[0,1,2,3,4,5,6,7,8,9,10,11]},\"id\":\"1062\",\"type\":\"MonthsTicker\"},{\"attributes\":{},\"id\":\"1020\",\"type\":\"BasicTicker\"},{\"attributes\":{\"days\":[1,4,7,10,13,16,19,22,25,28]},\"id\":\"1059\",\"type\":\"DaysTicker\"},{\"attributes\":{\"line_alpha\":0.2,\"line_color\":\"#1f77b3\",\"line_width\":2,\"x\":{\"field\":\"index\"},\"y\":{\"field\":\"Out-of-Sample Predictions\"}},\"id\":\"1041\",\"type\":\"Line\"},{\"attributes\":{\"align\":null,\"below\":[{\"id\":\"1015\"}],\"center\":[{\"id\":\"1018\"},{\"id\":\"1022\"}],\"left\":[{\"id\":\"1019\"}],\"margin\":null,\"min_border_bottom\":10,\"min_border_left\":10,\"min_border_right\":10,\"min_border_top\":10,\"plot_height\":300,\"plot_width\":700,\"renderers\":[{\"id\":\"1042\"}],\"sizing_mode\":\"fixed\",\"title\":{\"id\":\"1007\"},\"toolbar\":{\"id\":\"1029\"},\"x_range\":{\"id\":\"1003\"},\"x_scale\":{\"id\":\"1011\"},\"y_range\":{\"id\":\"1004\"},\"y_scale\":{\"id\":\"1013\"}},\"id\":\"1006\",\"subtype\":\"Figure\",\"type\":\"Plot\"},{\"attributes\":{\"axis\":{\"id\":\"1019\"},\"dimension\":1,\"grid_line_color\":null,\"ticker\":null},\"id\":\"1022\",\"type\":\"Grid\"},{\"attributes\":{\"axis_label\":\"\",\"bounds\":\"auto\",\"formatter\":{\"id\":\"1046\"},\"major_label_orientation\":\"horizontal\",\"ticker\":{\"id\":\"1020\"}},\"id\":\"1019\",\"type\":\"LinearAxis\"},{\"attributes\":{\"days\":[1,8,15,22]},\"id\":\"1060\",\"type\":\"DaysTicker\"},{\"attributes\":{\"children\":[{\"id\":\"1002\"},{\"id\":\"1006\"},{\"id\":\"1068\"}],\"margin\":[0,0,0,0],\"name\":\"Row01506\",\"tags\":[\"embedded\"]},\"id\":\"1001\",\"type\":\"Row\"},{\"attributes\":{\"months\":[0,4,8]},\"id\":\"1064\",\"type\":\"MonthsTicker\"},{\"attributes\":{\"mantissas\":[1,2,5],\"max_interval\":500.0,\"num_minor_ticks\":0},\"id\":\"1055\",\"type\":\"AdaptiveTicker\"},{\"attributes\":{\"text\":\"Out-of-Sample Predictions\",\"text_color\":{\"value\":\"black\"},\"text_font_size\":{\"value\":\"12pt\"}},\"id\":\"1007\",\"type\":\"Title\"},{\"attributes\":{},\"id\":\"1066\",\"type\":\"YearsTicker\"},{\"attributes\":{\"line_color\":\"#1f77b3\",\"line_width\":2,\"x\":{\"field\":\"index\"},\"y\":{\"field\":\"Out-of-Sample Predictions\"}},\"id\":\"1039\",\"type\":\"Line\"},{\"attributes\":{},\"id\":\"1044\",\"type\":\"DatetimeTickFormatter\"},{\"attributes\":{},\"id\":\"1023\",\"type\":\"SaveTool\"},{\"attributes\":{\"base\":60,\"mantissas\":[1,2,5,10,15,20,30],\"max_interval\":1800000.0,\"min_interval\":1000.0,\"num_minor_ticks\":0},\"id\":\"1056\",\"type\":\"AdaptiveTicker\"},{\"attributes\":{\"end\":1594080000000.0,\"reset_end\":1594080000000.0,\"reset_start\":1577923200000.0,\"start\":1577923200000.0,\"tags\":[[[\"index\",\"index\",null]]]},\"id\":\"1003\",\"type\":\"Range1d\"},{\"attributes\":{},\"id\":\"1024\",\"type\":\"PanTool\"},{\"attributes\":{},\"id\":\"1054\",\"type\":\"UnionRenderers\"},{\"attributes\":{},\"id\":\"1025\",\"type\":\"WheelZoomTool\"},{\"attributes\":{\"days\":[1,2,3,4,5,6,7,8,9,10,11,12,13,14,15,16,17,18,19,20,21,22,23,24,25,26,27,28,29,30,31]},\"id\":\"1058\",\"type\":\"DaysTicker\"},{\"attributes\":{\"overlay\":{\"id\":\"1028\"}},\"id\":\"1026\",\"type\":\"BoxZoomTool\"},{\"attributes\":{\"bottom_units\":\"screen\",\"fill_alpha\":0.5,\"fill_color\":\"lightgrey\",\"left_units\":\"screen\",\"level\":\"overlay\",\"line_alpha\":1.0,\"line_color\":\"black\",\"line_dash\":[4,4],\"line_width\":2,\"render_mode\":\"css\",\"right_units\":\"screen\",\"top_units\":\"screen\"},\"id\":\"1028\",\"type\":\"BoxAnnotation\"},{\"attributes\":{\"active_drag\":\"auto\",\"active_inspect\":\"auto\",\"active_multi\":null,\"active_scroll\":\"auto\",\"active_tap\":\"auto\",\"tools\":[{\"id\":\"1005\"},{\"id\":\"1023\"},{\"id\":\"1024\"},{\"id\":\"1025\"},{\"id\":\"1026\"},{\"id\":\"1027\"}]},\"id\":\"1029\",\"type\":\"Toolbar\"},{\"attributes\":{\"margin\":[5,5,5,5],\"name\":\"HSpacer01511\",\"sizing_mode\":\"stretch_width\"},\"id\":\"1068\",\"type\":\"Spacer\"},{\"attributes\":{},\"id\":\"1037\",\"type\":\"Selection\"},{\"attributes\":{\"end\":160.8566788276534,\"reset_end\":160.8566788276534,\"reset_start\":160.60199728606256,\"start\":160.60199728606256,\"tags\":[[[\"Out-of-Sample Predictions\",\"Out-of-Sample Predictions\",null]]]},\"id\":\"1004\",\"type\":\"Range1d\"},{\"attributes\":{\"axis_label\":\"\",\"bounds\":\"auto\",\"formatter\":{\"id\":\"1044\"},\"major_label_orientation\":\"horizontal\",\"ticker\":{\"id\":\"1016\"}},\"id\":\"1015\",\"type\":\"DatetimeAxis\"},{\"attributes\":{},\"id\":\"1011\",\"type\":\"LinearScale\"},{\"attributes\":{\"base\":24,\"mantissas\":[1,2,4,6,8,12],\"max_interval\":43200000.0,\"min_interval\":3600000.0,\"num_minor_ticks\":0},\"id\":\"1057\",\"type\":\"AdaptiveTicker\"},{\"attributes\":{\"days\":[1,15]},\"id\":\"1061\",\"type\":\"DaysTicker\"},{\"attributes\":{},\"id\":\"1027\",\"type\":\"ResetTool\"},{\"attributes\":{},\"id\":\"1013\",\"type\":\"LinearScale\"},{\"attributes\":{\"months\":[0,6]},\"id\":\"1065\",\"type\":\"MonthsTicker\"},{\"attributes\":{\"num_minor_ticks\":5,\"tickers\":[{\"id\":\"1055\"},{\"id\":\"1056\"},{\"id\":\"1057\"},{\"id\":\"1058\"},{\"id\":\"1059\"},{\"id\":\"1060\"},{\"id\":\"1061\"},{\"id\":\"1062\"},{\"id\":\"1063\"},{\"id\":\"1064\"},{\"id\":\"1065\"},{\"id\":\"1066\"}]},\"id\":\"1016\",\"type\":\"DatetimeTicker\"},{\"attributes\":{\"margin\":[5,5,5,5],\"name\":\"HSpacer01510\",\"sizing_mode\":\"stretch_width\"},\"id\":\"1002\",\"type\":\"Spacer\"}],\"root_ids\":[\"1001\"]},\"title\":\"Bokeh Application\",\"version\":\"2.0.2\"}};\n",
       "  var render_items = [{\"docid\":\"8d49aa62-d64e-467e-9761-91257778fde7\",\"root_ids\":[\"1001\"],\"roots\":{\"1001\":\"58d66a94-1d35-49fd-826f-2019649f59ff\"}}];\n",
       "  root.Bokeh.embed.embed_items_notebook(docs_json, render_items);\n",
       "  }\n",
       "if (root.Bokeh !== undefined) {\n",
       "    embed_document(root);\n",
       "  } else {\n",
       "    var attempts = 0;\n",
       "    var timer = setInterval(function(root) {\n",
       "      if (root.Bokeh !== undefined) {\n",
       "        clearInterval(timer);\n",
       "        embed_document(root);\n",
       "      } else if (document.readyState == \"complete\") {\n",
       "        attempts++;\n",
       "        if (attempts > 100) {\n",
       "          clearInterval(timer);\n",
       "          console.log(\"Bokeh: ERROR: Unable to run BokehJS code because BokehJS library is missing\");\n",
       "        }\n",
       "      }\n",
       "    }, 10, root)\n",
       "  }\n",
       "})(window);</script>"
      ],
      "text/plain": [
       ":Curve   [index]   (Out-of-Sample Predictions)"
      ]
     },
     "execution_count": 36,
     "metadata": {
      "application/vnd.holoviews_exec.v0+json": {
       "id": "1001"
      }
     },
     "output_type": "execute_result"
    }
   ],
   "source": [
    "# Calculate out of Sample Predictions of Closing Prices\n",
    "results_2020_divided = (results_2020['Out-of-Sample Predictions']/100)\n",
    "cumulative_returns_divided = (results_2020_divided + 1).cumprod()-1\n",
    "prices = (cumulative_returns_divided +1) * (df.loc['2020-01-02','MSFT_close'])\n",
    "prices.hvplot()"
   ]
  },
  {
   "cell_type": "code",
   "execution_count": 37,
   "metadata": {},
   "outputs": [],
   "source": [
    "# Put Out-of-Sample Predicted Prices in DataFrame\n",
    "prices = pd.DataFrame(prices)"
   ]
  },
  {
   "cell_type": "code",
   "execution_count": 38,
   "metadata": {},
   "outputs": [],
   "source": [
    "# Save Predicted Prices into a CSV\n",
    "prices.to_csv(\"Linear Regression Results.csv\")"
   ]
  },
  {
   "cell_type": "code",
   "execution_count": 39,
   "metadata": {},
   "outputs": [
    {
     "name": "stdout",
     "output_type": "stream",
     "text": [
      "Rolling Out-of-Sample Root Mean Squared Error (RMSE): 0.03064092248751763\n"
     ]
    }
   ],
   "source": [
    "# Out-of-sample metrics\n",
    "# Calculate the mean_squared_error (MSE) on actual versus predicted test \"y\" \n",
    "# (Hint: use the dataframe above)\n",
    "mse = mean_squared_error(\n",
    "    results_2020[\"Actual Returns\"],\n",
    "    results_2020[\"Out-of-Sample Predictions\"]\n",
    ")\n",
    "\n",
    "# Using that mean-squared-error, calculate the root-mean-squared error (RMSE):\n",
    "rolling_rmse = np.sqrt(mse)\n",
    "print(f\"Rolling Out-of-Sample Root Mean Squared Error (RMSE): {rolling_rmse}\")"
   ]
  },
  {
   "cell_type": "code",
   "execution_count": 40,
   "metadata": {},
   "outputs": [],
   "source": [
    "# Create a pickled model for future use \n",
    "pkl_filename = \"pickle_regression_model_2.pkl\"\n",
    "with open(pkl_filename, 'wb') as file:\n",
    "    pickle.dump(regression_model, file)"
   ]
  },
  {
   "cell_type": "code",
   "execution_count": null,
   "metadata": {},
   "outputs": [],
   "source": []
  },
  {
   "cell_type": "code",
   "execution_count": 44,
   "metadata": {},
   "outputs": [
    {
     "data": {
      "text/html": [
       "<div>\n",
       "<style scoped>\n",
       "    .dataframe tbody tr th:only-of-type {\n",
       "        vertical-align: middle;\n",
       "    }\n",
       "\n",
       "    .dataframe tbody tr th {\n",
       "        vertical-align: top;\n",
       "    }\n",
       "\n",
       "    .dataframe thead th {\n",
       "        text-align: right;\n",
       "    }\n",
       "</style>\n",
       "<table border=\"1\" class=\"dataframe\">\n",
       "  <thead>\n",
       "    <tr style=\"text-align: right;\">\n",
       "      <th></th>\n",
       "      <th>Close</th>\n",
       "    </tr>\n",
       "  </thead>\n",
       "  <tbody>\n",
       "    <tr>\n",
       "      <th>2010-06-29</th>\n",
       "      <td>23.31</td>\n",
       "    </tr>\n",
       "    <tr>\n",
       "      <th>2010-06-30</th>\n",
       "      <td>23.01</td>\n",
       "    </tr>\n",
       "    <tr>\n",
       "      <th>2010-07-01</th>\n",
       "      <td>23.16</td>\n",
       "    </tr>\n",
       "    <tr>\n",
       "      <th>2010-07-02</th>\n",
       "      <td>23.27</td>\n",
       "    </tr>\n",
       "    <tr>\n",
       "      <th>2010-07-06</th>\n",
       "      <td>23.82</td>\n",
       "    </tr>\n",
       "  </tbody>\n",
       "</table>\n",
       "</div>"
      ],
      "text/plain": [
       "            Close\n",
       "2010-06-29  23.31\n",
       "2010-06-30  23.01\n",
       "2010-07-01  23.16\n",
       "2010-07-02  23.27\n",
       "2010-07-06  23.82"
      ]
     },
     "execution_count": 44,
     "metadata": {},
     "output_type": "execute_result"
    }
   ],
   "source": [
    "MSFT_df = pd.read_csv(\n",
    "    Path('../data/stocks_history.csv'),\n",
    "    index_col='Unnamed: 0',\n",
    "    infer_datetime_format=True,\n",
    "    parse_dates=True\n",
    ")\n",
    "dropped_columns = [\n",
    "    'MSFT_open',\n",
    "    'MSFT_high',\n",
    "    'MSFT_low',\n",
    "    'AMD_close',\n",
    "    'AMD_open',\n",
    "    'AMD_high',\n",
    "    'AMD_low',\n",
    "    'TSLA_close',\n",
    "    'TSLA_open',\n",
    "    'TSLA_high',\n",
    "    'TSLA_low',\n",
    "    'JNJ_close',\n",
    "    'JNJ_open',\n",
    "    'JNJ_high',\n",
    "    'JNJ_low',\n",
    "    'REGN_close',\n",
    "    'REGN_open',\n",
    "    'REGN_high',\n",
    "    'REGN_low',\n",
    "    'GILD_close',\n",
    "    'GILD_open',\n",
    "    'GILD_high',\n",
    "    'GILD_low'\n",
    "]\n",
    "MSFT_df.drop(columns=dropped_columns, inplace=True)\n",
    "MSFT_df.dropna(inplace=True)\n",
    "MSFT_df.columns = ['Close']\n",
    "MSFT_df.head()"
   ]
  },
  {
   "cell_type": "code",
   "execution_count": 45,
   "metadata": {},
   "outputs": [
    {
     "data": {
      "text/html": [
       "<div>\n",
       "<style scoped>\n",
       "    .dataframe tbody tr th:only-of-type {\n",
       "        vertical-align: middle;\n",
       "    }\n",
       "\n",
       "    .dataframe tbody tr th {\n",
       "        vertical-align: top;\n",
       "    }\n",
       "\n",
       "    .dataframe thead th {\n",
       "        text-align: right;\n",
       "    }\n",
       "</style>\n",
       "<table border=\"1\" class=\"dataframe\">\n",
       "  <thead>\n",
       "    <tr style=\"text-align: right;\">\n",
       "      <th></th>\n",
       "      <th>Close</th>\n",
       "    </tr>\n",
       "  </thead>\n",
       "  <tbody>\n",
       "    <tr>\n",
       "      <th>2020-06-30</th>\n",
       "      <td>0.025549</td>\n",
       "    </tr>\n",
       "    <tr>\n",
       "      <th>2020-07-01</th>\n",
       "      <td>0.005847</td>\n",
       "    </tr>\n",
       "    <tr>\n",
       "      <th>2020-07-02</th>\n",
       "      <td>0.007621</td>\n",
       "    </tr>\n",
       "    <tr>\n",
       "      <th>2020-07-06</th>\n",
       "      <td>0.021526</td>\n",
       "    </tr>\n",
       "    <tr>\n",
       "      <th>2020-07-07</th>\n",
       "      <td>-0.011628</td>\n",
       "    </tr>\n",
       "  </tbody>\n",
       "</table>\n",
       "</div>"
      ],
      "text/plain": [
       "               Close\n",
       "2020-06-30  0.025549\n",
       "2020-07-01  0.005847\n",
       "2020-07-02  0.007621\n",
       "2020-07-06  0.021526\n",
       "2020-07-07 -0.011628"
      ]
     },
     "execution_count": 45,
     "metadata": {},
     "output_type": "execute_result"
    }
   ],
   "source": [
    "MSFT_returns = MSFT_df.pct_change()\n",
    "MSFT_returns.tail()"
   ]
  },
  {
   "cell_type": "code",
   "execution_count": 46,
   "metadata": {},
   "outputs": [
    {
     "data": {
      "text/html": [
       "<div>\n",
       "<style scoped>\n",
       "    .dataframe tbody tr th:only-of-type {\n",
       "        vertical-align: middle;\n",
       "    }\n",
       "\n",
       "    .dataframe tbody tr th {\n",
       "        vertical-align: top;\n",
       "    }\n",
       "\n",
       "    .dataframe thead th {\n",
       "        text-align: right;\n",
       "    }\n",
       "</style>\n",
       "<table border=\"1\" class=\"dataframe\">\n",
       "  <thead>\n",
       "    <tr style=\"text-align: right;\">\n",
       "      <th></th>\n",
       "      <th>MSFT_regression</th>\n",
       "    </tr>\n",
       "  </thead>\n",
       "  <tbody>\n",
       "    <tr>\n",
       "      <th>2020-06-30</th>\n",
       "      <td>-0.009086</td>\n",
       "    </tr>\n",
       "    <tr>\n",
       "      <th>2020-07-01</th>\n",
       "      <td>0.000107</td>\n",
       "    </tr>\n",
       "    <tr>\n",
       "      <th>2020-07-02</th>\n",
       "      <td>-0.000720</td>\n",
       "    </tr>\n",
       "    <tr>\n",
       "      <th>2020-07-06</th>\n",
       "      <td>-0.007209</td>\n",
       "    </tr>\n",
       "    <tr>\n",
       "      <th>2020-07-07</th>\n",
       "      <td>0.008261</td>\n",
       "    </tr>\n",
       "  </tbody>\n",
       "</table>\n",
       "</div>"
      ],
      "text/plain": [
       "            MSFT_regression\n",
       "2020-06-30        -0.009086\n",
       "2020-07-01         0.000107\n",
       "2020-07-02        -0.000720\n",
       "2020-07-06        -0.007209\n",
       "2020-07-07         0.008261"
      ]
     },
     "execution_count": 46,
     "metadata": {},
     "output_type": "execute_result"
    }
   ],
   "source": [
    "# import pickle\n",
    "# regression_model_path = 'Steffen/pickle_regression_model_2.pkl'\n",
    "# regression_model = pickle.load(open(regression_model_path, 'rb'))\n",
    "regression_df = regression_model.predict(MSFT_returns.loc['2020-01-02':,:])\n",
    "regression_df = pd.DataFrame(regression_df, index=MSFT_returns.loc['2020-01-02':,:].index, columns=['MSFT_regression'])\n",
    "regression_df.tail()"
   ]
  },
  {
   "cell_type": "code",
   "execution_count": 47,
   "metadata": {},
   "outputs": [
    {
     "data": {
      "text/html": [
       "<div>\n",
       "<style scoped>\n",
       "    .dataframe tbody tr th:only-of-type {\n",
       "        vertical-align: middle;\n",
       "    }\n",
       "\n",
       "    .dataframe tbody tr th {\n",
       "        vertical-align: top;\n",
       "    }\n",
       "\n",
       "    .dataframe thead th {\n",
       "        text-align: right;\n",
       "    }\n",
       "</style>\n",
       "<table border=\"1\" class=\"dataframe\">\n",
       "  <thead>\n",
       "    <tr style=\"text-align: right;\">\n",
       "      <th></th>\n",
       "      <th>MSFT_regression</th>\n",
       "    </tr>\n",
       "  </thead>\n",
       "  <tbody>\n",
       "    <tr>\n",
       "      <th>2020-06-30</th>\n",
       "      <td>0.203350</td>\n",
       "    </tr>\n",
       "    <tr>\n",
       "      <th>2020-07-01</th>\n",
       "      <td>0.203478</td>\n",
       "    </tr>\n",
       "    <tr>\n",
       "      <th>2020-07-02</th>\n",
       "      <td>0.202611</td>\n",
       "    </tr>\n",
       "    <tr>\n",
       "      <th>2020-07-06</th>\n",
       "      <td>0.193942</td>\n",
       "    </tr>\n",
       "    <tr>\n",
       "      <th>2020-07-07</th>\n",
       "      <td>0.203805</td>\n",
       "    </tr>\n",
       "  </tbody>\n",
       "</table>\n",
       "</div>"
      ],
      "text/plain": [
       "            MSFT_regression\n",
       "2020-06-30         0.203350\n",
       "2020-07-01         0.203478\n",
       "2020-07-02         0.202611\n",
       "2020-07-06         0.193942\n",
       "2020-07-07         0.203805"
      ]
     },
     "execution_count": 47,
     "metadata": {},
     "output_type": "execute_result"
    }
   ],
   "source": [
    "regression_df = ((regression_df + 1).cumprod() - 1)\n",
    "regression_df.tail()"
   ]
  },
  {
   "cell_type": "code",
   "execution_count": null,
   "metadata": {},
   "outputs": [],
   "source": []
  },
  {
   "cell_type": "code",
   "execution_count": null,
   "metadata": {},
   "outputs": [],
   "source": []
  },
  {
   "cell_type": "code",
   "execution_count": null,
   "metadata": {},
   "outputs": [],
   "source": []
  }
 ],
 "metadata": {
  "kernelspec": {
   "display_name": "Python 3",
   "language": "python",
   "name": "python3"
  },
  "language_info": {
   "codemirror_mode": {
    "name": "ipython",
    "version": 3
   },
   "file_extension": ".py",
   "mimetype": "text/x-python",
   "name": "python",
   "nbconvert_exporter": "python",
   "pygments_lexer": "ipython3",
   "version": "3.7.7"
  }
 },
 "nbformat": 4,
 "nbformat_minor": 4
}
