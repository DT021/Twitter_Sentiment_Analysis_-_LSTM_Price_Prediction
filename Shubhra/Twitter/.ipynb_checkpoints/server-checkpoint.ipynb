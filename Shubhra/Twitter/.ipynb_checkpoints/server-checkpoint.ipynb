{
 "cells": [
  {
   "cell_type": "code",
   "execution_count": 1,
   "metadata": {},
   "outputs": [
    {
     "name": "stdout",
     "output_type": "stream",
     "text": [
      "<tweepy.api.API object at 0x00000277E7378E08>\n"
     ]
    },
    {
     "name": "stderr",
     "output_type": "stream",
     "text": [
      "[nltk_data] Downloading package stopwords to\n",
      "[nltk_data]     C:\\Users\\harya\\AppData\\Roaming\\nltk_data...\n",
      "[nltk_data]   Package stopwords is already up-to-date!\n"
     ]
    },
    {
     "name": "stdout",
     "output_type": "stream",
     "text": [
      "Loaded model from disk\n"
     ]
    }
   ],
   "source": [
    "%load_ext autoreload\n",
    "%autoreload 2\n",
    "import os\n",
    "import pandas as pd\n",
    "import time\n",
    "import config as tw\n",
    "import liveTweetData as lit"
   ]
  },
  {
   "cell_type": "code",
   "execution_count": 2,
   "metadata": {},
   "outputs": [
    {
     "name": "stderr",
     "output_type": "stream",
     "text": [
      "API created\n",
      "listening for new tweets...\n"
     ]
    },
    {
     "name": "stdout",
     "output_type": "stream",
     "text": [
      "{'handle': 'shari79586735', 'name': 'shari', 'tweet': '$AAPL is one of the best stocks to buy'}\n",
      "$AAPL is one of the best stocks to buy\n",
      "inside lstm: one best stocks buy\n",
      "[[50, 105, 161, 11]]\n",
      "inside lstm 1 <class 'numpy.float32'>\n",
      " polarity 0.8659250140190125, prediction 1\n"
     ]
    },
    {
     "name": "stderr",
     "output_type": "stream",
     "text": [
      "Done.\n"
     ]
    },
    {
     "name": "stdout",
     "output_type": "stream",
     "text": [
      "{'handle': 'mamican_tarik', 'name': 'tarik', 'tweet': 'AAPL: 391.05 at Jul 15, 2020 7:45 PM'}\n",
      "AAPL: 391.05 at Jul 15, 2020 7:45 PM\n",
      "inside lstm: aapl 39105 jul 15 2020 745 pm\n",
      "[[55, 36, 485]]\n",
      "inside lstm 0 <class 'numpy.float32'>\n",
      " polarity 0.33518773317337036, prediction 0\n",
      "{'handle': 'Tuan030383', 'name': 'dao tuan', 'tweet': 'AAPL: 391.05 at Jul 15, 2020 7:45 PM'}\n",
      "AAPL: 391.05 at Jul 15, 2020 7:45 PM\n",
      "inside lstm: aapl 39105 jul 15 2020 745 pm\n",
      "[[55, 36, 485]]\n",
      "inside lstm 0 <class 'numpy.float32'>\n",
      " polarity 0.33518773317337036, prediction 0\n",
      "----\n"
     ]
    },
    {
     "name": "stderr",
     "output_type": "stream",
     "text": [
      "API created\n",
      "listening for new tweets...\n"
     ]
    },
    {
     "name": "stdout",
     "output_type": "stream",
     "text": [
      "{'handle': 'GreekTrader777', 'name': 'THE GREEK TRADER', 'tweet': '$AAPL 400 CALLS AT 1.75'}\n",
      "$AAPL 400 CALLS AT 1.75\n",
      "inside lstm: 400 calls 175\n",
      "[[757]]\n",
      "inside lstm 0 <class 'numpy.float32'>\n",
      " polarity 0.32379552721977234, prediction 0\n",
      "{'handle': 'MarkSizzle', 'name': 'MarkSizzle', 'tweet': 'Highlight 3: $1 million contract to supply their tech to the U.S. Navy for their military airborne AI thread detection drone system.\\n\\nHighlight 4: Insane partner/customer list with $AAPL $AMD $INTC $CSCO and more https://t.co/Y9I0JIABH3'}\n",
      "Highlight 3: $1 million contract to supply their tech to the U.S. Navy for their military airborne AI thread detection drone system.\n",
      "\n",
      "Highlight 4: Insane partner/customer list with $AAPL $AMD $INTC $CSCO and more https://t.co/Y9I0JIABH3\n",
      "inside lstm: highlight 3 1 million contract supply tech us navy military airborne ai thread detect\n",
      "[[1984, 22, 725, 2259, 289, 12, 11222, 1243, 6305, 165]]\n",
      "inside lstm 1 <class 'numpy.float32'>\n",
      " polarity 0.9646638631820679, prediction 1\n"
     ]
    },
    {
     "name": "stderr",
     "output_type": "stream",
     "text": [
      "Done.\n"
     ]
    },
    {
     "name": "stdout",
     "output_type": "stream",
     "text": [
      "{'handle': 'stock_invest1', 'name': 'trade alarts with ideas', 'tweet': 'Caught the $TSLA wave up this morning\\nVisit today\\nDISCORD https://t.co/1wmkvDwNDU\\n☝️☝️\\n$AAPL $AYRO $SPOT\\n$NKLA $DKNG $VRM $TRIL $ROKU $BBAR $STNG $GLUU $ZNGA $ESE $SPCE $FCEL $TRIP $BYND $MRNA $NOK $OXY $CCL $CRON $RCL $DGLY $HTZ $PENN $GMBL $CRNC $RGR $KTOV $GNUS $ROKU $BLDP https://t.co/7klG7d0KUs'}\n",
      "Caught the $TSLA wave up this morning\n",
      "Visit today\n",
      "DISCORD https://t.co/1wmkvDwNDU\n",
      "☝️☝️\n",
      "$AAPL $AYRO $SPOT\n",
      "$NKLA $DKNG $VRM $TRIL $ROKU $BBAR $STNG $GLUU $ZNGA $ESE $SPCE $FCEL $TRIP $BYND $MRNA $NOK $OXY $CCL $CRON $RCL $DGLY $HTZ $PENN $GMBL $CRNC $RGR $KTOV $GNUS $ROKU $BLDP https://t.co/7klG7d0KUs\n",
      "inside lstm: caught wave morningvisit todaydiscord\n",
      "[[6691, 1916]]\n",
      "inside lstm 0 <class 'numpy.float32'>\n",
      " polarity 0.3333694636821747, prediction 0\n",
      "----\n"
     ]
    },
    {
     "name": "stderr",
     "output_type": "stream",
     "text": [
      "API created\n",
      "listening for new tweets...\n"
     ]
    },
    {
     "name": "stdout",
     "output_type": "stream",
     "text": [
      "{'handle': 'MinteractApp', 'name': 'Super Stocks', 'tweet': '#Options Flow Grid Update $AAPL #OptionsTrading #Apple Shares ⬆️0.75% to $391.13 #OptionsFlow #optionstrade #optiontrading #stocks #stock #StockMarket #investing #Investment #invest #investor #investors #UOA https://t.co/5JE2nlalc3 https://t.co/VpauSrV2Gt'}\n",
      "#Options Flow Grid Update $AAPL #OptionsTrading #Apple Shares ⬆️0.75% to $391.13 #OptionsFlow #optionstrade #optiontrading #stocks #stock #StockMarket #investing #Investment #invest #investor #investors #UOA https://t.co/5JE2nlalc3 https://t.co/VpauSrV2Gt\n",
      "inside lstm: #options flow grid update #optionstrading #apple shares 075 39113 #optionsflow #optionstrade\n",
      "[[81, 368, 5775, 261, 1485, 80, 38, 4333]]\n",
      "inside lstm 0 <class 'numpy.float32'>\n",
      " polarity 0.0891188383102417, prediction 0\n",
      "{'handle': 'jimbob4stocks', 'name': 'jimmystocks', 'tweet': '$AAPL needs another analyst price target boost to get it over $400'}\n",
      "$AAPL needs another analyst price target boost to get it over $400\n",
      "inside lstm: needs another analyst price target boost get 400\n",
      "[[2387, 1707, 27, 5, 26, 116, 8]]\n",
      "inside lstm 0 <class 'numpy.float32'>\n",
      " polarity 0.2848280072212219, prediction 0\n"
     ]
    },
    {
     "name": "stderr",
     "output_type": "stream",
     "text": [
      "Done.\n"
     ]
    },
    {
     "name": "stdout",
     "output_type": "stream",
     "text": [
      "{'handle': 'stock_invest1', 'name': 'trade alarts with ideas', 'tweet': '💪 https://t.co/1wmkvDwNDU\\nBest trade I made in a long time. Easy play on $AMZN \\n\\n$FB $LOVE $WORK $AAL $AMD $MNTA $GLD $TWR $SLV $XOM  $WMT $CCL $HD $TSLA $XLE $SPY $IWM $ES $WPX $BA $SPG $MCD $MFA $HTZ $AAPL $CHWY $QQQ $C $ES $AMC $DIS $ZNGA $ZM $GDX $PLNT $MGM $WORK $SPY $AMD https://t.co/e4gOyFiO93'}\n",
      "💪 https://t.co/1wmkvDwNDU\n",
      "Best trade I made in a long time. Easy play on $AMZN \n",
      "\n",
      "$FB $LOVE $WORK $AAL $AMD $MNTA $GLD $TWR $SLV $XOM  $WMT $CCL $HD $TSLA $XLE $SPY $IWM $ES $WPX $BA $SPG $MCD $MFA $HTZ $AAPL $CHWY $QQQ $C $ES $AMC $DIS $ZNGA $ZM $GDX $PLNT $MGM $WORK $SPY $AMD https://t.co/e4gOyFiO93\n",
      "inside lstm: best trade made long time easy play\n",
      "[[105, 14, 171, 113, 63, 3913, 79]]\n",
      "inside lstm 0 <class 'numpy.float32'>\n",
      " polarity 0.3566734790802002, prediction 0\n",
      "----\n"
     ]
    },
    {
     "name": "stderr",
     "output_type": "stream",
     "text": [
      "API created\n",
      "listening for new tweets...\n",
      "Stopped\n",
      "Done.\n"
     ]
    },
    {
     "ename": "SystemExit",
     "evalue": "Server stopped by the trader",
     "output_type": "error",
     "traceback": [
      "An exception has occurred, use %tb to see the full traceback.\n",
      "\u001b[1;31mSystemExit\u001b[0m\u001b[1;31m:\u001b[0m Server stopped by the trader\n"
     ]
    },
    {
     "name": "stderr",
     "output_type": "stream",
     "text": [
      "C:\\Users\\harya\\anaconda3\\lib\\site-packages\\IPython\\core\\interactiveshell.py:3275: UserWarning: To exit: use 'exit', 'quit', or Ctrl-D.\n",
      "  warn(\"To exit: use 'exit', 'quit', or Ctrl-D.\", stacklevel=1)\n"
     ]
    }
   ],
   "source": [
    "search_words = [\"AAPL\", \"$AAPL\"]    \n",
    "\n",
    "while True:\n",
    "    try:\n",
    "        lit.main(search_words)\n",
    "        time.sleep(5)\n",
    "    except KeyboardInterrupt:\n",
    "        break        "
   ]
  },
  {
   "cell_type": "code",
   "execution_count": null,
   "metadata": {},
   "outputs": [],
   "source": []
  },
  {
   "cell_type": "code",
   "execution_count": null,
   "metadata": {},
   "outputs": [],
   "source": []
  },
  {
   "cell_type": "code",
   "execution_count": null,
   "metadata": {},
   "outputs": [],
   "source": []
  }
 ],
 "metadata": {
  "kernelspec": {
   "display_name": "Python 3",
   "language": "python",
   "name": "python3"
  },
  "language_info": {
   "codemirror_mode": {
    "name": "ipython",
    "version": 3
   },
   "file_extension": ".py",
   "mimetype": "text/x-python",
   "name": "python",
   "nbconvert_exporter": "python",
   "pygments_lexer": "ipython3",
   "version": "3.7.6"
  }
 },
 "nbformat": 4,
 "nbformat_minor": 4
}
