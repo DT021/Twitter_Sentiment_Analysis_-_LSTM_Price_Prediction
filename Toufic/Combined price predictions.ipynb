{
 "cells": [
  {
   "cell_type": "code",
   "execution_count": 1,
   "metadata": {},
   "outputs": [],
   "source": [
    "import pandas as pd\n",
    "import numpy as np\n",
    "import requests, time\n",
    "from pathlib import Path\n",
    "from datetime import datetime\n",
    "\n",
    "from sklearn.metrics import mean_squared_error\n",
    "\n",
    "from functions import *\n",
    "\n",
    "%matplotlib inline"
   ]
  },
  {
   "cell_type": "code",
   "execution_count": 2,
   "metadata": {},
   "outputs": [
    {
     "data": {
      "text/html": [
       "<div>\n",
       "<style scoped>\n",
       "    .dataframe tbody tr th:only-of-type {\n",
       "        vertical-align: middle;\n",
       "    }\n",
       "\n",
       "    .dataframe tbody tr th {\n",
       "        vertical-align: top;\n",
       "    }\n",
       "\n",
       "    .dataframe thead th {\n",
       "        text-align: right;\n",
       "    }\n",
       "</style>\n",
       "<table border=\"1\" class=\"dataframe\">\n",
       "  <thead>\n",
       "    <tr style=\"text-align: right;\">\n",
       "      <th></th>\n",
       "      <th>Close</th>\n",
       "    </tr>\n",
       "  </thead>\n",
       "  <tbody>\n",
       "    <tr>\n",
       "      <th>2010-06-29</th>\n",
       "      <td>23.31</td>\n",
       "    </tr>\n",
       "    <tr>\n",
       "      <th>2010-06-30</th>\n",
       "      <td>23.01</td>\n",
       "    </tr>\n",
       "    <tr>\n",
       "      <th>2010-07-01</th>\n",
       "      <td>23.16</td>\n",
       "    </tr>\n",
       "    <tr>\n",
       "      <th>2010-07-02</th>\n",
       "      <td>23.27</td>\n",
       "    </tr>\n",
       "    <tr>\n",
       "      <th>2010-07-06</th>\n",
       "      <td>23.82</td>\n",
       "    </tr>\n",
       "  </tbody>\n",
       "</table>\n",
       "</div>"
      ],
      "text/plain": [
       "            Close\n",
       "2010-06-29  23.31\n",
       "2010-06-30  23.01\n",
       "2010-07-01  23.16\n",
       "2010-07-02  23.27\n",
       "2010-07-06  23.82"
      ]
     },
     "execution_count": 2,
     "metadata": {},
     "output_type": "execute_result"
    }
   ],
   "source": [
    "MSFT_df = pd.read_csv(\n",
    "    Path('../data/stocks_history.csv'),\n",
    "    index_col='Unnamed: 0',\n",
    "    infer_datetime_format=True,\n",
    "    parse_dates=True\n",
    ")\n",
    "dropped_columns = [\n",
    "    'MSFT_open',\n",
    "    'MSFT_high',\n",
    "    'MSFT_low',\n",
    "    'AMD_close',\n",
    "    'AMD_open',\n",
    "    'AMD_high',\n",
    "    'AMD_low',\n",
    "    'TSLA_close',\n",
    "    'TSLA_open',\n",
    "    'TSLA_high',\n",
    "    'TSLA_low',\n",
    "    'JNJ_close',\n",
    "    'JNJ_open',\n",
    "    'JNJ_high',\n",
    "    'JNJ_low',\n",
    "    'REGN_close',\n",
    "    'REGN_open',\n",
    "    'REGN_high',\n",
    "    'REGN_low',\n",
    "    'GILD_close',\n",
    "    'GILD_open',\n",
    "    'GILD_high',\n",
    "    'GILD_low'\n",
    "]\n",
    "MSFT_df.drop(columns=dropped_columns, inplace=True)\n",
    "MSFT_df.dropna(inplace=True)\n",
    "MSFT_df.columns = ['Close']\n",
    "MSFT_df.head()"
   ]
  },
  {
   "cell_type": "code",
   "execution_count": 3,
   "metadata": {},
   "outputs": [],
   "source": [
    "lstm_model_path = './models/JNJ_close_1lstm_model.h5'\n",
    "feature_column = 0\n",
    "target_column = 0\n",
    "predictions_path = './results/20200715_MSFT_LSTM_results.csv'\n",
    "window = 50\n",
    "predictions_df = predict_prices(\n",
    "    df=MSFT_df,\n",
    "    window=window,\n",
    "    target_col_number=target_column,\n",
    "    feature_col_number=feature_column,\n",
    "    model_path=lstm_model_path,\n",
    "    predictions_path=predictions_path\n",
    ")"
   ]
  },
  {
   "cell_type": "code",
   "execution_count": 4,
   "metadata": {},
   "outputs": [
    {
     "data": {
      "text/html": [
       "<div>\n",
       "<style scoped>\n",
       "    .dataframe tbody tr th:only-of-type {\n",
       "        vertical-align: middle;\n",
       "    }\n",
       "\n",
       "    .dataframe tbody tr th {\n",
       "        vertical-align: top;\n",
       "    }\n",
       "\n",
       "    .dataframe thead th {\n",
       "        text-align: right;\n",
       "    }\n",
       "</style>\n",
       "<table border=\"1\" class=\"dataframe\">\n",
       "  <thead>\n",
       "    <tr style=\"text-align: right;\">\n",
       "      <th></th>\n",
       "      <th>MSFT_actual</th>\n",
       "      <th>MSFT_lstm</th>\n",
       "    </tr>\n",
       "  </thead>\n",
       "  <tbody>\n",
       "    <tr>\n",
       "      <th>2020-01-02</th>\n",
       "      <td>157.70</td>\n",
       "      <td>161.184555</td>\n",
       "    </tr>\n",
       "    <tr>\n",
       "      <th>2020-01-03</th>\n",
       "      <td>160.62</td>\n",
       "      <td>160.711563</td>\n",
       "    </tr>\n",
       "    <tr>\n",
       "      <th>2020-01-06</th>\n",
       "      <td>158.62</td>\n",
       "      <td>162.529968</td>\n",
       "    </tr>\n",
       "    <tr>\n",
       "      <th>2020-01-07</th>\n",
       "      <td>159.03</td>\n",
       "      <td>162.209641</td>\n",
       "    </tr>\n",
       "    <tr>\n",
       "      <th>2020-01-08</th>\n",
       "      <td>157.58</td>\n",
       "      <td>162.081100</td>\n",
       "    </tr>\n",
       "  </tbody>\n",
       "</table>\n",
       "</div>"
      ],
      "text/plain": [
       "            MSFT_actual   MSFT_lstm\n",
       "2020-01-02       157.70  161.184555\n",
       "2020-01-03       160.62  160.711563\n",
       "2020-01-06       158.62  162.529968\n",
       "2020-01-07       159.03  162.209641\n",
       "2020-01-08       157.58  162.081100"
      ]
     },
     "execution_count": 4,
     "metadata": {},
     "output_type": "execute_result"
    }
   ],
   "source": [
    "predictions_df = predictions_df.loc['2020-01-02':,:]\n",
    "predictions_df.columns = ['MSFT_actual', 'MSFT_lstm']\n",
    "predictions_df.head()"
   ]
  },
  {
   "cell_type": "markdown",
   "metadata": {},
   "source": [
    "***"
   ]
  },
  {
   "cell_type": "code",
   "execution_count": 5,
   "metadata": {},
   "outputs": [
    {
     "data": {
      "text/html": [
       "<div>\n",
       "<style scoped>\n",
       "    .dataframe tbody tr th:only-of-type {\n",
       "        vertical-align: middle;\n",
       "    }\n",
       "\n",
       "    .dataframe tbody tr th {\n",
       "        vertical-align: top;\n",
       "    }\n",
       "\n",
       "    .dataframe thead th {\n",
       "        text-align: right;\n",
       "    }\n",
       "</style>\n",
       "<table border=\"1\" class=\"dataframe\">\n",
       "  <thead>\n",
       "    <tr style=\"text-align: right;\">\n",
       "      <th></th>\n",
       "      <th>Close</th>\n",
       "    </tr>\n",
       "  </thead>\n",
       "  <tbody>\n",
       "    <tr>\n",
       "      <th>2020-06-30</th>\n",
       "      <td>0.025549</td>\n",
       "    </tr>\n",
       "    <tr>\n",
       "      <th>2020-07-01</th>\n",
       "      <td>0.005847</td>\n",
       "    </tr>\n",
       "    <tr>\n",
       "      <th>2020-07-02</th>\n",
       "      <td>0.007621</td>\n",
       "    </tr>\n",
       "    <tr>\n",
       "      <th>2020-07-06</th>\n",
       "      <td>0.021526</td>\n",
       "    </tr>\n",
       "    <tr>\n",
       "      <th>2020-07-07</th>\n",
       "      <td>-0.011628</td>\n",
       "    </tr>\n",
       "  </tbody>\n",
       "</table>\n",
       "</div>"
      ],
      "text/plain": [
       "               Close\n",
       "2020-06-30  0.025549\n",
       "2020-07-01  0.005847\n",
       "2020-07-02  0.007621\n",
       "2020-07-06  0.021526\n",
       "2020-07-07 -0.011628"
      ]
     },
     "execution_count": 5,
     "metadata": {},
     "output_type": "execute_result"
    }
   ],
   "source": [
    "MSFT_returns = MSFT_df.pct_change()\n",
    "MSFT_returns.tail()"
   ]
  },
  {
   "cell_type": "code",
   "execution_count": 6,
   "metadata": {},
   "outputs": [
    {
     "name": "stderr",
     "output_type": "stream",
     "text": [
      "/Users/touficlawand/opt/anaconda3/envs/algotrading/lib/python3.7/site-packages/sklearn/base.py:334: UserWarning: Trying to unpickle estimator LinearRegression from version 0.22.1 when using version 0.23.1. This might lead to breaking code or invalid results. Use at your own risk.\n",
      "  UserWarning)\n"
     ]
    },
    {
     "data": {
      "text/html": [
       "<div>\n",
       "<style scoped>\n",
       "    .dataframe tbody tr th:only-of-type {\n",
       "        vertical-align: middle;\n",
       "    }\n",
       "\n",
       "    .dataframe tbody tr th {\n",
       "        vertical-align: top;\n",
       "    }\n",
       "\n",
       "    .dataframe thead th {\n",
       "        text-align: right;\n",
       "    }\n",
       "</style>\n",
       "<table border=\"1\" class=\"dataframe\">\n",
       "  <thead>\n",
       "    <tr style=\"text-align: right;\">\n",
       "      <th></th>\n",
       "      <th>MSFT_regression</th>\n",
       "    </tr>\n",
       "  </thead>\n",
       "  <tbody>\n",
       "    <tr>\n",
       "      <th>2020-06-30</th>\n",
       "      <td>-0.009086</td>\n",
       "    </tr>\n",
       "    <tr>\n",
       "      <th>2020-07-01</th>\n",
       "      <td>0.000107</td>\n",
       "    </tr>\n",
       "    <tr>\n",
       "      <th>2020-07-02</th>\n",
       "      <td>-0.000720</td>\n",
       "    </tr>\n",
       "    <tr>\n",
       "      <th>2020-07-06</th>\n",
       "      <td>-0.007209</td>\n",
       "    </tr>\n",
       "    <tr>\n",
       "      <th>2020-07-07</th>\n",
       "      <td>0.008261</td>\n",
       "    </tr>\n",
       "  </tbody>\n",
       "</table>\n",
       "</div>"
      ],
      "text/plain": [
       "            MSFT_regression\n",
       "2020-06-30        -0.009086\n",
       "2020-07-01         0.000107\n",
       "2020-07-02        -0.000720\n",
       "2020-07-06        -0.007209\n",
       "2020-07-07         0.008261"
      ]
     },
     "execution_count": 6,
     "metadata": {},
     "output_type": "execute_result"
    }
   ],
   "source": [
    "import pickle\n",
    "regression_model_path = '../Steffen/pickle_regression_model.pkl'\n",
    "regression_model = pickle.load(open(regression_model_path, 'rb'))\n",
    "regression_df = regression_model.predict(MSFT_returns.loc['2020-01-02':,:])\n",
    "regression_df = pd.DataFrame(regression_df, index=MSFT_returns.loc['2020-01-02':,:].index, columns=['MSFT_regression'])\n",
    "regression_df.tail()"
   ]
  },
  {
   "cell_type": "code",
   "execution_count": 7,
   "metadata": {},
   "outputs": [
    {
     "data": {
      "text/plain": [
       "2020-06-30    0.203350\n",
       "2020-07-01    0.203478\n",
       "2020-07-02    0.202611\n",
       "2020-07-06    0.193942\n",
       "2020-07-07    0.203805\n",
       "Name: MSFT_regression, dtype: float64"
      ]
     },
     "execution_count": 7,
     "metadata": {},
     "output_type": "execute_result"
    }
   ],
   "source": [
    "cumulative_df = (regression_df['MSFT_regression'] + 1).cumprod() - 1\n",
    "cumulative_df.tail()"
   ]
  },
  {
   "cell_type": "code",
   "execution_count": 10,
   "metadata": {},
   "outputs": [
    {
     "data": {
      "text/html": [
       "<div>\n",
       "<style scoped>\n",
       "    .dataframe tbody tr th:only-of-type {\n",
       "        vertical-align: middle;\n",
       "    }\n",
       "\n",
       "    .dataframe tbody tr th {\n",
       "        vertical-align: top;\n",
       "    }\n",
       "\n",
       "    .dataframe thead th {\n",
       "        text-align: right;\n",
       "    }\n",
       "</style>\n",
       "<table border=\"1\" class=\"dataframe\">\n",
       "  <thead>\n",
       "    <tr style=\"text-align: right;\">\n",
       "      <th></th>\n",
       "      <th>MSFT_regression</th>\n",
       "    </tr>\n",
       "  </thead>\n",
       "  <tbody>\n",
       "    <tr>\n",
       "      <th>2020-06-30</th>\n",
       "      <td>193.282023</td>\n",
       "    </tr>\n",
       "    <tr>\n",
       "      <th>2020-07-01</th>\n",
       "      <td>193.302716</td>\n",
       "    </tr>\n",
       "    <tr>\n",
       "      <th>2020-07-02</th>\n",
       "      <td>193.163443</td>\n",
       "    </tr>\n",
       "    <tr>\n",
       "      <th>2020-07-06</th>\n",
       "      <td>191.770945</td>\n",
       "    </tr>\n",
       "    <tr>\n",
       "      <th>2020-07-07</th>\n",
       "      <td>193.355219</td>\n",
       "    </tr>\n",
       "  </tbody>\n",
       "</table>\n",
       "</div>"
      ],
      "text/plain": [
       "            MSFT_regression\n",
       "2020-06-30       193.282023\n",
       "2020-07-01       193.302716\n",
       "2020-07-02       193.163443\n",
       "2020-07-06       191.770945\n",
       "2020-07-07       193.355219"
      ]
     },
     "execution_count": 10,
     "metadata": {},
     "output_type": "execute_result"
    }
   ],
   "source": [
    "regression_prices_df = pd.DataFrame(\n",
    "    data=((1 + cumulative_df) * (MSFT_df.loc['2020-01-02','Close'])),\n",
    "    columns=['MSFT_regression'],\n",
    "    index=MSFT_df.index\n",
    ")\n",
    "regression_prices_df.tail()"
   ]
  },
  {
   "cell_type": "code",
   "execution_count": 52,
   "metadata": {},
   "outputs": [],
   "source": [
    "MSFT_df['MSFT_return'] = MSFT_df['Close'].pct_change() \n",
    "MSFT_df['MSFT_lagged_return'] = MSFT_df['MSFT_return'].shift()"
   ]
  },
  {
   "cell_type": "code",
   "execution_count": 53,
   "metadata": {},
   "outputs": [
    {
     "name": "stdout",
     "output_type": "stream",
     "text": [
      "2010-06-28/2010-07-04\n"
     ]
    }
   ],
   "source": [
    "# weeks = MSFT_df.index.to_period(\"w\").unique()\n",
    "# print(weeks[0])"
   ]
  },
  {
   "cell_type": "code",
   "execution_count": 54,
   "metadata": {},
   "outputs": [
    {
     "name": "stdout",
     "output_type": "stream",
     "text": [
      "524\n"
     ]
    }
   ],
   "source": [
    "# print(len(weeks))"
   ]
  },
  {
   "cell_type": "code",
   "execution_count": 55,
   "metadata": {},
   "outputs": [
    {
     "name": "stdout",
     "output_type": "stream",
     "text": [
      "473\n"
     ]
    }
   ],
   "source": [
    "# training_window = 50\n",
    "# timeframe = len(weeks) - training_window - 1\n",
    "# print(timeframe)"
   ]
  },
  {
   "cell_type": "code",
   "execution_count": 56,
   "metadata": {},
   "outputs": [],
   "source": [
    "# all_predictions = pd.DataFrame(columns=[\"Out-of-Sample Predictions\"])\n",
    "# all_actuals = pd.DataFrame(columns=[\"Actual Returns\"])"
   ]
  },
  {
   "cell_type": "code",
   "execution_count": 57,
   "metadata": {},
   "outputs": [],
   "source": [
    "# for i in range(0, timeframe):\n",
    "    \n",
    "#     # Beginning of training window\n",
    "#     start_of_training_period = weeks[i].start_time.strftime(format=\"%Y-%m-%d\")\n",
    "    \n",
    "#     # End of training window\n",
    "#     end_of_training_period = weeks[training_window+i].end_time.strftime(format=\"%Y-%m-%d\")\n",
    "\n",
    "#     # Window of test-window data\n",
    "#     test_week = weeks[training_window + i + 1]\n",
    "    \n",
    "#     # String of testing window\n",
    "#     start_of_test_week  = test_week.start_time.strftime(format=\"%Y-%m-%d\")\n",
    "#     end_of_test_week = test_week.end_time.strftime(format=\"%Y-%m-%d\")\n",
    "    \n",
    "#     train = MSFT_df.loc[start_of_training_period:end_of_training_period]\n",
    "#     test = MSFT_df.loc[start_of_test_week:end_of_test_week]\n",
    "    \n",
    "#     # Create new dataframes:\n",
    "#     X_train = train[\"MSFT_lagged_return\"].to_frame()\n",
    "#     y_train = train[\"MSFT_return\"]\n",
    "#     X_test = test[\"MSFT_lagged_return\"].to_frame()\n",
    "#     y_test = test[\"MSFT_return\"]\n",
    "\n",
    "# #     model = LinearRegression()\n",
    "# #     model.fit(X_train, y_train)\n",
    "#     predictions = regression_model.predict(X_test)\n",
    "    \n",
    "#     # Create a temporary dataframe to hold predictions\n",
    "#     predictions = pd.DataFrame(predictions, index=X_test.index, columns=[\"Out-of-Sample Predictions\"])\n",
    "    \n",
    "#     # Create a temporary DataFrame of the actual \"y\"s in the test dataframe, with column name=\"Actual Returns\": \n",
    "#     actuals = pd.DataFrame(y_test, index=y_test.index)\n",
    "#     actuals.columns = [\"Actual Returns\"]  \n",
    "    \n",
    "#     # Append these two dataframes (predictions and actuals) to the two master DataFrames built outside the loop\n",
    "#     all_predictions = all_predictions.append(predictions)\n",
    "#     all_actuals = all_actuals.append(actuals)"
   ]
  },
  {
   "cell_type": "code",
   "execution_count": 58,
   "metadata": {},
   "outputs": [
    {
     "data": {
      "text/html": [
       "<div>\n",
       "<style scoped>\n",
       "    .dataframe tbody tr th:only-of-type {\n",
       "        vertical-align: middle;\n",
       "    }\n",
       "\n",
       "    .dataframe tbody tr th {\n",
       "        vertical-align: top;\n",
       "    }\n",
       "\n",
       "    .dataframe thead th {\n",
       "        text-align: right;\n",
       "    }\n",
       "</style>\n",
       "<table border=\"1\" class=\"dataframe\">\n",
       "  <thead>\n",
       "    <tr style=\"text-align: right;\">\n",
       "      <th></th>\n",
       "      <th>Actual Returns</th>\n",
       "      <th>Out-of-Sample Predictions</th>\n",
       "    </tr>\n",
       "  </thead>\n",
       "  <tbody>\n",
       "    <tr>\n",
       "      <th>2011-06-20</th>\n",
       "      <td>0.008656</td>\n",
       "      <td>-0.002318</td>\n",
       "    </tr>\n",
       "    <tr>\n",
       "      <th>2011-06-21</th>\n",
       "      <td>0.011851</td>\n",
       "      <td>-0.001204</td>\n",
       "    </tr>\n",
       "    <tr>\n",
       "      <th>2011-06-22</th>\n",
       "      <td>-0.004443</td>\n",
       "      <td>-0.002694</td>\n",
       "    </tr>\n",
       "    <tr>\n",
       "      <th>2011-06-23</th>\n",
       "      <td>-0.000811</td>\n",
       "      <td>0.004909</td>\n",
       "    </tr>\n",
       "    <tr>\n",
       "      <th>2011-06-24</th>\n",
       "      <td>-0.013398</td>\n",
       "      <td>0.003214</td>\n",
       "    </tr>\n",
       "  </tbody>\n",
       "</table>\n",
       "</div>"
      ],
      "text/plain": [
       "            Actual Returns  Out-of-Sample Predictions\n",
       "2011-06-20        0.008656                  -0.002318\n",
       "2011-06-21        0.011851                  -0.001204\n",
       "2011-06-22       -0.004443                  -0.002694\n",
       "2011-06-23       -0.000811                   0.004909\n",
       "2011-06-24       -0.013398                   0.003214"
      ]
     },
     "execution_count": 58,
     "metadata": {},
     "output_type": "execute_result"
    }
   ],
   "source": [
    "# Results = pd.concat([all_actuals, all_predictions], axis=1)\n",
    "# Results.head()"
   ]
  },
  {
   "cell_type": "code",
   "execution_count": 66,
   "metadata": {},
   "outputs": [
    {
     "data": {
      "text/html": [
       "<div>\n",
       "<style scoped>\n",
       "    .dataframe tbody tr th:only-of-type {\n",
       "        vertical-align: middle;\n",
       "    }\n",
       "\n",
       "    .dataframe tbody tr th {\n",
       "        vertical-align: top;\n",
       "    }\n",
       "\n",
       "    .dataframe thead th {\n",
       "        text-align: right;\n",
       "    }\n",
       "</style>\n",
       "<table border=\"1\" class=\"dataframe\">\n",
       "  <thead>\n",
       "    <tr style=\"text-align: right;\">\n",
       "      <th></th>\n",
       "      <th>Actual Returns</th>\n",
       "      <th>Out-of-Sample Predictions</th>\n",
       "    </tr>\n",
       "  </thead>\n",
       "  <tbody>\n",
       "    <tr>\n",
       "      <th>2020-01-02</th>\n",
       "      <td>0.018516</td>\n",
       "      <td>0.002510</td>\n",
       "    </tr>\n",
       "    <tr>\n",
       "      <th>2020-01-03</th>\n",
       "      <td>-0.012452</td>\n",
       "      <td>-0.005804</td>\n",
       "    </tr>\n",
       "    <tr>\n",
       "      <th>2020-01-06</th>\n",
       "      <td>0.002585</td>\n",
       "      <td>0.008646</td>\n",
       "    </tr>\n",
       "    <tr>\n",
       "      <th>2020-01-07</th>\n",
       "      <td>-0.009118</td>\n",
       "      <td>0.001629</td>\n",
       "    </tr>\n",
       "    <tr>\n",
       "      <th>2020-01-08</th>\n",
       "      <td>0.015928</td>\n",
       "      <td>0.007090</td>\n",
       "    </tr>\n",
       "  </tbody>\n",
       "</table>\n",
       "</div>"
      ],
      "text/plain": [
       "            Actual Returns  Out-of-Sample Predictions\n",
       "2020-01-02        0.018516                   0.002510\n",
       "2020-01-03       -0.012452                  -0.005804\n",
       "2020-01-06        0.002585                   0.008646\n",
       "2020-01-07       -0.009118                   0.001629\n",
       "2020-01-08        0.015928                   0.007090"
      ]
     },
     "execution_count": 66,
     "metadata": {},
     "output_type": "execute_result"
    }
   ],
   "source": [
    "# results_2020 = Results.loc['2020':]\n",
    "# results_2020.head()"
   ]
  },
  {
   "cell_type": "code",
   "execution_count": 67,
   "metadata": {},
   "outputs": [
    {
     "data": {
      "text/plain": [
       "<matplotlib.axes._subplots.AxesSubplot at 0x7f8bfaaf39d0>"
      ]
     },
     "execution_count": 67,
     "metadata": {},
     "output_type": "execute_result"
    },
    {
     "data": {
      "image/png": "[encoded data removed]",
      "text/plain": [
       "<Figure size 432x288 with 1 Axes>"
      ]
     },
     "metadata": {
      "needs_background": "light"
     },
     "output_type": "display_data"
    }
   ],
   "source": [
    "# cumulative_returns = (1 + results_2020['Out-of-Sample Predictions']).cumprod() - 1\n",
    "# cumulative_returns.plot()"
   ]
  },
  {
   "cell_type": "code",
   "execution_count": 71,
   "metadata": {},
   "outputs": [
    {
     "data": {
      "text/plain": [
       "2020-06-30    0.217432\n",
       "2020-07-01    0.206370\n",
       "2020-07-02    0.206499\n",
       "2020-07-06    0.205630\n",
       "2020-07-07    0.196938\n",
       "Name: Out-of-Sample Predictions, dtype: float64"
      ]
     },
     "execution_count": 71,
     "metadata": {},
     "output_type": "execute_result"
    }
   ],
   "source": [
    "# cumulative_returns.tail()"
   ]
  },
  {
   "cell_type": "code",
   "execution_count": 69,
   "metadata": {},
   "outputs": [
    {
     "data": {
      "application/vnd.holoviews_exec.v0+json": "",
      "text/html": [
       "<div id='2548'>\n",
       "\n",
       "\n",
       "\n",
       "\n",
       "\n",
       "  <div class=\"bk-root\" id=\"121c81a6-fcb8-4327-bb89-8ba5f376e8dd\" data-root-id=\"2548\"></div>\n",
       "</div>\n",
       "<script type=\"application/javascript\">(function(root) {\n",
       "  function embed_document(root) {\n",
       "  var docs_json = {\"3a23ec27-6179-4eae-975c-553e65c2df45\":{\"roots\":{\"references\":[{\"attributes\":{\"data\":{\"Out-of-Sample Predictions\":{\"__ndarray__\":\"7cF5EPgTZECbpUGwqxNkQPCq4HEdFGRAvMDU4jIUZEDb3NoukBRkQFjESbBTFGRAOIeoSiwUZEAIB8ADbhRkQJLwpn5JFGRArETsDZoUZECcjfqZlxRkQIbBimZMFGRABg1LWU8UZEAm9La1ihRkQF4wbYfNFGRAZlFuC80UZEB/Kts9MBVkQCgqlkO8FWRAj8EoO2kVZEBhz5DJLhVkQAlGJOCmFGRAdFjO0SYVZEBz4xVsthRkQK/FEJsRFGRAk1ixaj4UZEB4EKdr5BNkQG/voAkBFGRAShlkv4UTZEBVxGCnNRRkQJAoW/pRFGRA5CbDiJgUZEBdth8IhxRkQPhYPhBuFGRAZ0LmvJEUZEDcYtbTFBVkQOuAIEn8FWRAYQQ8cCoXZEBifZMntRdkQJ7UcriNF2RAwUir92MZZEA64TJ/9BhkQFa5GuiAF2RAlGMSqswYZEBmqW9fEBhkQCqA8urPGGRAFUwM/KIZZEAcJsLoaBtkQLeMPczpGWRAPeUnnyUbZECUJH0Xkh1kQNdKx/FMGmRAD+9OX/wdZEDajns8JxxkQIykOXtPHWRAWolHqA8dZEDDUB8MHB5kQD7Me8t+HmRAr62y83QcZEASRSwy1RxkQPuhotp5G2RAF+n9sZscZEDJOPh1EBtkQAkQQ4WWG2RAnFi5OZYcZEBFDbg8PBxkQMA+1j+aHGRA/EhvP/YaZEDcc8rTXRtkQI1eWoNFG2RAFAsxgWobZEAuFdoXghtkQEPAFjF3GmRAw02u9twaZEAdHLjASRpkQJgU9fA4GmRAynKMJNgaZED42GXF+xtkQIERV0ZQG2RADsBLDcAbZEC4LuwjdRtkQLPcbx6sG2RAGCMuSGccZEDmJQaveBtkQKaD/lxgG2RAkNQ/7SQcZEDztl7gsxtkQEfrRTqXG2RA+nMFC4AbZEClRtizgRtkQPuB+OWCG2RAHdxCrWMbZEDz6UZSFBxkQMM4ALCWHGRAIL2KX6EcZEDRAj8mbRxkQJ6uDMNXHGRAeyBptKccZEAhFboWiRxkQOVL+FT4HGRA0IKRBhsdZEBBMDdtgR1kQBGxDa2eHWRAc+jP7dEdZEDTHgCTuB1kQBD/Cw7sHWRACayRc8sdZEBCVu/c4R1kQI0VbDlYHmRAw2qiqO0dZEB+tArs7B1kQKdmgkbjHWRAr+8keyQdZED8beMllB5kQPEGRPuIHmRA+iYlC4ceZEB47fCpFR5kQM/2KcElHmRArj7RQgkeZEA4quFOUx5kQMgnONPNHWRAZZ3TG8odZEDrhdp9ax5kQCX8ZyJDHmRAcW5VqeMeZEDjX87sxh5kQIQ7ix1PHmRAj4brhlAeZEC5yAoHRx5kQEA55frnHWRA\",\"dtype\":\"float64\",\"order\":\"little\",\"shape\":[129]},\"Out_hyphen_minus_of_hyphen_minus_Sample_Predictions\":{\"__ndarray__\":\"7cF5EPgTZECbpUGwqxNkQPCq4HEdFGRAvMDU4jIUZEDb3NoukBRkQFjESbBTFGRAOIeoSiwUZEAIB8ADbhRkQJLwpn5JFGRArETsDZoUZECcjfqZlxRkQIbBimZMFGRABg1LWU8UZEAm9La1ihRkQF4wbYfNFGRAZlFuC80UZEB/Kts9MBVkQCgqlkO8FWRAj8EoO2kVZEBhz5DJLhVkQAlGJOCmFGRAdFjO0SYVZEBz4xVsthRkQK/FEJsRFGRAk1ixaj4UZEB4EKdr5BNkQG/voAkBFGRAShlkv4UTZEBVxGCnNRRkQJAoW/pRFGRA5CbDiJgUZEBdth8IhxRkQPhYPhBuFGRAZ0LmvJEUZEDcYtbTFBVkQOuAIEn8FWRAYQQ8cCoXZEBifZMntRdkQJ7UcriNF2RAwUir92MZZEA64TJ/9BhkQFa5GuiAF2RAlGMSqswYZEBmqW9fEBhkQCqA8urPGGRAFUwM/KIZZEAcJsLoaBtkQLeMPczpGWRAPeUnnyUbZECUJH0Xkh1kQNdKx/FMGmRAD+9OX/wdZEDajns8JxxkQIykOXtPHWRAWolHqA8dZEDDUB8MHB5kQD7Me8t+HmRAr62y83QcZEASRSwy1RxkQPuhotp5G2RAF+n9sZscZEDJOPh1EBtkQAkQQ4WWG2RAnFi5OZYcZEBFDbg8PBxkQMA+1j+aHGRA/EhvP/YaZEDcc8rTXRtkQI1eWoNFG2RAFAsxgWobZEAuFdoXghtkQEPAFjF3GmRAw02u9twaZEAdHLjASRpkQJgU9fA4GmRAynKMJNgaZED42GXF+xtkQIERV0ZQG2RADsBLDcAbZEC4LuwjdRtkQLPcbx6sG2RAGCMuSGccZEDmJQaveBtkQKaD/lxgG2RAkNQ/7SQcZEDztl7gsxtkQEfrRTqXG2RA+nMFC4AbZEClRtizgRtkQPuB+OWCG2RAHdxCrWMbZEDz6UZSFBxkQMM4ALCWHGRAIL2KX6EcZEDRAj8mbRxkQJ6uDMNXHGRAeyBptKccZEAhFboWiRxkQOVL+FT4HGRA0IKRBhsdZEBBMDdtgR1kQBGxDa2eHWRAc+jP7dEdZEDTHgCTuB1kQBD/Cw7sHWRACayRc8sdZEBCVu/c4R1kQI0VbDlYHmRAw2qiqO0dZEB+tArs7B1kQKdmgkbjHWRAr+8keyQdZED8beMllB5kQPEGRPuIHmRA+iYlC4ceZEB47fCpFR5kQM/2KcElHmRArj7RQgkeZEA4quFOUx5kQMgnONPNHWRAZZ3TG8odZEDrhdp9ax5kQCX8ZyJDHmRAcW5VqeMeZEDjX87sxh5kQIQ7ix1PHmRAj4brhlAeZEC5yAoHRx5kQEA55frnHWRA\",\"dtype\":\"float64\",\"order\":\"little\",\"shape\":[129]},\"index\":{\"__ndarray__\":\"AABA1Dj2dkIAAAA6i/Z2QgAAQGuC93ZCAAAA0dT3dkIAAMA2J/h2QgAAgJx5+HZCAABAAsz4dkIAAIAzw/l2QgAAQJkV+nZCAAAA/2f6dkIAAMBkuvp2QgAAgMoM+3ZCAACAYVb8dkIAAEDHqPx2QgAAAC37/HZCAADAkk39dkIAAADERP52QgAAwCmX/nZCAACAj+n+dkIAAED1O/92QgAAAFuO/3ZCAABAjIUAd0IAAADy1wB3QgAAwFcqAXdCAACAvXwBd0IAAEAjzwF3QgAAgFTGAndCAABAuhgDd0IAAAAgawN3QgAAwIW9A3dCAACA6w8Ed0IAAICCWQV3QgAAQOirBXdCAAAATv4Fd0IAAMCzUAZ3QgAAAOVHB3dCAADASpoHd0IAAICw7Ad3QgAAQBY/CHdCAAAAfJEId0IAAECtiAl3QgAAABPbCXdCAADAeC0Kd0IAAIDefwp3QgAAQETSCndCAACAdckLd0IAAEDbGwx3QgAAAEFuDHdCAADApsAMd0IAAIAMEw13QgAAwD0KDndCAACAo1wOd0IAAEAJrw53QgAAAG8BD3dCAADA1FMPd0IAAAAGSxB3QgAAwGudEHdCAACA0e8Qd0IAAEA3QhF3QgAAAJ2UEXdCAABAzosSd0IAAAA03hJ3QgAAwJkwE3dCAACA/4ITd0IAAEBl1RN3QgAAgJbMFHdCAABA/B4Vd0IAAABicRV3QgAAwMfDFXdCAADAXg0Xd0IAAIDEXxd3QgAAQCqyF3dCAAAAkAQYd0IAAMD1Vhh3QgAAACdOGXdCAADAjKAZd0IAAIDy8hl3QgAAQFhFGndCAAAAvpcad0IAAEDvjht3QgAAAFXhG3dCAADAujMcd0IAAIAghhx3QgAAQIbYHHdCAACAt88dd0IAAEAdIh53QgAAAIN0HndCAADA6MYed0IAAIBOGR93QgAAwH8QIHdCAACA5WIgd0IAAEBLtSB3QgAAALEHIXdCAADAFlohd0IAAABIUSJ3QgAAwK2jIndCAACAE/Yid0IAAEB5SCN3QgAAAN+aI3dCAAAAduQkd0IAAMDbNiV3QgAAgEGJJXdCAABAp9sld0IAAIDY0iZ3QgAAQD4lJ3dCAAAApHcnd0IAAMAJyid3QgAAgG8cKHdCAADAoBMpd0IAAIAGZil3QgAAQGy4KXdCAAAA0goqd0IAAMA3XSp3QgAAAGlUK3dCAADAzqYrd0IAAIA0+St3QgAAQJpLLHdCAAAAAJ4sd0IAAEAxlS13QgAAAJfnLXdCAADA/Dkud0IAAIBijC53QgAAQMjeLndCAACA+dUvd0IAAEBfKDB3QgAAAMV6MHdCAADAKs0wd0IAAMDBFjJ3QgAAgCdpMndC\",\"dtype\":\"float64\",\"order\":\"little\",\"shape\":[129]}},\"selected\":{\"id\":\"2584\"},\"selection_policy\":{\"id\":\"2613\"}},\"id\":\"2583\",\"type\":\"ColumnDataSource\"},{\"attributes\":{\"line_alpha\":0.1,\"line_color\":\"#1f77b3\",\"line_width\":2,\"x\":{\"field\":\"index\"},\"y\":{\"field\":\"Out-of-Sample Predictions\"}},\"id\":\"2587\",\"type\":\"Line\"},{\"attributes\":{\"align\":null,\"below\":[{\"id\":\"2562\"}],\"center\":[{\"id\":\"2565\"},{\"id\":\"2569\"}],\"left\":[{\"id\":\"2566\"}],\"margin\":null,\"min_border_bottom\":10,\"min_border_left\":10,\"min_border_right\":10,\"min_border_top\":10,\"plot_height\":300,\"plot_width\":700,\"renderers\":[{\"id\":\"2589\"}],\"sizing_mode\":\"fixed\",\"title\":{\"id\":\"2554\"},\"toolbar\":{\"id\":\"2576\"},\"x_range\":{\"id\":\"2550\"},\"x_scale\":{\"id\":\"2558\"},\"y_range\":{\"id\":\"2551\"},\"y_scale\":{\"id\":\"2560\"}},\"id\":\"2553\",\"subtype\":\"Figure\",\"type\":\"Plot\"},{\"attributes\":{\"data_source\":{\"id\":\"2583\"},\"glyph\":{\"id\":\"2586\"},\"hover_glyph\":null,\"muted_glyph\":{\"id\":\"2588\"},\"nonselection_glyph\":{\"id\":\"2587\"},\"selection_glyph\":null,\"view\":{\"id\":\"2590\"}},\"id\":\"2589\",\"type\":\"GlyphRenderer\"},{\"attributes\":{},\"id\":\"2567\",\"type\":\"BasicTicker\"},{\"attributes\":{\"days\":[1,2,3,4,5,6,7,8,9,10,11,12,13,14,15,16,17,18,19,20,21,22,23,24,25,26,27,28,29,30,31]},\"id\":\"2604\",\"type\":\"DaysTicker\"},{\"attributes\":{\"months\":[0,2,4,6,8,10]},\"id\":\"2609\",\"type\":\"MonthsTicker\"},{\"attributes\":{\"axis\":{\"id\":\"2566\"},\"dimension\":1,\"grid_line_color\":null,\"ticker\":null},\"id\":\"2569\",\"type\":\"Grid\"},{\"attributes\":{\"source\":{\"id\":\"2583\"}},\"id\":\"2590\",\"type\":\"CDSView\"},{\"attributes\":{\"axis_label\":\"\",\"bounds\":\"auto\",\"formatter\":{\"id\":\"2594\"},\"major_label_orientation\":\"horizontal\",\"ticker\":{\"id\":\"2567\"}},\"id\":\"2566\",\"type\":\"LinearAxis\"},{\"attributes\":{\"line_alpha\":0.2,\"line_color\":\"#1f77b3\",\"line_width\":2,\"x\":{\"field\":\"index\"},\"y\":{\"field\":\"Out-of-Sample Predictions\"}},\"id\":\"2588\",\"type\":\"Line\"},{\"attributes\":{},\"id\":\"2592\",\"type\":\"DatetimeTickFormatter\"},{\"attributes\":{\"days\":[1,8,15,22]},\"id\":\"2606\",\"type\":\"DaysTicker\"},{\"attributes\":{\"days\":[1,4,7,10,13,16,19,22,25,28]},\"id\":\"2605\",\"type\":\"DaysTicker\"},{\"attributes\":{\"days\":[1,15]},\"id\":\"2607\",\"type\":\"DaysTicker\"},{\"attributes\":{\"active_drag\":\"auto\",\"active_inspect\":\"auto\",\"active_multi\":null,\"active_scroll\":\"auto\",\"active_tap\":\"auto\",\"tools\":[{\"id\":\"2552\"},{\"id\":\"2570\"},{\"id\":\"2571\"},{\"id\":\"2572\"},{\"id\":\"2573\"},{\"id\":\"2574\"}]},\"id\":\"2576\",\"type\":\"Toolbar\"},{\"attributes\":{},\"id\":\"2594\",\"type\":\"BasicTickFormatter\"},{\"attributes\":{\"base\":24,\"mantissas\":[1,2,4,6,8,12],\"max_interval\":43200000.0,\"min_interval\":3600000.0,\"num_minor_ticks\":0},\"id\":\"2603\",\"type\":\"AdaptiveTicker\"},{\"attributes\":{\"line_color\":\"#1f77b3\",\"line_width\":2,\"x\":{\"field\":\"index\"},\"y\":{\"field\":\"Out-of-Sample Predictions\"}},\"id\":\"2586\",\"type\":\"Line\"},{\"attributes\":{\"months\":[0,1,2,3,4,5,6,7,8,9,10,11]},\"id\":\"2608\",\"type\":\"MonthsTicker\"},{\"attributes\":{},\"id\":\"2570\",\"type\":\"SaveTool\"},{\"attributes\":{\"children\":[{\"id\":\"2549\"},{\"id\":\"2553\"},{\"id\":\"2635\"}],\"margin\":[0,0,0,0],\"name\":\"Row03640\",\"tags\":[\"embedded\"]},\"id\":\"2548\",\"type\":\"Row\"},{\"attributes\":{\"text\":\"Out-of-Sample Predictions\",\"text_color\":{\"value\":\"black\"},\"text_font_size\":{\"value\":\"12pt\"}},\"id\":\"2554\",\"type\":\"Title\"},{\"attributes\":{\"months\":[0,4,8]},\"id\":\"2610\",\"type\":\"MonthsTicker\"},{\"attributes\":{},\"id\":\"2613\",\"type\":\"UnionRenderers\"},{\"attributes\":{},\"id\":\"2584\",\"type\":\"Selection\"},{\"attributes\":{},\"id\":\"2571\",\"type\":\"PanTool\"},{\"attributes\":{\"bottom_units\":\"screen\",\"fill_alpha\":0.5,\"fill_color\":\"lightgrey\",\"left_units\":\"screen\",\"level\":\"overlay\",\"line_alpha\":1.0,\"line_color\":\"black\",\"line_dash\":[4,4],\"line_width\":2,\"right_units\":\"screen\",\"top_units\":\"screen\"},\"id\":\"2575\",\"type\":\"BoxAnnotation\"},{\"attributes\":{\"end\":1594080000000.0,\"reset_end\":1594080000000.0,\"reset_start\":1577923200000.0,\"start\":1577923200000.0,\"tags\":[[[\"index\",\"index\",null]]]},\"id\":\"2550\",\"type\":\"Range1d\"},{\"attributes\":{},\"id\":\"2572\",\"type\":\"WheelZoomTool\"},{\"attributes\":{\"base\":60,\"mantissas\":[1,2,5,10,15,20,30],\"max_interval\":1800000.0,\"min_interval\":1000.0,\"num_minor_ticks\":0},\"id\":\"2602\",\"type\":\"AdaptiveTicker\"},{\"attributes\":{\"end\":161.0008121147094,\"reset_end\":161.0008121147094,\"reset_start\":160.57455520474448,\"start\":160.57455520474448,\"tags\":[[[\"Out-of-Sample Predictions\",\"Out-of-Sample Predictions\",null]]]},\"id\":\"2551\",\"type\":\"Range1d\"},{\"attributes\":{\"overlay\":{\"id\":\"2575\"}},\"id\":\"2573\",\"type\":\"BoxZoomTool\"},{\"attributes\":{\"months\":[0,6]},\"id\":\"2611\",\"type\":\"MonthsTicker\"},{\"attributes\":{},\"id\":\"2558\",\"type\":\"LinearScale\"},{\"attributes\":{\"margin\":[5,5,5,5],\"name\":\"HSpacer03645\",\"sizing_mode\":\"stretch_width\"},\"id\":\"2635\",\"type\":\"Spacer\"},{\"attributes\":{\"margin\":[5,5,5,5],\"name\":\"HSpacer03644\",\"sizing_mode\":\"stretch_width\"},\"id\":\"2549\",\"type\":\"Spacer\"},{\"attributes\":{\"callback\":null,\"formatters\":{\"@{index}\":\"datetime\"},\"renderers\":[{\"id\":\"2589\"}],\"tags\":[\"hv_created\"],\"tooltips\":[[\"index\",\"@{index}{%F %T}\"],[\"Out-of-Sample Predictions\",\"@{Out_hyphen_minus_of_hyphen_minus_Sample_Predictions}\"]]},\"id\":\"2552\",\"type\":\"HoverTool\"},{\"attributes\":{\"num_minor_ticks\":5,\"tickers\":[{\"id\":\"2601\"},{\"id\":\"2602\"},{\"id\":\"2603\"},{\"id\":\"2604\"},{\"id\":\"2605\"},{\"id\":\"2606\"},{\"id\":\"2607\"},{\"id\":\"2608\"},{\"id\":\"2609\"},{\"id\":\"2610\"},{\"id\":\"2611\"},{\"id\":\"2612\"}]},\"id\":\"2563\",\"type\":\"DatetimeTicker\"},{\"attributes\":{},\"id\":\"2574\",\"type\":\"ResetTool\"},{\"attributes\":{\"mantissas\":[1,2,5],\"max_interval\":500.0,\"num_minor_ticks\":0},\"id\":\"2601\",\"type\":\"AdaptiveTicker\"},{\"attributes\":{},\"id\":\"2612\",\"type\":\"YearsTicker\"},{\"attributes\":{},\"id\":\"2560\",\"type\":\"LinearScale\"},{\"attributes\":{\"axis\":{\"id\":\"2562\"},\"grid_line_color\":null,\"ticker\":null},\"id\":\"2565\",\"type\":\"Grid\"},{\"attributes\":{\"axis_label\":\"\",\"bounds\":\"auto\",\"formatter\":{\"id\":\"2592\"},\"major_label_orientation\":\"horizontal\",\"ticker\":{\"id\":\"2563\"}},\"id\":\"2562\",\"type\":\"DatetimeAxis\"}],\"root_ids\":[\"2548\"]},\"title\":\"Bokeh Application\",\"version\":\"2.1.1\"}};\n",
       "  var render_items = [{\"docid\":\"3a23ec27-6179-4eae-975c-553e65c2df45\",\"root_ids\":[\"2548\"],\"roots\":{\"2548\":\"121c81a6-fcb8-4327-bb89-8ba5f376e8dd\"}}];\n",
       "  root.Bokeh.embed.embed_items_notebook(docs_json, render_items);\n",
       "  }\n",
       "if (root.Bokeh !== undefined) {\n",
       "    embed_document(root);\n",
       "  } else {\n",
       "    var attempts = 0;\n",
       "    var timer = setInterval(function(root) {\n",
       "      if (root.Bokeh !== undefined) {\n",
       "        clearInterval(timer);\n",
       "        embed_document(root);\n",
       "      } else if (document.readyState == \"complete\") {\n",
       "        attempts++;\n",
       "        if (attempts > 100) {\n",
       "          clearInterval(timer);\n",
       "          console.log(\"Bokeh: ERROR: Unable to run BokehJS code because BokehJS library is missing\");\n",
       "        }\n",
       "      }\n",
       "    }, 10, root)\n",
       "  }\n",
       "})(window);</script>"
      ],
      "text/plain": [
       ":Curve   [index]   (Out-of-Sample Predictions)"
      ]
     },
     "execution_count": 69,
     "metadata": {
      "application/vnd.holoviews_exec.v0+json": {
       "id": "2548"
      }
     },
     "output_type": "execute_result"
    }
   ],
   "source": [
    "# results_2020_divided = (results_2020['Out-of-Sample Predictions']/100)\n",
    "# cumulative_returns_divided = (results_2020_divided + 1).cumprod()-1\n",
    "# prices = (cumulative_returns_divided +1) * (MSFT_df.loc['2020-01-02','Close'])\n",
    "# prices.hvplot()"
   ]
  },
  {
   "cell_type": "code",
   "execution_count": 70,
   "metadata": {},
   "outputs": [],
   "source": [
    "# regression_path = '../Steffen/Linear Regression Results.csv'\n",
    "# regression_df = pd.read_csv(\n",
    "#     Path(regression_path),\n",
    "#     index_col='Unnamed: 0',\n",
    "#     parse_dates=True,\n",
    "#     infer_datetime_format=True\n",
    "# )\n",
    "# regression_df.columns = ['MSFT_regression']\n",
    "# regression_df.head()"
   ]
  },
  {
   "cell_type": "code",
   "execution_count": 63,
   "metadata": {},
   "outputs": [],
   "source": [
    "combined_df = pd.merge(predictions_df, regression_df, how='inner', left_index=True, right_index=True)"
   ]
  },
  {
   "cell_type": "code",
   "execution_count": 64,
   "metadata": {},
   "outputs": [
    {
     "data": {
      "text/html": [
       "<div>\n",
       "<style scoped>\n",
       "    .dataframe tbody tr th:only-of-type {\n",
       "        vertical-align: middle;\n",
       "    }\n",
       "\n",
       "    .dataframe tbody tr th {\n",
       "        vertical-align: top;\n",
       "    }\n",
       "\n",
       "    .dataframe thead th {\n",
       "        text-align: right;\n",
       "    }\n",
       "</style>\n",
       "<table border=\"1\" class=\"dataframe\">\n",
       "  <thead>\n",
       "    <tr style=\"text-align: right;\">\n",
       "      <th></th>\n",
       "      <th>MSFT_actual</th>\n",
       "      <th>MSFT_lstm</th>\n",
       "      <th>Close</th>\n",
       "      <th>MSFT_regression</th>\n",
       "    </tr>\n",
       "  </thead>\n",
       "  <tbody>\n",
       "    <tr>\n",
       "      <th>2020-01-02</th>\n",
       "      <td>157.70</td>\n",
       "      <td>161.184555</td>\n",
       "      <td>NaN</td>\n",
       "      <td>NaN</td>\n",
       "    </tr>\n",
       "    <tr>\n",
       "      <th>2020-01-03</th>\n",
       "      <td>160.62</td>\n",
       "      <td>160.711563</td>\n",
       "      <td>NaN</td>\n",
       "      <td>NaN</td>\n",
       "    </tr>\n",
       "    <tr>\n",
       "      <th>2020-01-06</th>\n",
       "      <td>158.62</td>\n",
       "      <td>162.529968</td>\n",
       "      <td>NaN</td>\n",
       "      <td>NaN</td>\n",
       "    </tr>\n",
       "    <tr>\n",
       "      <th>2020-01-07</th>\n",
       "      <td>159.03</td>\n",
       "      <td>162.209641</td>\n",
       "      <td>NaN</td>\n",
       "      <td>NaN</td>\n",
       "    </tr>\n",
       "    <tr>\n",
       "      <th>2020-01-08</th>\n",
       "      <td>157.58</td>\n",
       "      <td>162.081100</td>\n",
       "      <td>NaN</td>\n",
       "      <td>NaN</td>\n",
       "    </tr>\n",
       "  </tbody>\n",
       "</table>\n",
       "</div>"
      ],
      "text/plain": [
       "            MSFT_actual   MSFT_lstm  Close  MSFT_regression\n",
       "2020-01-02       157.70  161.184555    NaN              NaN\n",
       "2020-01-03       160.62  160.711563    NaN              NaN\n",
       "2020-01-06       158.62  162.529968    NaN              NaN\n",
       "2020-01-07       159.03  162.209641    NaN              NaN\n",
       "2020-01-08       157.58  162.081100    NaN              NaN"
      ]
     },
     "execution_count": 64,
     "metadata": {},
     "output_type": "execute_result"
    }
   ],
   "source": [
    "combined_df.head()"
   ]
  },
  {
   "cell_type": "markdown",
   "metadata": {},
   "source": [
    "***"
   ]
  },
  {
   "cell_type": "code",
   "execution_count": 65,
   "metadata": {},
   "outputs": [
    {
     "data": {
      "application/vnd.holoviews_exec.v0+json": "",
      "text/html": [
       "<div id='2011'>\n",
       "\n",
       "\n",
       "\n",
       "\n",
       "\n",
       "  <div class=\"bk-root\" id=\"9602df9d-3be5-4226-873e-5f7b59cb44c7\" data-root-id=\"2011\"></div>\n",
       "</div>\n",
       "<script type=\"application/javascript\">(function(root) {\n",
       "  function embed_document(root) {\n",
       "  var docs_json = {\"49f7f189-8f7a-46e4-95ee-b90de88fb7c2\":{\"roots\":{\"references\":[{\"attributes\":{\"line_color\":\"#d62628\",\"line_width\":2,\"x\":{\"field\":\"index\"},\"y\":{\"field\":\"value\"}},\"id\":\"2150\",\"type\":\"Line\"},{\"attributes\":{\"label\":{\"value\":\"MSFT_regression\"},\"renderers\":[{\"id\":\"2153\"}]},\"id\":\"2181\",\"type\":\"LegendItem\"},{\"attributes\":{\"months\":[0,2,4,6,8,10]},\"id\":\"2075\",\"type\":\"MonthsTicker\"},{\"attributes\":{\"axis_label\":\"\",\"bounds\":\"auto\",\"formatter\":{\"id\":\"2050\"},\"major_label_orientation\":\"horizontal\",\"ticker\":{\"id\":\"2029\"}},\"id\":\"2028\",\"type\":\"DatetimeAxis\"},{\"attributes\":{\"source\":{\"id\":\"2053\"}},\"id\":\"2060\",\"type\":\"CDSView\"},{\"attributes\":{\"label\":{\"value\":\"MSFT_lstm\"},\"renderers\":[{\"id\":\"2089\"}]},\"id\":\"2113\",\"type\":\"LegendItem\"},{\"attributes\":{\"months\":[0,4,8]},\"id\":\"2076\",\"type\":\"MonthsTicker\"},{\"attributes\":{},\"id\":\"2036\",\"type\":\"SaveTool\"},{\"attributes\":{\"base\":60,\"mantissas\":[1,2,5,10,15,20,30],\"max_interval\":1800000.0,\"min_interval\":1000.0,\"num_minor_ticks\":0},\"id\":\"2068\",\"type\":\"AdaptiveTicker\"},{\"attributes\":{},\"id\":\"2084\",\"type\":\"Selection\"},{\"attributes\":{\"data_source\":{\"id\":\"2053\"},\"glyph\":{\"id\":\"2056\"},\"hover_glyph\":null,\"muted_glyph\":{\"id\":\"2058\"},\"nonselection_glyph\":{\"id\":\"2057\"},\"selection_glyph\":null,\"view\":{\"id\":\"2060\"}},\"id\":\"2059\",\"type\":\"GlyphRenderer\"},{\"attributes\":{\"source\":{\"id\":\"2147\"}},\"id\":\"2154\",\"type\":\"CDSView\"},{\"attributes\":{},\"id\":\"2050\",\"type\":\"DatetimeTickFormatter\"},{\"attributes\":{\"months\":[0,1,2,3,4,5,6,7,8,9,10,11]},\"id\":\"2074\",\"type\":\"MonthsTicker\"},{\"attributes\":{},\"id\":\"2079\",\"type\":\"UnionRenderers\"},{\"attributes\":{},\"id\":\"2115\",\"type\":\"Selection\"},{\"attributes\":{\"line_alpha\":0.1,\"line_color\":\"#ff7e0e\",\"line_width\":2,\"x\":{\"field\":\"index\"},\"y\":{\"field\":\"value\"}},\"id\":\"2087\",\"type\":\"Line\"},{\"attributes\":{\"click_policy\":\"mute\",\"items\":[{\"id\":\"2082\"},{\"id\":\"2113\"},{\"id\":\"2146\"},{\"id\":\"2181\"}],\"location\":[0,0],\"title\":\"Variable\"},\"id\":\"2081\",\"type\":\"Legend\"},{\"attributes\":{\"line_alpha\":0.2,\"line_color\":\"#2ba02b\",\"line_width\":2,\"x\":{\"field\":\"index\"},\"y\":{\"field\":\"value\"}},\"id\":\"2119\",\"type\":\"Line\"},{\"attributes\":{\"margin\":[5,5,5,5],\"name\":\"HSpacer02957\",\"sizing_mode\":\"stretch_width\"},\"id\":\"2416\",\"type\":\"Spacer\"},{\"attributes\":{},\"id\":\"2052\",\"type\":\"BasicTickFormatter\"},{\"attributes\":{\"text\":\"\",\"text_color\":{\"value\":\"black\"},\"text_font_size\":{\"value\":\"12pt\"}},\"id\":\"2020\",\"type\":\"Title\"},{\"attributes\":{\"callback\":null,\"formatters\":{\"@{index}\":\"datetime\"},\"renderers\":[{\"id\":\"2059\"},{\"id\":\"2089\"},{\"id\":\"2120\"},{\"id\":\"2153\"}],\"tags\":[\"hv_created\"],\"tooltips\":[[\"Variable\",\"@{Variable}\"],[\"index\",\"@{index}{%F %T}\"],[\"value\",\"@{value}\"]]},\"id\":\"2015\",\"type\":\"HoverTool\"},{\"attributes\":{\"line_color\":\"#2ba02b\",\"line_width\":2,\"x\":{\"field\":\"index\"},\"y\":{\"field\":\"value\"}},\"id\":\"2117\",\"type\":\"Line\"},{\"attributes\":{\"line_alpha\":0.2,\"line_color\":\"#d62628\",\"line_width\":2,\"x\":{\"field\":\"index\"},\"y\":{\"field\":\"value\"}},\"id\":\"2152\",\"type\":\"Line\"},{\"attributes\":{},\"id\":\"2037\",\"type\":\"PanTool\"},{\"attributes\":{\"base\":24,\"mantissas\":[1,2,4,6,8,12],\"max_interval\":43200000.0,\"min_interval\":3600000.0,\"num_minor_ticks\":0},\"id\":\"2069\",\"type\":\"AdaptiveTicker\"},{\"attributes\":{\"source\":{\"id\":\"2114\"}},\"id\":\"2121\",\"type\":\"CDSView\"},{\"attributes\":{\"months\":[0,6]},\"id\":\"2077\",\"type\":\"MonthsTicker\"},{\"attributes\":{\"data_source\":{\"id\":\"2147\"},\"glyph\":{\"id\":\"2150\"},\"hover_glyph\":null,\"muted_glyph\":{\"id\":\"2152\"},\"nonselection_glyph\":{\"id\":\"2151\"},\"selection_glyph\":null,\"view\":{\"id\":\"2154\"}},\"id\":\"2153\",\"type\":\"GlyphRenderer\"},{\"attributes\":{},\"id\":\"2038\",\"type\":\"WheelZoomTool\"},{\"attributes\":{},\"id\":\"2040\",\"type\":\"ResetTool\"},{\"attributes\":{\"data\":{\"Variable\":[\"MSFT_lstm\",\"MSFT_lstm\",\"MSFT_lstm\",\"MSFT_lstm\",\"MSFT_lstm\",\"MSFT_lstm\",\"MSFT_lstm\",\"MSFT_lstm\",\"MSFT_lstm\",\"MSFT_lstm\",\"MSFT_lstm\",\"MSFT_lstm\",\"MSFT_lstm\",\"MSFT_lstm\",\"MSFT_lstm\",\"MSFT_lstm\",\"MSFT_lstm\",\"MSFT_lstm\",\"MSFT_lstm\",\"MSFT_lstm\",\"MSFT_lstm\",\"MSFT_lstm\",\"MSFT_lstm\",\"MSFT_lstm\",\"MSFT_lstm\",\"MSFT_lstm\",\"MSFT_lstm\",\"MSFT_lstm\",\"MSFT_lstm\",\"MSFT_lstm\",\"MSFT_lstm\",\"MSFT_lstm\",\"MSFT_lstm\",\"MSFT_lstm\",\"MSFT_lstm\",\"MSFT_lstm\",\"MSFT_lstm\",\"MSFT_lstm\",\"MSFT_lstm\",\"MSFT_lstm\",\"MSFT_lstm\",\"MSFT_lstm\",\"MSFT_lstm\",\"MSFT_lstm\",\"MSFT_lstm\",\"MSFT_lstm\",\"MSFT_lstm\",\"MSFT_lstm\",\"MSFT_lstm\",\"MSFT_lstm\",\"MSFT_lstm\",\"MSFT_lstm\",\"MSFT_lstm\",\"MSFT_lstm\",\"MSFT_lstm\",\"MSFT_lstm\",\"MSFT_lstm\",\"MSFT_lstm\",\"MSFT_lstm\",\"MSFT_lstm\",\"MSFT_lstm\",\"MSFT_lstm\",\"MSFT_lstm\",\"MSFT_lstm\",\"MSFT_lstm\",\"MSFT_lstm\",\"MSFT_lstm\",\"MSFT_lstm\",\"MSFT_lstm\",\"MSFT_lstm\",\"MSFT_lstm\",\"MSFT_lstm\",\"MSFT_lstm\",\"MSFT_lstm\",\"MSFT_lstm\",\"MSFT_lstm\",\"MSFT_lstm\",\"MSFT_lstm\",\"MSFT_lstm\",\"MSFT_lstm\",\"MSFT_lstm\",\"MSFT_lstm\",\"MSFT_lstm\",\"MSFT_lstm\",\"MSFT_lstm\",\"MSFT_lstm\",\"MSFT_lstm\",\"MSFT_lstm\",\"MSFT_lstm\",\"MSFT_lstm\",\"MSFT_lstm\",\"MSFT_lstm\",\"MSFT_lstm\",\"MSFT_lstm\",\"MSFT_lstm\",\"MSFT_lstm\",\"MSFT_lstm\",\"MSFT_lstm\",\"MSFT_lstm\",\"MSFT_lstm\",\"MSFT_lstm\",\"MSFT_lstm\",\"MSFT_lstm\",\"MSFT_lstm\",\"MSFT_lstm\",\"MSFT_lstm\",\"MSFT_lstm\",\"MSFT_lstm\",\"MSFT_lstm\",\"MSFT_lstm\",\"MSFT_lstm\",\"MSFT_lstm\",\"MSFT_lstm\",\"MSFT_lstm\",\"MSFT_lstm\",\"MSFT_lstm\",\"MSFT_lstm\",\"MSFT_lstm\",\"MSFT_lstm\",\"MSFT_lstm\",\"MSFT_lstm\",\"MSFT_lstm\",\"MSFT_lstm\",\"MSFT_lstm\",\"MSFT_lstm\",\"MSFT_lstm\",\"MSFT_lstm\",\"MSFT_lstm\",\"MSFT_lstm\"],\"index\":{\"__ndarray__\":\"AABA1Dj2dkIAAAA6i/Z2QgAAQGuC93ZCAAAA0dT3dkIAAMA2J/h2QgAAgJx5+HZCAABAAsz4dkIAAIAzw/l2QgAAQJkV+nZCAAAA/2f6dkIAAMBkuvp2QgAAgMoM+3ZCAACAYVb8dkIAAEDHqPx2QgAAAC37/HZCAADAkk39dkIAAADERP52QgAAwCmX/nZCAACAj+n+dkIAAED1O/92QgAAAFuO/3ZCAABAjIUAd0IAAADy1wB3QgAAwFcqAXdCAACAvXwBd0IAAEAjzwF3QgAAgFTGAndCAABAuhgDd0IAAAAgawN3QgAAwIW9A3dCAACA6w8Ed0IAAICCWQV3QgAAQOirBXdCAAAATv4Fd0IAAMCzUAZ3QgAAAOVHB3dCAADASpoHd0IAAICw7Ad3QgAAQBY/CHdCAAAAfJEId0IAAECtiAl3QgAAABPbCXdCAADAeC0Kd0IAAIDefwp3QgAAQETSCndCAACAdckLd0IAAEDbGwx3QgAAAEFuDHdCAADApsAMd0IAAIAMEw13QgAAwD0KDndCAACAo1wOd0IAAEAJrw53QgAAAG8BD3dCAADA1FMPd0IAAAAGSxB3QgAAwGudEHdCAACA0e8Qd0IAAEA3QhF3QgAAAJ2UEXdCAABAzosSd0IAAAA03hJ3QgAAwJkwE3dCAACA/4ITd0IAAEBl1RN3QgAAgJbMFHdCAABA/B4Vd0IAAABicRV3QgAAwMfDFXdCAADAXg0Xd0IAAIDEXxd3QgAAQCqyF3dCAAAAkAQYd0IAAMD1Vhh3QgAAACdOGXdCAADAjKAZd0IAAIDy8hl3QgAAQFhFGndCAAAAvpcad0IAAEDvjht3QgAAAFXhG3dCAADAujMcd0IAAIAghhx3QgAAQIbYHHdCAACAt88dd0IAAEAdIh53QgAAAIN0HndCAADA6MYed0IAAIBOGR93QgAAwH8QIHdCAACA5WIgd0IAAEBLtSB3QgAAALEHIXdCAADAFlohd0IAAABIUSJ3QgAAwK2jIndCAACAE/Yid0IAAEB5SCN3QgAAAN+aI3dCAAAAduQkd0IAAMDbNiV3QgAAgEGJJXdCAABAp9sld0IAAIDY0iZ3QgAAQD4lJ3dCAAAApHcnd0IAAMAJyid3QgAAgG8cKHdCAADAoBMpd0IAAIAGZil3QgAAQGy4KXdCAAAA0goqd0IAAMA3XSp3QgAAAGlUK3dCAADAzqYrd0IAAIA0+St3QgAAQJpLLHdCAAAAAJ4sd0IAAEAxlS13QgAAAJfnLXdCAADA/Dkud0IAAIBijC53QgAAQMjeLndCAACA+dUvd0IAAEBfKDB3QgAAAMV6MHdCAADAKs0wd0IAAMDBFjJ3QgAAgCdpMndC\",\"dtype\":\"float64\",\"order\":\"little\",\"shape\":[129]},\"value\":{\"__ndarray__\":\"Py8hQym2IEOshyJDqzUiQ8MUIkNsASFDpyciQ8FIJENexiRDaQQmQ0e3JUMIBiZDqTAoQzTnKUMVDipDmDspQ/haKUNEVyhD6eglQ2TxJkNwpylDiEkuQw6dLkMszTBDQ5U1Q8WFN0O5MzpDJz87QwJ0PkOg6jxDAqM7Q9pXOkO18zpD6c08QxLNPUP+GTxDJAA3Q3I+L0PgCipDGiEqQyYzI0PlhiJDQLcqQ1DjKUPxhyxDZeIqQwFSJkPEhhxDuhEfQ7wNHUP4IxJD6VAaQ79HEEPGBxJD3/8PQ6ymEEPDsQ1Dvj4LQ+vYEkOvWBZD7JodQ7JMHEOEhCFDaE8iQ1oBHkMBfx1DyrYcQztLJEPnRydDze8oQ9sWKUNI7ChDXTYuQ5e4L0P9MjNDdaY1Q1rXM0NRWS1DUOAtQwm3LUOg7y9DFeYwQ1g6LkMqyDFD/zk1Q1xtM0OyujRDudI2Q9ruOENiZDpD0HU7Q40QPUO1wjpDjk03Q21BNkPlEzhD/o86Q97XOkMu9DtDIuE6QzgfOkNXgDhDVe43Q1OkN0M96jhDAmo5Q5ntOkPq7TtDLIc6Q2BzPEPSaj5DYChAQ8l5RUOWw0BDKEE+Qw0/PkNe2kFD815EQ7OYRkMmeEZDaY1JQyr8S0Nh9ElD4gBKQ+yAR0OdlkdD8ntLQ+J2TkPggFBD\",\"dtype\":\"float32\",\"order\":\"little\",\"shape\":[129]}},\"selected\":{\"id\":\"2084\"},\"selection_policy\":{\"id\":\"2111\"}},\"id\":\"2083\",\"type\":\"ColumnDataSource\"},{\"attributes\":{\"align\":null,\"below\":[{\"id\":\"2028\"}],\"center\":[{\"id\":\"2031\"},{\"id\":\"2035\"}],\"left\":[{\"id\":\"2032\"}],\"margin\":null,\"min_border_bottom\":10,\"min_border_left\":10,\"min_border_right\":10,\"min_border_top\":10,\"plot_width\":1200,\"renderers\":[{\"id\":\"2059\"},{\"id\":\"2089\"},{\"id\":\"2120\"},{\"id\":\"2153\"}],\"right\":[{\"id\":\"2081\"}],\"sizing_mode\":\"fixed\",\"title\":{\"id\":\"2020\"},\"toolbar\":{\"id\":\"2042\"},\"x_range\":{\"id\":\"2013\"},\"x_scale\":{\"id\":\"2024\"},\"y_range\":{\"id\":\"2014\"},\"y_scale\":{\"id\":\"2026\"}},\"id\":\"2019\",\"subtype\":\"Figure\",\"type\":\"Plot\"},{\"attributes\":{\"data_source\":{\"id\":\"2114\"},\"glyph\":{\"id\":\"2117\"},\"hover_glyph\":null,\"muted_glyph\":{\"id\":\"2119\"},\"nonselection_glyph\":{\"id\":\"2118\"},\"selection_glyph\":null,\"view\":{\"id\":\"2121\"}},\"id\":\"2120\",\"type\":\"GlyphRenderer\"},{\"attributes\":{\"line_alpha\":0.2,\"line_color\":\"#1f77b3\",\"line_width\":2,\"x\":{\"field\":\"index\"},\"y\":{\"field\":\"value\"}},\"id\":\"2058\",\"type\":\"Line\"},{\"attributes\":{},\"id\":\"2033\",\"type\":\"BasicTicker\"},{\"attributes\":{\"end\":1594080000000.0,\"reset_end\":1594080000000.0,\"reset_start\":1577923200000.0,\"start\":1577923200000.0,\"tags\":[[[\"index\",\"index\",null]]]},\"id\":\"2013\",\"type\":\"Range1d\"},{\"attributes\":{\"overlay\":{\"id\":\"2041\"}},\"id\":\"2039\",\"type\":\"BoxZoomTool\"},{\"attributes\":{\"line_alpha\":0.1,\"line_color\":\"#d62628\",\"line_width\":2,\"x\":{\"field\":\"index\"},\"y\":{\"field\":\"value\"}},\"id\":\"2151\",\"type\":\"Line\"},{\"attributes\":{\"active_drag\":\"auto\",\"active_inspect\":\"auto\",\"active_multi\":null,\"active_scroll\":\"auto\",\"active_tap\":\"auto\",\"tools\":[{\"id\":\"2015\"},{\"id\":\"2036\"},{\"id\":\"2037\"},{\"id\":\"2038\"},{\"id\":\"2039\"},{\"id\":\"2040\"}]},\"id\":\"2042\",\"type\":\"Toolbar\"},{\"attributes\":{\"line_alpha\":0.1,\"line_color\":\"#1f77b3\",\"line_width\":2,\"x\":{\"field\":\"index\"},\"y\":{\"field\":\"value\"}},\"id\":\"2057\",\"type\":\"Line\"},{\"attributes\":{\"axis\":{\"id\":\"2032\"},\"dimension\":1,\"grid_line_color\":null,\"ticker\":null},\"id\":\"2035\",\"type\":\"Grid\"},{\"attributes\":{},\"id\":\"2144\",\"type\":\"UnionRenderers\"},{\"attributes\":{\"end\":218.228,\"reset_end\":218.228,\"reset_start\":127.89199999999995,\"start\":127.89199999999995,\"tags\":[[[\"value\",\"value\",null]]]},\"id\":\"2014\",\"type\":\"Range1d\"},{\"attributes\":{\"label\":{\"value\":\"Close\"},\"renderers\":[{\"id\":\"2120\"}]},\"id\":\"2146\",\"type\":\"LegendItem\"},{\"attributes\":{\"data\":{\"Variable\":[\"MSFT_regression\",\"MSFT_regression\",\"MSFT_regression\",\"MSFT_regression\",\"MSFT_regression\",\"MSFT_regression\",\"MSFT_regression\",\"MSFT_regression\",\"MSFT_regression\",\"MSFT_regression\",\"MSFT_regression\",\"MSFT_regression\",\"MSFT_regression\",\"MSFT_regression\",\"MSFT_regression\",\"MSFT_regression\",\"MSFT_regression\",\"MSFT_regression\",\"MSFT_regression\",\"MSFT_regression\",\"MSFT_regression\",\"MSFT_regression\",\"MSFT_regression\",\"MSFT_regression\",\"MSFT_regression\",\"MSFT_regression\",\"MSFT_regression\",\"MSFT_regression\",\"MSFT_regression\",\"MSFT_regression\",\"MSFT_regression\",\"MSFT_regression\",\"MSFT_regression\",\"MSFT_regression\",\"MSFT_regression\",\"MSFT_regression\",\"MSFT_regression\",\"MSFT_regression\",\"MSFT_regression\",\"MSFT_regression\",\"MSFT_regression\",\"MSFT_regression\",\"MSFT_regression\",\"MSFT_regression\",\"MSFT_regression\",\"MSFT_regression\",\"MSFT_regression\",\"MSFT_regression\",\"MSFT_regression\",\"MSFT_regression\",\"MSFT_regression\",\"MSFT_regression\",\"MSFT_regression\",\"MSFT_regression\",\"MSFT_regression\",\"MSFT_regression\",\"MSFT_regression\",\"MSFT_regression\",\"MSFT_regression\",\"MSFT_regression\",\"MSFT_regression\",\"MSFT_regression\",\"MSFT_regression\",\"MSFT_regression\",\"MSFT_regression\",\"MSFT_regression\",\"MSFT_regression\",\"MSFT_regression\",\"MSFT_regression\",\"MSFT_regression\",\"MSFT_regression\",\"MSFT_regression\",\"MSFT_regression\",\"MSFT_regression\",\"MSFT_regression\",\"MSFT_regression\",\"MSFT_regression\",\"MSFT_regression\",\"MSFT_regression\",\"MSFT_regression\",\"MSFT_regression\",\"MSFT_regression\",\"MSFT_regression\",\"MSFT_regression\",\"MSFT_regression\",\"MSFT_regression\",\"MSFT_regression\",\"MSFT_regression\",\"MSFT_regression\",\"MSFT_regression\",\"MSFT_regression\",\"MSFT_regression\",\"MSFT_regression\",\"MSFT_regression\",\"MSFT_regression\",\"MSFT_regression\",\"MSFT_regression\",\"MSFT_regression\",\"MSFT_regression\",\"MSFT_regression\",\"MSFT_regression\",\"MSFT_regression\",\"MSFT_regression\",\"MSFT_regression\",\"MSFT_regression\",\"MSFT_regression\",\"MSFT_regression\",\"MSFT_regression\",\"MSFT_regression\",\"MSFT_regression\",\"MSFT_regression\",\"MSFT_regression\",\"MSFT_regression\",\"MSFT_regression\",\"MSFT_regression\",\"MSFT_regression\",\"MSFT_regression\",\"MSFT_regression\",\"MSFT_regression\",\"MSFT_regression\",\"MSFT_regression\",\"MSFT_regression\",\"MSFT_regression\",\"MSFT_regression\",\"MSFT_regression\",\"MSFT_regression\",\"MSFT_regression\",\"MSFT_regression\",\"MSFT_regression\"],\"index\":{\"__ndarray__\":\"AABA1Dj2dkIAAAA6i/Z2QgAAQGuC93ZCAAAA0dT3dkIAAMA2J/h2QgAAgJx5+HZCAABAAsz4dkIAAIAzw/l2QgAAQJkV+nZCAAAA/2f6dkIAAMBkuvp2QgAAgMoM+3ZCAACAYVb8dkIAAEDHqPx2QgAAAC37/HZCAADAkk39dkIAAADERP52QgAAwCmX/nZCAACAj+n+dkIAAED1O/92QgAAAFuO/3ZCAABAjIUAd0IAAADy1wB3QgAAwFcqAXdCAACAvXwBd0IAAEAjzwF3QgAAgFTGAndCAABAuhgDd0IAAAAgawN3QgAAwIW9A3dCAACA6w8Ed0IAAICCWQV3QgAAQOirBXdCAAAATv4Fd0IAAMCzUAZ3QgAAAOVHB3dCAADASpoHd0IAAICw7Ad3QgAAQBY/CHdCAAAAfJEId0IAAECtiAl3QgAAABPbCXdCAADAeC0Kd0IAAIDefwp3QgAAQETSCndCAACAdckLd0IAAEDbGwx3QgAAAEFuDHdCAADApsAMd0IAAIAMEw13QgAAwD0KDndCAACAo1wOd0IAAEAJrw53QgAAAG8BD3dCAADA1FMPd0IAAAAGSxB3QgAAwGudEHdCAACA0e8Qd0IAAEA3QhF3QgAAAJ2UEXdCAABAzosSd0IAAAA03hJ3QgAAwJkwE3dCAACA/4ITd0IAAEBl1RN3QgAAgJbMFHdCAABA/B4Vd0IAAABicRV3QgAAwMfDFXdCAADAXg0Xd0IAAIDEXxd3QgAAQCqyF3dCAAAAkAQYd0IAAMD1Vhh3QgAAACdOGXdCAADAjKAZd0IAAIDy8hl3QgAAQFhFGndCAAAAvpcad0IAAEDvjht3QgAAAFXhG3dCAADAujMcd0IAAIAghhx3QgAAQIbYHHdCAACAt88dd0IAAEAdIh53QgAAAIN0HndCAADA6MYed0IAAIBOGR93QgAAwH8QIHdCAACA5WIgd0IAAEBLtSB3QgAAALEHIXdCAADAFlohd0IAAABIUSJ3QgAAwK2jIndCAACAE/Yid0IAAEB5SCN3QgAAAN+aI3dCAAAAduQkd0IAAMDbNiV3QgAAgEGJJXdCAABAp9sld0IAAIDY0iZ3QgAAQD4lJ3dCAAAApHcnd0IAAMAJyid3QgAAgG8cKHdCAADAoBMpd0IAAIAGZil3QgAAQGy4KXdCAAAA0goqd0IAAMA3XSp3QgAAAGlUK3dCAADAzqYrd0IAAIA0+St3QgAAQJpLLHdCAAAAAJ4sd0IAAEAxlS13QgAAAJfnLXdCAADA/Dkud0IAAIBijC53QgAAQMjeLndCAACA+dUvd0IAAEBfKDB3QgAAAMV6MHdCAADAKs0wd0IAAMDBFjJ3QgAAgCdpMndC\",\"dtype\":\"float64\",\"order\":\"little\",\"shape\":[129]},\"value\":{\"__ndarray__\":\"AAAAAAAA+H8AAAAAAAD4fwAAAAAAAPh/AAAAAAAA+H8AAAAAAAD4fwAAAAAAAPh/AAAAAAAA+H8AAAAAAAD4fwAAAAAAAPh/AAAAAAAA+H8AAAAAAAD4fwAAAAAAAPh/AAAAAAAA+H8AAAAAAAD4fwAAAAAAAPh/AAAAAAAA+H8AAAAAAAD4fwAAAAAAAPh/AAAAAAAA+H8AAAAAAAD4fwAAAAAAAPh/AAAAAAAA+H8AAAAAAAD4fwAAAAAAAPh/AAAAAAAA+H8AAAAAAAD4fwAAAAAAAPh/AAAAAAAA+H8AAAAAAAD4fwAAAAAAAPh/AAAAAAAA+H8AAAAAAAD4fwAAAAAAAPh/AAAAAAAA+H8AAAAAAAD4fwAAAAAAAPh/AAAAAAAA+H8AAAAAAAD4fwAAAAAAAPh/AAAAAAAA+H8AAAAAAAD4fwAAAAAAAPh/AAAAAAAA+H8AAAAAAAD4fwAAAAAAAPh/AAAAAAAA+H8AAAAAAAD4fwAAAAAAAPh/AAAAAAAA+H8AAAAAAAD4fwAAAAAAAPh/AAAAAAAA+H8AAAAAAAD4fwAAAAAAAPh/AAAAAAAA+H8AAAAAAAD4fwAAAAAAAPh/AAAAAAAA+H8AAAAAAAD4fwAAAAAAAPh/AAAAAAAA+H8AAAAAAAD4fwAAAAAAAPh/AAAAAAAA+H8AAAAAAAD4fwAAAAAAAPh/AAAAAAAA+H8AAAAAAAD4fwAAAAAAAPh/AAAAAAAA+H8AAAAAAAD4fwAAAAAAAPh/AAAAAAAA+H8AAAAAAAD4fwAAAAAAAPh/AAAAAAAA+H8AAAAAAAD4fwAAAAAAAPh/AAAAAAAA+H8AAAAAAAD4fwAAAAAAAPh/AAAAAAAA+H8AAAAAAAD4fwAAAAAAAPh/AAAAAAAA+H8AAAAAAAD4fwAAAAAAAPh/AAAAAAAA+H8AAAAAAAD4fwAAAAAAAPh/AAAAAAAA+H8AAAAAAAD4fwAAAAAAAPh/AAAAAAAA+H8AAAAAAAD4fwAAAAAAAPh/AAAAAAAA+H8AAAAAAAD4fwAAAAAAAPh/AAAAAAAA+H8AAAAAAAD4fwAAAAAAAPh/AAAAAAAA+H8AAAAAAAD4fwAAAAAAAPh/AAAAAAAA+H8AAAAAAAD4fwAAAAAAAPh/AAAAAAAA+H8AAAAAAAD4fwAAAAAAAPh/AAAAAAAA+H8AAAAAAAD4fwAAAAAAAPh/AAAAAAAA+H8AAAAAAAD4fwAAAAAAAPh/AAAAAAAA+H8AAAAAAAD4fwAAAAAAAPh/AAAAAAAA+H8AAAAAAAD4fwAAAAAAAPh/AAAAAAAA+H8AAAAAAAD4fwAAAAAAAPh/AAAAAAAA+H8AAAAAAAD4fwAAAAAAAPh/\",\"dtype\":\"float64\",\"order\":\"little\",\"shape\":[129]}},\"selected\":{\"id\":\"2148\"},\"selection_policy\":{\"id\":\"2179\"}},\"id\":\"2147\",\"type\":\"ColumnDataSource\"},{\"attributes\":{},\"id\":\"2026\",\"type\":\"LinearScale\"},{\"attributes\":{\"mantissas\":[1,2,5],\"max_interval\":500.0,\"num_minor_ticks\":0},\"id\":\"2067\",\"type\":\"AdaptiveTicker\"},{\"attributes\":{},\"id\":\"2179\",\"type\":\"UnionRenderers\"},{\"attributes\":{},\"id\":\"2024\",\"type\":\"LinearScale\"},{\"attributes\":{\"days\":[1,2,3,4,5,6,7,8,9,10,11,12,13,14,15,16,17,18,19,20,21,22,23,24,25,26,27,28,29,30,31]},\"id\":\"2070\",\"type\":\"DaysTicker\"},{\"attributes\":{},\"id\":\"2148\",\"type\":\"Selection\"},{\"attributes\":{\"days\":[1,8,15,22]},\"id\":\"2072\",\"type\":\"DaysTicker\"},{\"attributes\":{\"line_color\":\"#1f77b3\",\"line_width\":2,\"x\":{\"field\":\"index\"},\"y\":{\"field\":\"value\"}},\"id\":\"2056\",\"type\":\"Line\"},{\"attributes\":{\"days\":[1,15]},\"id\":\"2073\",\"type\":\"DaysTicker\"},{\"attributes\":{\"line_color\":\"#ff7e0e\",\"line_width\":2,\"x\":{\"field\":\"index\"},\"y\":{\"field\":\"value\"}},\"id\":\"2086\",\"type\":\"Line\"},{\"attributes\":{\"children\":[{\"id\":\"2012\"},{\"id\":\"2019\"},{\"id\":\"2416\"}],\"margin\":[0,0,0,0],\"name\":\"Row02952\",\"tags\":[\"embedded\"]},\"id\":\"2011\",\"type\":\"Row\"},{\"attributes\":{\"bottom_units\":\"screen\",\"fill_alpha\":0.5,\"fill_color\":\"lightgrey\",\"left_units\":\"screen\",\"level\":\"overlay\",\"line_alpha\":1.0,\"line_color\":\"black\",\"line_dash\":[4,4],\"line_width\":2,\"right_units\":\"screen\",\"top_units\":\"screen\"},\"id\":\"2041\",\"type\":\"BoxAnnotation\"},{\"attributes\":{\"data\":{\"Variable\":[\"MSFT_actual\",\"MSFT_actual\",\"MSFT_actual\",\"MSFT_actual\",\"MSFT_actual\",\"MSFT_actual\",\"MSFT_actual\",\"MSFT_actual\",\"MSFT_actual\",\"MSFT_actual\",\"MSFT_actual\",\"MSFT_actual\",\"MSFT_actual\",\"MSFT_actual\",\"MSFT_actual\",\"MSFT_actual\",\"MSFT_actual\",\"MSFT_actual\",\"MSFT_actual\",\"MSFT_actual\",\"MSFT_actual\",\"MSFT_actual\",\"MSFT_actual\",\"MSFT_actual\",\"MSFT_actual\",\"MSFT_actual\",\"MSFT_actual\",\"MSFT_actual\",\"MSFT_actual\",\"MSFT_actual\",\"MSFT_actual\",\"MSFT_actual\",\"MSFT_actual\",\"MSFT_actual\",\"MSFT_actual\",\"MSFT_actual\",\"MSFT_actual\",\"MSFT_actual\",\"MSFT_actual\",\"MSFT_actual\",\"MSFT_actual\",\"MSFT_actual\",\"MSFT_actual\",\"MSFT_actual\",\"MSFT_actual\",\"MSFT_actual\",\"MSFT_actual\",\"MSFT_actual\",\"MSFT_actual\",\"MSFT_actual\",\"MSFT_actual\",\"MSFT_actual\",\"MSFT_actual\",\"MSFT_actual\",\"MSFT_actual\",\"MSFT_actual\",\"MSFT_actual\",\"MSFT_actual\",\"MSFT_actual\",\"MSFT_actual\",\"MSFT_actual\",\"MSFT_actual\",\"MSFT_actual\",\"MSFT_actual\",\"MSFT_actual\",\"MSFT_actual\",\"MSFT_actual\",\"MSFT_actual\",\"MSFT_actual\",\"MSFT_actual\",\"MSFT_actual\",\"MSFT_actual\",\"MSFT_actual\",\"MSFT_actual\",\"MSFT_actual\",\"MSFT_actual\",\"MSFT_actual\",\"MSFT_actual\",\"MSFT_actual\",\"MSFT_actual\",\"MSFT_actual\",\"MSFT_actual\",\"MSFT_actual\",\"MSFT_actual\",\"MSFT_actual\",\"MSFT_actual\",\"MSFT_actual\",\"MSFT_actual\",\"MSFT_actual\",\"MSFT_actual\",\"MSFT_actual\",\"MSFT_actual\",\"MSFT_actual\",\"MSFT_actual\",\"MSFT_actual\",\"MSFT_actual\",\"MSFT_actual\",\"MSFT_actual\",\"MSFT_actual\",\"MSFT_actual\",\"MSFT_actual\",\"MSFT_actual\",\"MSFT_actual\",\"MSFT_actual\",\"MSFT_actual\",\"MSFT_actual\",\"MSFT_actual\",\"MSFT_actual\",\"MSFT_actual\",\"MSFT_actual\",\"MSFT_actual\",\"MSFT_actual\",\"MSFT_actual\",\"MSFT_actual\",\"MSFT_actual\",\"MSFT_actual\",\"MSFT_actual\",\"MSFT_actual\",\"MSFT_actual\",\"MSFT_actual\",\"MSFT_actual\",\"MSFT_actual\",\"MSFT_actual\",\"MSFT_actual\",\"MSFT_actual\",\"MSFT_actual\",\"MSFT_actual\",\"MSFT_actual\",\"MSFT_actual\"],\"index\":{\"__ndarray__\":\"AABA1Dj2dkIAAAA6i/Z2QgAAQGuC93ZCAAAA0dT3dkIAAMA2J/h2QgAAgJx5+HZCAABAAsz4dkIAAIAzw/l2QgAAQJkV+nZCAAAA/2f6dkIAAMBkuvp2QgAAgMoM+3ZCAACAYVb8dkIAAEDHqPx2QgAAAC37/HZCAADAkk39dkIAAADERP52QgAAwCmX/nZCAACAj+n+dkIAAED1O/92QgAAAFuO/3ZCAABAjIUAd0IAAADy1wB3QgAAwFcqAXdCAACAvXwBd0IAAEAjzwF3QgAAgFTGAndCAABAuhgDd0IAAAAgawN3QgAAwIW9A3dCAACA6w8Ed0IAAICCWQV3QgAAQOirBXdCAAAATv4Fd0IAAMCzUAZ3QgAAAOVHB3dCAADASpoHd0IAAICw7Ad3QgAAQBY/CHdCAAAAfJEId0IAAECtiAl3QgAAABPbCXdCAADAeC0Kd0IAAIDefwp3QgAAQETSCndCAACAdckLd0IAAEDbGwx3QgAAAEFuDHdCAADApsAMd0IAAIAMEw13QgAAwD0KDndCAACAo1wOd0IAAEAJrw53QgAAAG8BD3dCAADA1FMPd0IAAAAGSxB3QgAAwGudEHdCAACA0e8Qd0IAAEA3QhF3QgAAAJ2UEXdCAABAzosSd0IAAAA03hJ3QgAAwJkwE3dCAACA/4ITd0IAAEBl1RN3QgAAgJbMFHdCAABA/B4Vd0IAAABicRV3QgAAwMfDFXdCAADAXg0Xd0IAAIDEXxd3QgAAQCqyF3dCAAAAkAQYd0IAAMD1Vhh3QgAAACdOGXdCAADAjKAZd0IAAIDy8hl3QgAAQFhFGndCAAAAvpcad0IAAEDvjht3QgAAAFXhG3dCAADAujMcd0IAAIAghhx3QgAAQIbYHHdCAACAt88dd0IAAEAdIh53QgAAAIN0HndCAADA6MYed0IAAIBOGR93QgAAwH8QIHdCAACA5WIgd0IAAEBLtSB3QgAAALEHIXdCAADAFlohd0IAAABIUSJ3QgAAwK2jIndCAACAE/Yid0IAAEB5SCN3QgAAAN+aI3dCAAAAduQkd0IAAMDbNiV3QgAAgEGJJXdCAABAp9sld0IAAIDY0iZ3QgAAQD4lJ3dCAAAApHcnd0IAAMAJyid3QgAAgG8cKHdCAADAoBMpd0IAAIAGZil3QgAAQGy4KXdCAAAA0goqd0IAAMA3XSp3QgAAAGlUK3dCAADAzqYrd0IAAIA0+St3QgAAQJpLLHdCAAAAAJ4sd0IAAEAxlS13QgAAAJfnLXdCAADA/Dkud0IAAIBijC53QgAAQMjeLndCAACA+dUvd0IAAEBfKDB3QgAAAMV6MHdCAADAKs0wd0IAAMDBFjJ3QgAAgCdpMndC\",\"dtype\":\"float64\",\"order\":\"little\",\"shape\":[129]},\"value\":{\"__ndarray__\":\"ZWZmZma2Y0CkcD0K1xNkQKNwPQrX02NAKFyPwvXgY0DD9Shcj7JjQHsUrkfhAmRAexSuR+FCZEB7FK5H4SpkQChcj8L1aGRAXI/C9ShEZED1KFyPwmVkQDwK16NwxWRAMzMzMzPjZEAAAAAAANBkQGVmZmZmtmRA16NwPQrXZEDgehSuR6FkQClcj8L1SGRAH4XrUbiuZEDhehSuRwFlQChcj8L1mGVAjsL1KFxHZUBbj8L1KMxlQKNwPQrXg2ZAzMzMzMx8ZkBcj8L1KPRmQBOuR+F6/GZAZ2ZmZmaWZ0CuR+F6FA5nQB6F61G4FmdAHoXrUbj2ZkAzMzMzMytnQI/C9ShcZ2dAKVyPwvVoZ0A8CtejcA1nQHsUrkfhUmZAE65H4XpcZUAK16NwPQJlQDwK16NwRWVA9Shcj8LFY0C3HoXrUUBkQOF6FK5HmWVAuB6F61GQZECZmZmZmVFlQHA9CtejyGRACtejcD0yZECkcD0K19NiQDwK16NwHWRAXI/C9Sg0Y0BSuB6F62FhQMP1KFyP2mNAPArXo3DtYEAJ16NwPVJiQMzMzMzMjGFAH4XrUbjWYUAyMzMzMythQI/C9Shc/2BAexSuR+GKYkA9CtejcF1iQOtRuB6Fg2NAZmZmZma2YkCPwvUoXAdkQB6F61G4tmNA61G4HoUDY0C4HoXrUWhjQMP1KFyPOmNAcD0K16OoZEBI4XoUrm9kQFuPwvUopGRAFK5H4XqkZEC3HoXrUbBkQGZmZmZmtmVAXI/C9Sh8ZUDhehSuRyFmQDIzMzMzU2ZAUrgehevhZUAK16NwPfpkQHE9CtejsGVAPArXo3BtZUCZmZmZmdFlQJmZmZmZwWVAUrgehes5ZUD2KFyPwi1mQB6F61G4ZmZACdejcD3SZUB7FK5H4VpmQLgehetRmGZA4HoUrkfRZkAyMzMzM/NmQPUoXI/CFWdASOF6FK5XZ0C4HoXrUdBmQAAAAAAAeGZAKVyPwvWQZkCE61G4HuVmQIXrUbgeHWdAXI/C9Sj0ZkCF61G4HjVnQPYoXI/C7WZAtx6F61HwZkAK16NwPbJmQFG4HoXruWZAzMzMzMysZkAAAAAAAOhmQML1KFyP2mZAhetRuB4dZ0DsUbgehStnQD0K16Nw3WZAZmZmZmZmZ0DrUbgehYtnQJqZmZmZuWdAexSuR+GaaEBxPQrXo0hnQEjhehSud2dArkfhehSeZ0AK16NwPTJoQEjhehSuR2hAC9ejcD2KaEDNzMzMzGRoQAvXo3A9EmlAhetRuB49aUB7FK5H4bpoQHsUrkfhCmlAw/UoXI+KaECuR+F6FM5oQLgehetRcGlAZmZmZmaWaUC3HoXrUchpQGdmZmZmVmpA\",\"dtype\":\"float64\",\"order\":\"little\",\"shape\":[129]}},\"selected\":{\"id\":\"2054\"},\"selection_policy\":{\"id\":\"2079\"}},\"id\":\"2053\",\"type\":\"ColumnDataSource\"},{\"attributes\":{\"label\":{\"value\":\"MSFT_actual\"},\"renderers\":[{\"id\":\"2059\"}]},\"id\":\"2082\",\"type\":\"LegendItem\"},{\"attributes\":{\"num_minor_ticks\":5,\"tickers\":[{\"id\":\"2067\"},{\"id\":\"2068\"},{\"id\":\"2069\"},{\"id\":\"2070\"},{\"id\":\"2071\"},{\"id\":\"2072\"},{\"id\":\"2073\"},{\"id\":\"2074\"},{\"id\":\"2075\"},{\"id\":\"2076\"},{\"id\":\"2077\"},{\"id\":\"2078\"}]},\"id\":\"2029\",\"type\":\"DatetimeTicker\"},{\"attributes\":{\"axis_label\":\"\",\"bounds\":\"auto\",\"formatter\":{\"id\":\"2052\"},\"major_label_orientation\":\"horizontal\",\"ticker\":{\"id\":\"2033\"}},\"id\":\"2032\",\"type\":\"LinearAxis\"},{\"attributes\":{},\"id\":\"2078\",\"type\":\"YearsTicker\"},{\"attributes\":{},\"id\":\"2111\",\"type\":\"UnionRenderers\"},{\"attributes\":{\"days\":[1,4,7,10,13,16,19,22,25,28]},\"id\":\"2071\",\"type\":\"DaysTicker\"},{\"attributes\":{\"margin\":[5,5,5,5],\"name\":\"HSpacer02956\",\"sizing_mode\":\"stretch_width\"},\"id\":\"2012\",\"type\":\"Spacer\"},{\"attributes\":{},\"id\":\"2054\",\"type\":\"Selection\"},{\"attributes\":{\"data_source\":{\"id\":\"2083\"},\"glyph\":{\"id\":\"2086\"},\"hover_glyph\":null,\"muted_glyph\":{\"id\":\"2088\"},\"nonselection_glyph\":{\"id\":\"2087\"},\"selection_glyph\":null,\"view\":{\"id\":\"2090\"}},\"id\":\"2089\",\"type\":\"GlyphRenderer\"},{\"attributes\":{\"axis\":{\"id\":\"2028\"},\"grid_line_color\":null,\"ticker\":null},\"id\":\"2031\",\"type\":\"Grid\"},{\"attributes\":{\"data\":{\"Variable\":[\"Close\",\"Close\",\"Close\",\"Close\",\"Close\",\"Close\",\"Close\",\"Close\",\"Close\",\"Close\",\"Close\",\"Close\",\"Close\",\"Close\",\"Close\",\"Close\",\"Close\",\"Close\",\"Close\",\"Close\",\"Close\",\"Close\",\"Close\",\"Close\",\"Close\",\"Close\",\"Close\",\"Close\",\"Close\",\"Close\",\"Close\",\"Close\",\"Close\",\"Close\",\"Close\",\"Close\",\"Close\",\"Close\",\"Close\",\"Close\",\"Close\",\"Close\",\"Close\",\"Close\",\"Close\",\"Close\",\"Close\",\"Close\",\"Close\",\"Close\",\"Close\",\"Close\",\"Close\",\"Close\",\"Close\",\"Close\",\"Close\",\"Close\",\"Close\",\"Close\",\"Close\",\"Close\",\"Close\",\"Close\",\"Close\",\"Close\",\"Close\",\"Close\",\"Close\",\"Close\",\"Close\",\"Close\",\"Close\",\"Close\",\"Close\",\"Close\",\"Close\",\"Close\",\"Close\",\"Close\",\"Close\",\"Close\",\"Close\",\"Close\",\"Close\",\"Close\",\"Close\",\"Close\",\"Close\",\"Close\",\"Close\",\"Close\",\"Close\",\"Close\",\"Close\",\"Close\",\"Close\",\"Close\",\"Close\",\"Close\",\"Close\",\"Close\",\"Close\",\"Close\",\"Close\",\"Close\",\"Close\",\"Close\",\"Close\",\"Close\",\"Close\",\"Close\",\"Close\",\"Close\",\"Close\",\"Close\",\"Close\",\"Close\",\"Close\",\"Close\",\"Close\",\"Close\",\"Close\",\"Close\",\"Close\",\"Close\",\"Close\",\"Close\",\"Close\"],\"index\":{\"__ndarray__\":\"AABA1Dj2dkIAAAA6i/Z2QgAAQGuC93ZCAAAA0dT3dkIAAMA2J/h2QgAAgJx5+HZCAABAAsz4dkIAAIAzw/l2QgAAQJkV+nZCAAAA/2f6dkIAAMBkuvp2QgAAgMoM+3ZCAACAYVb8dkIAAEDHqPx2QgAAAC37/HZCAADAkk39dkIAAADERP52QgAAwCmX/nZCAACAj+n+dkIAAED1O/92QgAAAFuO/3ZCAABAjIUAd0IAAADy1wB3QgAAwFcqAXdCAACAvXwBd0IAAEAjzwF3QgAAgFTGAndCAABAuhgDd0IAAAAgawN3QgAAwIW9A3dCAACA6w8Ed0IAAICCWQV3QgAAQOirBXdCAAAATv4Fd0IAAMCzUAZ3QgAAAOVHB3dCAADASpoHd0IAAICw7Ad3QgAAQBY/CHdCAAAAfJEId0IAAECtiAl3QgAAABPbCXdCAADAeC0Kd0IAAIDefwp3QgAAQETSCndCAACAdckLd0IAAEDbGwx3QgAAAEFuDHdCAADApsAMd0IAAIAMEw13QgAAwD0KDndCAACAo1wOd0IAAEAJrw53QgAAAG8BD3dCAADA1FMPd0IAAAAGSxB3QgAAwGudEHdCAACA0e8Qd0IAAEA3QhF3QgAAAJ2UEXdCAABAzosSd0IAAAA03hJ3QgAAwJkwE3dCAACA/4ITd0IAAEBl1RN3QgAAgJbMFHdCAABA/B4Vd0IAAABicRV3QgAAwMfDFXdCAADAXg0Xd0IAAIDEXxd3QgAAQCqyF3dCAAAAkAQYd0IAAMD1Vhh3QgAAACdOGXdCAADAjKAZd0IAAIDy8hl3QgAAQFhFGndCAAAAvpcad0IAAEDvjht3QgAAAFXhG3dCAADAujMcd0IAAIAghhx3QgAAQIbYHHdCAACAt88dd0IAAEAdIh53QgAAAIN0HndCAADA6MYed0IAAIBOGR93QgAAwH8QIHdCAACA5WIgd0IAAEBLtSB3QgAAALEHIXdCAADAFlohd0IAAABIUSJ3QgAAwK2jIndCAACAE/Yid0IAAEB5SCN3QgAAAN+aI3dCAAAAduQkd0IAAMDbNiV3QgAAgEGJJXdCAABAp9sld0IAAIDY0iZ3QgAAQD4lJ3dCAAAApHcnd0IAAMAJyid3QgAAgG8cKHdCAADAoBMpd0IAAIAGZil3QgAAQGy4KXdCAAAA0goqd0IAAMA3XSp3QgAAAGlUK3dCAADAzqYrd0IAAIA0+St3QgAAQJpLLHdCAAAAAJ4sd0IAAEAxlS13QgAAAJfnLXdCAADA/Dkud0IAAIBijC53QgAAQMjeLndCAACA+dUvd0IAAEBfKDB3QgAAAMV6MHdCAADAKs0wd0IAAMDBFjJ3QgAAgCdpMndC\",\"dtype\":\"float64\",\"order\":\"little\",\"shape\":[129]},\"value\":{\"__ndarray__\":\"AAAAAAAA+H8AAAAAAAD4fwAAAAAAAPh/AAAAAAAA+H8AAAAAAAD4fwAAAAAAAPh/AAAAAAAA+H8AAAAAAAD4fwAAAAAAAPh/AAAAAAAA+H8AAAAAAAD4fwAAAAAAAPh/AAAAAAAA+H8AAAAAAAD4fwAAAAAAAPh/AAAAAAAA+H8AAAAAAAD4fwAAAAAAAPh/AAAAAAAA+H8AAAAAAAD4fwAAAAAAAPh/AAAAAAAA+H8AAAAAAAD4fwAAAAAAAPh/AAAAAAAA+H8AAAAAAAD4fwAAAAAAAPh/AAAAAAAA+H8AAAAAAAD4fwAAAAAAAPh/AAAAAAAA+H8AAAAAAAD4fwAAAAAAAPh/AAAAAAAA+H8AAAAAAAD4fwAAAAAAAPh/AAAAAAAA+H8AAAAAAAD4fwAAAAAAAPh/AAAAAAAA+H8AAAAAAAD4fwAAAAAAAPh/AAAAAAAA+H8AAAAAAAD4fwAAAAAAAPh/AAAAAAAA+H8AAAAAAAD4fwAAAAAAAPh/AAAAAAAA+H8AAAAAAAD4fwAAAAAAAPh/AAAAAAAA+H8AAAAAAAD4fwAAAAAAAPh/AAAAAAAA+H8AAAAAAAD4fwAAAAAAAPh/AAAAAAAA+H8AAAAAAAD4fwAAAAAAAPh/AAAAAAAA+H8AAAAAAAD4fwAAAAAAAPh/AAAAAAAA+H8AAAAAAAD4fwAAAAAAAPh/AAAAAAAA+H8AAAAAAAD4fwAAAAAAAPh/AAAAAAAA+H8AAAAAAAD4fwAAAAAAAPh/AAAAAAAA+H8AAAAAAAD4fwAAAAAAAPh/AAAAAAAA+H8AAAAAAAD4fwAAAAAAAPh/AAAAAAAA+H8AAAAAAAD4fwAAAAAAAPh/AAAAAAAA+H8AAAAAAAD4fwAAAAAAAPh/AAAAAAAA+H8AAAAAAAD4fwAAAAAAAPh/AAAAAAAA+H8AAAAAAAD4fwAAAAAAAPh/AAAAAAAA+H8AAAAAAAD4fwAAAAAAAPh/AAAAAAAA+H8AAAAAAAD4fwAAAAAAAPh/AAAAAAAA+H8AAAAAAAD4fwAAAAAAAPh/AAAAAAAA+H8AAAAAAAD4fwAAAAAAAPh/AAAAAAAA+H8AAAAAAAD4fwAAAAAAAPh/AAAAAAAA+H8AAAAAAAD4fwAAAAAAAPh/AAAAAAAA+H8AAAAAAAD4fwAAAAAAAPh/AAAAAAAA+H8AAAAAAAD4fwAAAAAAAPh/AAAAAAAA+H8AAAAAAAD4fwAAAAAAAPh/AAAAAAAA+H8AAAAAAAD4fwAAAAAAAPh/AAAAAAAA+H8AAAAAAAD4fwAAAAAAAPh/AAAAAAAA+H8AAAAAAAD4fwAAAAAAAPh/AAAAAAAA+H8AAAAAAAD4fwAAAAAAAPh/\",\"dtype\":\"float64\",\"order\":\"little\",\"shape\":[129]}},\"selected\":{\"id\":\"2115\"},\"selection_policy\":{\"id\":\"2144\"}},\"id\":\"2114\",\"type\":\"ColumnDataSource\"},{\"attributes\":{\"source\":{\"id\":\"2083\"}},\"id\":\"2090\",\"type\":\"CDSView\"},{\"attributes\":{\"line_alpha\":0.2,\"line_color\":\"#ff7e0e\",\"line_width\":2,\"x\":{\"field\":\"index\"},\"y\":{\"field\":\"value\"}},\"id\":\"2088\",\"type\":\"Line\"},{\"attributes\":{\"line_alpha\":0.1,\"line_color\":\"#2ba02b\",\"line_width\":2,\"x\":{\"field\":\"index\"},\"y\":{\"field\":\"value\"}},\"id\":\"2118\",\"type\":\"Line\"}],\"root_ids\":[\"2011\"]},\"title\":\"Bokeh Application\",\"version\":\"2.1.1\"}};\n",
       "  var render_items = [{\"docid\":\"49f7f189-8f7a-46e4-95ee-b90de88fb7c2\",\"root_ids\":[\"2011\"],\"roots\":{\"2011\":\"9602df9d-3be5-4226-873e-5f7b59cb44c7\"}}];\n",
       "  root.Bokeh.embed.embed_items_notebook(docs_json, render_items);\n",
       "  }\n",
       "if (root.Bokeh !== undefined) {\n",
       "    embed_document(root);\n",
       "  } else {\n",
       "    var attempts = 0;\n",
       "    var timer = setInterval(function(root) {\n",
       "      if (root.Bokeh !== undefined) {\n",
       "        clearInterval(timer);\n",
       "        embed_document(root);\n",
       "      } else if (document.readyState == \"complete\") {\n",
       "        attempts++;\n",
       "        if (attempts > 100) {\n",
       "          clearInterval(timer);\n",
       "          console.log(\"Bokeh: ERROR: Unable to run BokehJS code because BokehJS library is missing\");\n",
       "        }\n",
       "      }\n",
       "    }, 10, root)\n",
       "  }\n",
       "})(window);</script>"
      ],
      "text/plain": [
       ":NdOverlay   [Variable]\n",
       "   :Curve   [index]   (value)"
      ]
     },
     "execution_count": 65,
     "metadata": {
      "application/vnd.holoviews_exec.v0+json": {
       "id": "2011"
      }
     },
     "output_type": "execute_result"
    }
   ],
   "source": [
    "import hvplot.pandas\n",
    "combined_df.hvplot(width=1200, height=600)"
   ]
  },
  {
   "cell_type": "code",
   "execution_count": null,
   "metadata": {},
   "outputs": [],
   "source": []
  }
 ],
 "metadata": {
  "kernelspec": {
   "display_name": "Python 3",
   "language": "python",
   "name": "python3"
  },
  "language_info": {
   "codemirror_mode": {
    "name": "ipython",
    "version": 3
   },
   "file_extension": ".py",
   "mimetype": "text/x-python",
   "name": "python",
   "nbconvert_exporter": "python",
   "pygments_lexer": "ipython3",
   "version": "3.7.7"
  }
 },
 "nbformat": 4,
 "nbformat_minor": 4
}
